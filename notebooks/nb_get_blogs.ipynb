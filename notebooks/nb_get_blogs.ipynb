{
 "cells": [
  {
   "cell_type": "markdown",
   "id": "88272d60-d79a-4d11-8528-d6338c98586b",
   "metadata": {
    "microsoft": {
     "language": "python",
     "language_group": "synapse_pyspark"
    },
    "nteract": {
     "transient": {
      "deleting": false
     }
    }
   },
   "source": [
    "# Get Blogs\n",
    "\n",
    "Get the new blog posts based on the latest feeds and store them in the lakehouse. \n",
    "\n",
    "## Library dependency\n",
    "\n",
    "- __[pyspark.sql.functions.regexp_replace](https://spark.apache.org/docs/latest/api/python/reference/pyspark.sql/api/pyspark.sql.functions.regexp_replace.html)__: Replace all substrings of the specified string value that match regexp with replacement.\n",
    "- __[trafilatura](https://pypi.org/project/trafilatura/0.5.0/)__: Trafilatura is Python package and command-line tool which seamlessly downloads, parses, and scrapes web page data: it can extract metadata, main body text and comments while preserving part of the text formatting and page structure. The output can be converted to different formats. _Requires installation_.\n",
    "- __[os](https://docs.python.org/3/library/os.html)__: This module provides a portable way of using operating system dependent functionality. \n",
    "- __[path](https://docs.python.org/3/library/pathlib.html)__: This module offers classes representing filesystem paths with semantics appropriate for different operating systems. Path classes are divided between pure paths, which provide purely computational operations without I/O, and concrete paths, which inherit from pure paths but also provide I/O operations.\n",
    "- __[pyspark.sql.types](https://spark.apache.org/docs/latest/api/python/reference/pyspark.sql/data_types.html)__: Define a schema structure and data types.\n"
   ]
  },
  {
   "cell_type": "code",
   "execution_count": null,
   "id": "8a964a7d-a5dd-4f70-bebd-d22d4343e144",
   "metadata": {
    "jupyter": {
     "outputs_hidden": false,
     "source_hidden": false
    },
    "microsoft": {
     "language": "python",
     "language_group": "synapse_pyspark"
    },
    "nteract": {
     "transient": {
      "deleting": false
     }
    }
   },
   "outputs": [],
   "source": [
    "%run CONFIG"
   ]
  },
  {
   "cell_type": "markdown",
   "id": "dc0ebe07-2f6b-4059-b17d-7d7d6b254511",
   "metadata": {
    "microsoft": {
     "language": "python",
     "language_group": "synapse_pyspark"
    },
    "nteract": {
     "transient": {
      "deleting": false
     }
    }
   },
   "source": [
    "## Retrieve new blog posts\n",
    "\n",
    "Retrieve new blog posts by joining the latest feeds with the _blog_post_ table. "
   ]
  },
  {
   "cell_type": "code",
   "execution_count": null,
   "id": "4ab3c7ac-5604-46aa-98d0-ef5d7dd08c90",
   "metadata": {
    "collapsed": false,
    "microsoft": {
     "language": "python",
     "language_group": "synapse_pyspark"
    },
    "ms_comment_ranges": {
     "73bce0d3-4346-4f5b-a840-8ff3c85ebffd": {
      "end": {
       "column": 38,
       "line": 2
      },
      "start": {
       "column": 36,
       "line": 2
      },
      "text": " #"
     }
    },
    "ms_comments": [
     {
      "createdDateUTC": 1727878968948,
      "modifiedDateUTC": 1727878968948,
      "replies": [],
      "status": "active",
      "text": "Solution to exclude /tv/ from URL is not ideal",
      "threadId": "73bce0d3-4346-4f5b-a840-8ff3c85ebffd",
      "user": {
       "idType": "aad",
       "name": "Bob"
      }
     }
    ]
   },
   "outputs": [],
   "source": [
    "#####################################\n",
    "# Check if there are new blog posts #\n",
    "#####################################\n",
    "\n",
    "from pyspark.sql.functions import regexp_replace\n",
    "\n",
    "# remove URLs that contain /tv/ as they are videos from SQL BI (TO BE CHANGED)\n",
    "# check if blog_posts table already exists. If yes, join feed with existing table to get only new blogs, otherwise get entire feeds table\n",
    "if spark.catalog.tableExists(\"blog_posts\") :\n",
    "    query = f\"SELECT f.title, f.author, f.blog, f.link, f.published FROM {lh_raw}.feeds f LEFT JOIN {lh_raw}.blog_posts p ON f.link = p.link WHERE p.link IS NULL AND f.link NOT LIKE '%/tv/%'\"\n",
    "else :\n",
    "    query = f\"SELECT title, author, blog, link, published FROM {lh_raw}.feeds WHERE link NOT LIKE '%/tv/%'\"\n",
    "\n",
    "feeds = spark.sql(query) \n",
    "\n",
    "# add new column to dataframe that has the title without spaces or special charactes, used for naming\n",
    "feeds = feeds.withColumn('ctitle', regexp_replace('title', '[^a-zA-Z0-9]', '')) # remove spaces and special characters from title\n",
    "\n",
    "display(feeds)"
   ]
  },
  {
   "cell_type": "markdown",
   "id": "cdc42038-0335-4269-8efc-252313fd1f30",
   "metadata": {
    "microsoft": {
     "language": "python",
     "language_group": "synapse_pyspark"
    },
    "nteract": {
     "transient": {
      "deleting": false
     }
    }
   },
   "source": [
    "## Function: get_blogpost\n",
    "\n",
    "Function to retrieve the contents of a given URL and return the text. "
   ]
  },
  {
   "cell_type": "code",
   "execution_count": null,
   "id": "9566b6b1-1d57-4b11-8e5c-e4b99c31a857",
   "metadata": {
    "jupyter": {
     "outputs_hidden": false,
     "source_hidden": false
    },
    "microsoft": {
     "language": "python",
     "language_group": "synapse_pyspark"
    },
    "nteract": {
     "transient": {
      "deleting": false
     }
    }
   },
   "outputs": [],
   "source": [
    "#########################\n",
    "# Function: get_article #\n",
    "#########################\n",
    "\n",
    "from trafilatura import fetch_url, extract\n",
    "\n",
    "def get_blogpost(url):\n",
    "    \"\"\"\n",
    "    Returns the text contents of a given URL as text.\n",
    "       \n",
    "    Args: \n",
    "        url (string): URL of the RSS feed to read.\n",
    "    Returns:\n",
    "        text (string): RSS feed content as text.\n",
    "    Library dependencies:\n",
    "        trafilatura\n",
    "    \"\"\"\n",
    "    # Extract article from a url\n",
    "    downloaded = fetch_url(url)\n",
    "    article = extract(downloaded, favor_precision=True)\n",
    "\n",
    "    return article\n"
   ]
  },
  {
   "cell_type": "markdown",
   "id": "377fe99f-4a0b-4bce-9d6d-d0dda5d9248d",
   "metadata": {
    "microsoft": {
     "language": "python",
     "language_group": "synapse_pyspark"
    },
    "nteract": {
     "transient": {
      "deleting": false
     }
    }
   },
   "source": [
    "## Get blog posts and store them\n",
    "\n"
   ]
  },
  {
   "cell_type": "code",
   "execution_count": null,
   "id": "7001742c-4d20-4350-bb7a-ee16e03281f8",
   "metadata": {
    "advisor": {
     "adviceMetadata": "{\"artifactId\":\"3b42a3c9-4cd3-4cf3-98ba-e9bb8713648f\",\"activityId\":\"3f6c5acb-3ed9-421b-8cd5-957919e22e2f\",\"applicationId\":\"application_1728291448391_0001\",\"jobGroupId\":\"16\",\"advices\":{\"error\":1}}"
    },
    "jupyter": {
     "outputs_hidden": false,
     "source_hidden": false
    },
    "microsoft": {
     "language": "python",
     "language_group": "synapse_pyspark"
    },
    "nteract": {
     "transient": {
      "deleting": false
     }
    }
   },
   "outputs": [],
   "source": [
    "#################################\n",
    "# Get blog posts and store them #\n",
    "#################################\n",
    "\n",
    "import os\n",
    "import pathlib\n",
    "from pyspark.sql.types import *\n",
    "\n",
    "# define schema for blog_posts table\n",
    "schema = StructType([\n",
    "  StructField('title', StringType(), True),\n",
    "  StructField('author', StringType(), True),\n",
    "  StructField('blog', StringType(), True),\n",
    "  StructField('link', StringType(), True),\n",
    "  StructField('post', StringType(), True),\n",
    "  StructField('post_length', StringType(), True),  \n",
    "  StructField('published', StringType(), True)\n",
    "  ])\n",
    "# create empty dataframe based on schema\n",
    "emptyRDD = spark.sparkContext.emptyRDD()\n",
    "df = spark.createDataFrame(emptyRDD,schema)\n",
    "\n",
    "# define default path to store blog posts\n",
    "path = \"/lakehouse/default/Files/blog_posts\"\n",
    "\n",
    "# loop through all the feeds and call the get_blogpost function for each blog post url\n",
    "for blog in feeds.collect() :\n",
    "    # call function\n",
    "    blogpost = get_blogpost(blog.link)\n",
    "\n",
    "    # if store_blog_posts is true (paramter can be set in CONFIG), then each blog is also stored as txt file in the lakehouse. \n",
    "    # check if blogpost has at least 1 character, as empty files lead to errors when indexing\n",
    "    # This can be used to train a custom chatGPT instance. \n",
    "    if (store_blog_posts == True) and (len(blogpost) > 0):\n",
    "        # define metadata to be added to txt file\n",
    "        blog_details = f\"[BlogTitleStart] {blog.title} [BlogTItleEnd]\\n[BlogUrlStart] {blog.link} [BlogUrlEnd]\\n\" \n",
    "\n",
    "        # create folder if it doesn't exist\n",
    "        pathlib.Path(f\"{path}/{blog.blog}\").mkdir(parents=True, exist_ok=True) \n",
    "        \n",
    "        try:\n",
    "            with open(f\"{path}/{blog.blog}/{blog.ctitle}.txt\", \"x\") as f:\n",
    "                # write metadata and blog post to file in the lakehouse\n",
    "                f.write(blog_details + blogpost)\n",
    "                print(f\"[Log] Stored blog as Files/blog_posts/{blog.blog}/{blog.blog}_{blog.ctitle}.txt\")\n",
    "                \n",
    "        except Exception as ex:\n",
    "            print(f\"[Error] Cloudn't store blog {blog.ctitle}: \" + str(ex))\n",
    "            pass\n",
    "\n",
    "    # independently of storing the blogs to txt files, they are added to a a dataframe\n",
    "    try:\n",
    "        row = spark.createDataFrame([(blog.title, blog.author, blog.blog, blog.link, blogpost, len(blogpost), blog.published)], schema)\n",
    "        df = df.union(row)\n",
    "    except Exception as ex:\n",
    "        print(f\"[Error] Cloudn't add blog {blog.ctitle} to dataframe: \" + str(ex))\n",
    "        pass\n",
    "    \n",
    "# store the new blog posts to the blog_posts table (append)\n",
    "df.write.format(\"delta\").mode(\"append\").saveAsTable(\"blog_posts\")"
   ]
  }
 ],
 "metadata": {
  "dependencies": {
   "lakehouse": {
    "default_lakehouse": "114e11be-bded-4e5c-aac5-fadce4a16499",
    "default_lakehouse_name": "lh_blogs_raw",
    "default_lakehouse_workspace_id": "c443e128-7455-41bd-a9c1-c2f293c133d3",
    "known_lakehouses": [
     {
      "id": "114e11be-bded-4e5c-aac5-fadce4a16499"
     }
    ]
   }
  },
  "kernel_info": {
   "name": "synapse_pyspark"
  },
  "kernelspec": {
   "display_name": "Synapse PySpark",
   "language": "Python",
   "name": "synapse_pyspark"
  },
  "language_info": {
   "name": "python"
  },
  "microsoft": {
   "language": "python",
   "language_group": "synapse_pyspark",
   "ms_spell_check": {
    "ms_spell_check_language": "en"
   }
  },
  "nteract": {
   "version": "nteract-front-end@1.0.0"
  },
  "spark_compute": {
   "compute_id": "/trident/default",
   "session_options": {
    "conf": {
     "spark.synapse.nbs.session.timeout": "1200000"
    }
   }
  },
  "synapse_widget": {
   "state": {
    "b971c126-4232-47e1-beee-0fade3df849e": {
     "persist_state": {
      "view": {
       "chartOptions": {
        "aggregationType": "count",
        "binsNumber": 10,
        "categoryFieldKeys": [
         "1"
        ],
        "chartType": "bar",
        "evaluatesOverAllRecords": false,
        "isStacked": false,
        "seriesFieldKeys": [
         "0"
        ],
        "wordFrequency": "-1"
       },
       "tableOptions": {},
       "type": "details"
      }
     },
     "sync_state": {
      "isSummary": false,
      "language": "scala",
      "table": {
       "rows": [
        {
         "0": "The Quality Problem: A Call-to-Arms",
         "1": "Kurt Buhler",
         "2": "DataGoblins",
         "3": "https://data-goblins.com/power-bi/quality",
         "4": "Thu, 04 Jan 2024 07:00:00 +0000",
         "5": "TheQualityProblemACalltoArms"
        },
        {
         "0": "Need some more goblins?",
         "1": "Kurt Buhler",
         "2": "DataGoblins",
         "3": "https://data-goblins.com/power-bi/2023",
         "4": "Tue, 19 Dec 2023 07:00:00 +0000",
         "5": "Needsomemoregoblins"
        },
        {
         "0": "Quantify the Savings of Best Practice Rules",
         "1": "MK",
         "2": "ElegantBI",
         "3": "https://www.elegantbi.com/post/bestpracticerulesavings",
         "4": "Tue, 23 Feb 2021 17:00:07 GMT",
         "5": "QuantifytheSavingsofBestPracticeRules"
        },
        {
         "0": "Automated Data Dictionary - Reinvented",
         "1": "MK",
         "2": "ElegantBI",
         "3": "https://www.elegantbi.com/post/datadictionaryreinvented",
         "4": "Mon, 08 Feb 2021 16:18:17 GMT",
         "5": "AutomatedDataDictionaryReinvented"
        },
        {
         "0": "Import VPAX Data into Tabular Editor",
         "1": "MK",
         "2": "ElegantBI",
         "3": "https://www.elegantbi.com/post/vpaxtotabulareditor",
         "4": "Mon, 18 Jan 2021 14:30:59 GMT",
         "5": "ImportVPAXDataintoTabularEditor"
        },
        {
         "0": "Advanced Filtering Examples in Tabular Editor",
         "1": "MK",
         "2": "ElegantBI",
         "3": "https://www.elegantbi.com/post/advancedfiltering",
         "4": "Mon, 14 Dec 2020 14:00:36 GMT",
         "5": "AdvancedFilteringExamplesinTabularEditor"
        },
        {
         "0": "Power BI Pro or Power BI Premium – what license should you choose?",
         "1": "Marthe Moengen",
         "2": "DATAASCEND",
         "3": "https://data-ascend.com/2023/02/15/power-bi-pro-or-power-bi-premium-what-license-should-you-choose/",
         "4": "Wed, 15 Feb 2023 08:47:52 +0000",
         "5": "PowerBIProorPowerBIPremiumwhatlicenseshouldyouchoose"
        },
        {
         "0": "Source Control in Power BI – What are your options?",
         "1": "Marthe Moengen",
         "2": "DATAASCEND",
         "3": "https://data-ascend.com/2023/02/01/source-control-in-power-bi-what-are-your-options/",
         "4": "Wed, 01 Feb 2023 09:39:00 +0000",
         "5": "SourceControlinPowerBIWhatareyouroptions"
        },
        {
         "0": "Convert Data Sources for Premium Migration",
         "1": "MK",
         "2": "ElegantBI",
         "3": "https://www.elegantbi.com/post/convertdatasources",
         "4": "Mon, 26 Jul 2021 14:01:03 GMT",
         "5": "ConvertDataSourcesforPremiumMigration"
        },
        {
         "0": "Migrating Report-Level Measures to the Model",
         "1": "MK",
         "2": "ElegantBI",
         "3": "https://www.elegantbi.com/post/reportlevelmeasures",
         "4": "Mon, 21 Jun 2021 13:22:47 GMT",
         "5": "MigratingReportLevelMeasurestotheModel"
        },
        {
         "0": "Export Best Practice Analyzer Results",
         "1": "MK",
         "2": "ElegantBI",
         "3": "https://www.elegantbi.com/post/exportbparesults",
         "4": "Mon, 24 May 2021 14:00:44 GMT",
         "5": "ExportBestPracticeAnalyzerResults"
        },
        {
         "0": "The Best Way to Manage Descriptions",
         "1": "MK",
         "2": "ElegantBI",
         "3": "https://www.elegantbi.com/post/descriptions",
         "4": "Mon, 26 Apr 2021 13:00:48 GMT",
         "5": "TheBestWaytoManageDescriptions"
        },
        {
         "0": "Direct Lake Migration",
         "1": "MK",
         "2": "ElegantBI",
         "3": "https://www.elegantbi.com/post/direct-lake-migration",
         "4": "Mon, 01 Apr 2024 14:20:15 GMT",
         "5": "DirectLakeMigration"
        },
        {
         "0": "Processing Unprocessed Objects",
         "1": "MK",
         "2": "ElegantBI",
         "3": "https://www.elegantbi.com/post/processobjects",
         "4": "Mon, 13 Jun 2022 13:31:05 GMT",
         "5": "ProcessingUnprocessedObjects"
        },
        {
         "0": "What are Dataflows Gen 2 in Fabric?",
         "1": "Marthe Moengen",
         "2": "DATAASCEND",
         "3": "https://data-ascend.com/2023/06/16/what-are-dataflows-gen-2-in-fabric/",
         "4": "Fri, 16 Jun 2023 07:51:50 +0000",
         "5": "WhatareDataflowsGen2inFabric"
        },
        {
         "0": "Cancelling a Power BI Data Refresh Using Azure DevOps",
         "1": "MK",
         "2": "ElegantBI",
         "3": "https://www.elegantbi.com/post/canceldatarefreshado",
         "4": "Tue, 06 Apr 2021 13:56:09 GMT",
         "5": "CancellingaPowerBIDataRefreshUsingAzureDevOps"
        },
        {
         "0": "Data Refresh in Tabular Editor",
         "1": "MK",
         "2": "ElegantBI",
         "3": "https://www.elegantbi.com/post/datarefreshintabulareditor",
         "4": "Wed, 17 Mar 2021 14:00:37 GMT",
         "5": "DataRefreshinTabularEditor"
        },
        {
         "0": "Join WITs Who Lunch on Meetup!",
         "1": "Marthe Moengen",
         "2": "DATAASCEND",
         "3": "https://data-ascend.com/2023/10/02/join-wits-who-lunch-on-meetup/",
         "4": "Mon, 02 Oct 2023 06:51:06 +0000",
         "5": "JoinWITsWhoLunchonMeetup"
        },
        {
         "0": "Report Analyzer",
         "1": "MK",
         "2": "ElegantBI",
         "3": "https://www.elegantbi.com/post/reportanalyzer",
         "4": "Mon, 18 Oct 2021 13:01:20 GMT",
         "5": "ReportAnalyzer"
        },
        {
         "0": "Export Power BI Report Objects",
         "1": "MK",
         "2": "ElegantBI",
         "3": "https://www.elegantbi.com/post/exportreportobjects",
         "4": "Mon, 23 Aug 2021 13:30:05 GMT",
         "5": "ExportPowerBIReportObjects"
        },
        {
         "0": "Cancelling a Dataset Refresh Using Tabular Editor",
         "1": "MK",
         "2": "ElegantBI",
         "3": "https://www.elegantbi.com/post/canceldatarefreshte",
         "4": "Tue, 09 Mar 2021 15:00:20 GMT",
         "5": "CancellingaDatasetRefreshUsingTabularEditor"
        },
        {
         "0": "Cancelling a Power BI Premium Dataset Refresh",
         "1": "MK",
         "2": "ElegantBI",
         "3": "https://www.elegantbi.com/post/canceldatarefresh",
         "4": "Thu, 04 Mar 2021 15:00:51 GMT",
         "5": "CancellingaPowerBIPremiumDatasetRefresh"
        },
        {
         "0": "Rectifying the Misconceptions of XMLA Read/Write",
         "1": "MK",
         "2": "ElegantBI",
         "3": "https://www.elegantbi.com/post/xmlamisconceptions",
         "4": "Mon, 02 May 2022 13:01:58 GMT",
         "5": "RectifyingtheMisconceptionsofXMLAReadWrite"
        },
        {
         "0": "Report Analyzer Recos",
         "1": "MK",
         "2": "ElegantBI",
         "3": "https://www.elegantbi.com/post/reportanalyzerrecos",
         "4": "Mon, 01 Nov 2021 14:00:43 GMT",
         "5": "ReportAnalyzerRecos"
        },
        {
         "0": "Automated Data Dictionary via Excel",
         "1": "MK",
         "2": "ElegantBI",
         "3": "https://www.elegantbi.com/post/datadictionaryexcel",
         "4": "Tue, 20 Apr 2021 12:00:59 GMT",
         "5": "AutomatedDataDictionaryviaExcel"
        },
        {
         "0": "Processing Manager",
         "1": "MK",
         "2": "ElegantBI",
         "3": "https://www.elegantbi.com/post/processingmanager",
         "4": "Mon, 12 Apr 2021 13:29:55 GMT",
         "5": "ProcessingManager"
        },
        {
         "0": "WITs who Lunch",
         "1": "Marthe Moengen",
         "2": "DATAASCEND",
         "3": "https://data-ascend.com/2023/04/11/wits-who-lunch/",
         "4": "Tue, 11 Apr 2023 07:44:44 +0000",
         "5": "WITswhoLunch"
        },
        {
         "0": "REFRAME in Power BI Direct Lake",
         "1": "Reza Rad",
         "2": "RADACAD",
         "3": "https://radacad.com/reframe-in-power-bi-direct-lake",
         "4": "Mon, 09 Sep 2024 12:31:18 +0000",
         "5": "REFRAMEinPowerBIDirectLake"
        },
        {
         "0": "Comparing calculation options in Power BI, including Visual Calculations",
         "1": "Marc",
         "2": "DataMarc",
         "3": "https://data-marc.com/2024/07/18/comparing-calculation-options-in-power-bi-including-visual-calculations/",
         "4": "Thu, 18 Jul 2024 15:06:59 +0000",
         "5": "ComparingcalculationoptionsinPowerBIincludingVisualCalculations"
        },
        {
         "0": "Gotcha’s of bringing Dataverse data into Microsoft Fabric",
         "1": "Marc",
         "2": "DataMarc",
         "3": "https://data-marc.com/2024/06/11/gotchas-of-bringing-dataverse-data-into-microsoft-fabric/",
         "4": "Tue, 11 Jun 2024 15:41:44 +0000",
         "5": "GotchasofbringingDataversedataintoMicrosoftFabric"
        },
        {
         "0": "Microsoft Fabric Glossary",
         "1": "Reza Rad",
         "2": "RADACAD",
         "3": "https://radacad.com/microsoft-fabric-glossary",
         "4": "Mon, 22 Jul 2024 21:58:10 +0000",
         "5": "MicrosoftFabricGlossary"
        },
        {
         "0": "High School Football training guide – Part 2",
         "1": "cfinlan",
         "2": "ChristopherFinlan",
         "3": "https://christopherfinlan.com/2023/07/01/high-school-football-training-guide-part-2/",
         "4": "Sat, 01 Jul 2023 12:00:00 +0000",
         "5": "HighSchoolFootballtrainingguidePart2"
        },
        {
         "0": "High School Football training guide – Part 3",
         "1": "cfinlan",
         "2": "ChristopherFinlan",
         "3": "https://christopherfinlan.com/2023/07/02/high-school-football-training-guide-part-3/",
         "4": "Sun, 02 Jul 2023 12:00:00 +0000",
         "5": "HighSchoolFootballtrainingguidePart3"
        },
        {
         "0": "Purchasing Fabric Capacities as Reserved Instance",
         "1": "Marc",
         "2": "DataMarc",
         "3": "https://data-marc.com/2024/09/09/purchasing-fabric-capacities-as-reserved-instance/",
         "4": "Mon, 09 Sep 2024 12:13:09 +0000",
         "5": "PurchasingFabricCapacitiesasReservedInstance"
        },
        {
         "0": "Is Data Mesh your enabler, or is it just creating a data mess?",
         "1": "Marthe Moengen",
         "2": "DATAASCEND",
         "3": "https://data-ascend.com/2023/10/31/is-data-mesh-your-enabler-or-is-it-just-creating-a-data-mess/",
         "4": "Tue, 31 Oct 2023 07:46:25 +0000",
         "5": "IsDataMeshyourenablerorisitjustcreatingadatamess"
        },
        {
         "0": "Power BI and Fabric capacities: Understand the difference and cost structure",
         "1": "Marc",
         "2": "DataMarc",
         "3": "https://data-marc.com/2024/06/24/power-bi-and-fabric-capacities-understand-the-difference-and-cost-structure/",
         "4": "Mon, 24 Jun 2024 10:10:19 +0000",
         "5": "PowerBIandFabriccapacitiesUnderstandthedifferenceandcoststructure"
        },
        {
         "0": "Dirty Harry: A Model Cop or A Symbol of Unchecked Aggression?",
         "1": "cfinlan",
         "2": "ChristopherFinlan",
         "3": "https://christopherfinlan.com/2023/08/13/dirty-harry-a-model-cop-or-a-symbol-of-unchecked-aggression/",
         "4": "Sun, 13 Aug 2023 12:00:00 +0000",
         "5": "DirtyHarryAModelCoporASymbolofUncheckedAggression"
        },
        {
         "0": "How to stop/fix Mirroring to a database in Microsoft Fabric",
         "1": "Gilbert Quevauvilliers",
         "2": "fourmoo",
         "3": "https://www.fourmoo.com/2024/07/18/how-to-stop-fix-mirroring-to-a-database-in-microsoft-fabric/",
         "4": "Wed, 17 Jul 2024 20:00:00 +0000",
         "5": "HowtostopfixMirroringtoadatabaseinMicrosoftFabric"
        },
        {
         "0": "Fabric Community Conference Europe Recap",
         "1": "Microsoft Fabric Updates Blog",
         "2": "MicrosoftFabricUpdatesBlog",
         "3": "https://blog.fabric.microsoft.com/en-GB/blog/fabric-community-conference-europe-recap/",
         "4": "Fri, 04 Oct 2024 12:30:00 Z",
         "5": "FabricCommunityConferenceEuropeRecap"
        },
        {
         "0": "Reggie Jackson: A Childhood Hero and Baseball Legend",
         "1": "cfinlan",
         "2": "ChristopherFinlan",
         "3": "https://christopherfinlan.com/2023/08/14/reggie-jackson-a-childhood-hero-and-baseball-legend/",
         "4": "Mon, 14 Aug 2023 12:00:00 +0000",
         "5": "ReggieJacksonAChildhoodHeroandBaseballLegend"
        },
        {
         "0": "Sync two slicers without bi-directional relationships in Power BI",
         "1": "Marc",
         "2": "DataMarc",
         "3": "https://data-marc.com/2024/09/17/sync-two-slicers-without-bi-directional-relationships-in-power-bi/",
         "4": "Tue, 17 Sep 2024 09:56:19 +0000",
         "5": "SynctwoslicerswithoutbidirectionalrelationshipsinPowerBI"
        },
        {
         "0": "DAX Pareto Calculation",
         "1": "Phil Seamark",
         "2": "PhilSeamarkonDAX",
         "3": "https://dax.tips/2023/04/17/dax-pareto-calculation/",
         "4": "Sun, 16 Apr 2023 21:54:54 +0000",
         "5": "DAXParetoCalculation"
        },
        {
         "0": "Speed up Distinct Count calculations in Power BI using Aggregations",
         "1": "Phil Seamark",
         "2": "PhilSeamarkonDAX",
         "3": "https://dax.tips/2023/02/23/speed-up-distinct-count-calculations-in-power-bi-using-aggregations/",
         "4": "Wed, 22 Feb 2023 22:45:02 +0000",
         "5": "SpeedupDistinctCountcalculationsinPowerBIusingAggregations"
        },
        {
         "0": "Use Fabric Notebook to monitor Power BI semantic models",
         "1": "Phil Seamark",
         "2": "PhilSeamarkonDAX",
         "3": "https://dax.tips/2023/12/10/use-fabric-notebook-to-monitor-power-bi-semantic-models/",
         "4": "Sun, 10 Dec 2023 07:45:10 +0000",
         "5": "UseFabricNotebooktomonitorPowerBIsemanticmodels"
        },
        {
         "0": "The Misplaced Redemption of “Buck Rogers in the 25th Century” Season Two: The Hawk Dilemma",
         "1": "cfinlan",
         "2": "ChristopherFinlan",
         "3": "https://christopherfinlan.com/2024/02/17/the-misplaced-redemption-of-buck-rogers-in-the-25th-century-season-two-the-hawk-dilemma/",
         "4": "Sat, 17 Feb 2024 14:00:00 +0000",
         "5": "TheMisplacedRedemptionofBuckRogersinthe25thCenturySeasonTwoTheHawkDilemma"
        },
        {
         "0": "Semantic-Link-Labs – Automate updating your Incremental Refresh Policy for your Semantic Model",
         "1": "Gilbert Quevauvilliers",
         "2": "fourmoo",
         "3": "https://www.fourmoo.com/2024/07/10/semantic-link-labs-automate-updating-your-incremental-refresh-policy-for-your-semantic-model/",
         "4": "Tue, 09 Jul 2024 20:00:00 +0000",
         "5": "SemanticLinkLabsAutomateupdatingyourIncrementalRefreshPolicyforyourSemanticModel"
        },
        {
         "0": "High School Football training guide – Part 1",
         "1": "cfinlan",
         "2": "ChristopherFinlan",
         "3": "https://christopherfinlan.com/2023/06/30/high-school-football-training-guide-part-1/",
         "4": "Fri, 30 Jun 2023 12:00:00 +0000",
         "5": "HighSchoolFootballtrainingguidePart1"
        },
        {
         "0": "Advanced Power BI Data Security: Row-Level Security and Data Masking Strategies with Code Samples",
         "1": "cfinlan",
         "2": "ChristopherFinlan",
         "3": "https://christopherfinlan.com/2023/06/26/advanced-power-bi-data-security-row-level-security-and-data-masking-strategies-with-code-samples/",
         "4": "Mon, 26 Jun 2023 12:00:00 +0000",
         "5": "AdvancedPowerBIDataSecurityRowLevelSecurityandDataMaskingStrategieswithCodeSamples"
        },
        {
         "0": "Migrate Power BI Dataflow Gen1 to Fabric Dataflow Gen2",
         "1": "Reza Rad",
         "2": "RADACAD",
         "3": "https://radacad.com/migrate-power-bi-dataflow-gen1-to-fabric-dataflow-gen2",
         "4": "Wed, 11 Sep 2024 13:42:21 +0000",
         "5": "MigratePowerBIDataflowGen1toFabricDataflowGen2"
        },
        {
         "0": "Using a Service Principal to get all Entra ID Group Members into JSON File using a Python Notebook",
         "1": "Gilbert Quevauvilliers",
         "2": "fourmoo",
         "3": "https://www.fourmoo.com/2024/09/18/using-a-service-principal-to-get-all-entra-id-group-members-into-json-file-using-a-python-notebook/",
         "4": "Tue, 17 Sep 2024 20:00:00 +0000",
         "5": "UsingaServicePrincipaltogetallEntraIDGroupMembersintoJSONFileusingaPythonNotebook"
        },
        {
         "0": "How to get data from a Fabric Lakehouse File into Power BI Desktop – Using Scanner API JSON",
         "1": "Gilbert Quevauvilliers",
         "2": "fourmoo",
         "3": "https://www.fourmoo.com/2024/08/28/how-to-get-data-from-a-fabric-lakehouse-file-into-power-bi-desktop-using-scanner-api-json/",
         "4": "Tue, 27 Aug 2024 20:00:00 +0000",
         "5": "HowtogetdatafromaFabricLakehouseFileintoPowerBIDesktopUsingScannerAPIJSON"
        },
        {
         "0": "Downloading Scanner API data using a Microsoft Fabric Notebook",
         "1": "Gilbert Quevauvilliers",
         "2": "fourmoo",
         "3": "https://www.fourmoo.com/2024/08/21/downloading-scanner-api-data-using-a-microsoft-fabric-notebook/",
         "4": "Tue, 20 Aug 2024 20:00:00 +0000",
         "5": "DownloadingScannerAPIdatausingaMicrosoftFabricNotebook"
        },
        {
         "0": "Create charts using Vega in Microsoft Fabric Notebook",
         "1": "Phil Seamark",
         "2": "PhilSeamarkonDAX",
         "3": "https://dax.tips/2023/12/05/create-charts-using-vega-in-microsoft-fabric-notebook/",
         "4": "Tue, 05 Dec 2023 05:00:48 +0000",
         "5": "CreatechartsusingVegainMicrosoftFabricNotebook"
        },
        {
         "0": "Visualizing Spark Execution Plans",
         "1": "Gerhard Brueckl",
         "2": "GerhardBruecklonBIData",
         "3": "https://blog.gbrueckl.at/2024/04/visualizing-spark-execution-plans/",
         "4": "Tue, 30 Apr 2024 12:42:40 +0000",
         "5": "VisualizingSparkExecutionPlans"
        },
        {
         "0": "Fabric CI/CD with Git deployment and release strategies",
         "1": "Marc",
         "2": "DataMarc",
         "3": "https://data-marc.com/2024/07/09/fabric-ci-cd-with-git-deployment-and-release-strategies/",
         "4": "Tue, 09 Jul 2024 10:34:53 +0000",
         "5": "FabricCICDwithGitdeploymentandreleasestrategies"
        },
        {
         "0": "Fabric Git branching with the new branch-out option how it works and what you should keep in mind",
         "1": "Marc",
         "2": "DataMarc",
         "3": "https://data-marc.com/2024/06/25/fabric-git-branching-with-the-new-branch-out-option-how-it-works-and-what-you-should-keep-in-mind/",
         "4": "Tue, 25 Jun 2024 10:02:35 +0000",
         "5": "FabricGitbranchingwiththenewbranchoutoptionhowitworksandwhatyoushouldkeepinmind"
        },
        {
         "0": "Roles in a Data Analytics Team",
         "1": "Reza Rad",
         "2": "RADACAD",
         "3": "https://radacad.com/roles-in-a-data-analytics-team",
         "4": "Wed, 07 Aug 2024 11:33:05 +0000",
         "5": "RolesinaDataAnalyticsTeam"
        },
        {
         "0": "Building a Data Analytics Team in this golden era of technology",
         "1": "Reza Rad",
         "2": "RADACAD",
         "3": "https://radacad.com/building-a-data-analytics-team-in-this-golden-era-of-technology",
         "4": "Sun, 04 Aug 2024 03:03:09 +0000",
         "5": "BuildingaDataAnalyticsTeaminthisgoldeneraoftechnology"
        },
        {
         "0": "Did you know external (Guest) users can connect to your Semantic Model using Excel?",
         "1": "Gilbert Quevauvilliers",
         "2": "fourmoo",
         "3": "https://www.fourmoo.com/2024/09/04/did-you-know-external-guest-users-can-connect-to-your-semantic-model-using-excel/",
         "4": "Tue, 03 Sep 2024 20:00:00 +0000",
         "5": "DidyouknowexternalGuestuserscanconnecttoyourSemanticModelusingExcel"
        },
        {
         "0": "Microsoft Certification Exams for Power BI and Fabric",
         "1": "Reza Rad",
         "2": "RADACAD",
         "3": "https://radacad.com/microsoft-certification-exams-for-power-bi-and-fabric",
         "4": "Wed, 02 Oct 2024 02:19:43 +0000",
         "5": "MicrosoftCertificationExamsforPowerBIandFabric"
        },
        {
         "0": "Intro to Power BI Aggregations",
         "1": "Phil Seamark",
         "2": "PhilSeamarkonDAX",
         "3": "https://dax.tips/2021/09/06/intro-to-power-bi-aggregations/",
         "4": "Mon, 06 Sep 2021 00:00:05 +0000",
         "5": "IntrotoPowerBIAggregations"
        },
        {
         "0": "DAX : Count number of last known state",
         "1": "Phil Seamark",
         "2": "PhilSeamarkonDAX",
         "3": "https://dax.tips/2021/05/17/dax-count-number-of-last-known-state/",
         "4": "Mon, 17 May 2021 00:52:12 +0000",
         "5": "DAXCountnumberoflastknownstate"
        },
        {
         "0": "Copilot in Fabric Data Warehouse: Magic in T-SQL",
         "1": "Reza Rad",
         "2": "RADACAD",
         "3": "https://radacad.com/copilot-in-fabric-data-warehouse-magic-in-t-sql",
         "4": "Mon, 01 Jul 2024 19:43:56 +0000",
         "5": "CopilotinFabricDataWarehouseMagicinTSQL"
        },
        {
         "0": "What is Spark in Microsoft Fabric?",
         "1": "Reza Rad",
         "2": "RADACAD",
         "3": "https://radacad.com/what-is-spark-in-microsoft-fabric",
         "4": "Wed, 19 Jun 2024 08:42:13 +0000",
         "5": "WhatisSparkinMicrosoftFabric"
        },
        {
         "0": "Loading Fabric Lakehouse Tables with partitions",
         "1": "Gilbert Quevauvilliers",
         "2": "fourmoo",
         "3": "https://www.fourmoo.com/2024/07/03/loading-fabric-lakehouse-tables-with-partitions/",
         "4": "Tue, 02 Jul 2024 20:00:00 +0000",
         "5": "LoadingFabricLakehouseTableswithpartitions"
        },
        {
         "0": "Easily scale up or scale down your Fabric Capacity using Power Automate (Via email)",
         "1": "Gilbert Quevauvilliers",
         "2": "fourmoo",
         "3": "https://www.fourmoo.com/2024/06/26/easily-scale-up-or-scale-down-your-fabric-capacity-using-power-automate-via-email/",
         "4": "Tue, 25 Jun 2024 20:00:00 +0000",
         "5": "EasilyscaleuporscaledownyourFabricCapacityusingPowerAutomateViaemail"
        },
        {
         "0": "How to view or track the progress of Notebook while it is running in Microsoft Fabric",
         "1": "Gilbert Quevauvilliers",
         "2": "fourmoo",
         "3": "https://www.fourmoo.com/2024/09/26/how-to-view-or-track-the-progress-of-notebook-while-it-is-running-in-microsoft-fabric/",
         "4": "Wed, 25 Sep 2024 20:00:00 +0000",
         "5": "HowtoviewortracktheprogressofNotebookwhileitisrunninginMicrosoftFabric"
        },
        {
         "0": "Different Ways To Create Synonyms In Power BI Copilot",
         "1": "Chris Webb",
         "2": "ChrisWebbsBIBlog",
         "3": "https://blog.crossjoin.co.uk/2024/10/06/different-ways-to-create-synonyms-in-power-bi-copilot/?utm_source=rss&utm_medium=rss&utm_campaign=different-ways-to-create-synonyms-in-power-bi-copilot",
         "4": "Sun, 06 Oct 2024 18:51:53 +0000",
         "5": "DifferentWaysToCreateSynonymsInPowerBICopilot"
        },
        {
         "0": "How do you set up your Data Governance in Microsoft Fabric?",
         "1": "Marthe Moengen",
         "2": "DATAASCEND",
         "3": "https://data-ascend.com/2023/10/11/how-do-you-set-up-your-data-governance-in-microsoft-fabric/",
         "4": "Wed, 11 Oct 2023 07:48:00 +0000",
         "5": "HowdoyousetupyourDataGovernanceinMicrosoftFabric"
        },
        {
         "0": "What is OneLake in Microsoft Fabric?",
         "1": "Marthe Moengen",
         "2": "DATAASCEND",
         "3": "https://data-ascend.com/2023/10/04/what-is-onelake-in-microsoft-fabric/",
         "4": "Wed, 04 Oct 2023 07:25:59 +0000",
         "5": "WhatisOneLakeinMicrosoftFabric"
        },
        {
         "0": "Visualize Power BI Refresh using Semantic-link",
         "1": "Phil Seamark",
         "2": "PhilSeamarkonDAX",
         "3": "https://dax.tips/2023/12/05/visualize-power-bi-refresh-using-sempy/",
         "4": "Tue, 05 Dec 2023 03:14:23 +0000",
         "5": "VisualizePowerBIRefreshusingSemanticlink"
        },
        {
         "0": "Power BI Multiple Aggregations tables",
         "1": "Phil Seamark",
         "2": "PhilSeamarkonDAX",
         "3": "https://dax.tips/2021/09/21/power-bi-multiple-aggregations-tables/",
         "4": "Mon, 20 Sep 2021 22:41:31 +0000",
         "5": "PowerBIMultipleAggregationstables"
        },
        {
         "0": "Power BI Storage Modes for Aggregations",
         "1": "Phil Seamark",
         "2": "PhilSeamarkonDAX",
         "3": "https://dax.tips/2021/10/11/power-bi-storage-modes-for-aggregations/",
         "4": "Sun, 10 Oct 2021 21:46:31 +0000",
         "5": "PowerBIStorageModesforAggregations"
        },
        {
         "0": "SCD Type 2 in Microsoft Fabric and Power BI",
         "1": "Reza Rad",
         "2": "RADACAD",
         "3": "https://radacad.com/scd-type-2-in-microsoft-fabric-and-power-bi",
         "4": "Wed, 17 Jul 2024 16:20:33 +0000",
         "5": "SCDType2inMicrosoftFabricandPowerBI"
        },
        {
         "0": "Improving Semantic Model Documentation with AI in Power BI",
         "1": "Marc",
         "2": "DataMarc",
         "3": "https://data-marc.com/2024/05/21/improving-semantic-model-documentation-with-ai-in-power-bi/",
         "4": "Tue, 21 May 2024 18:18:56 +0000",
         "5": "ImprovingSemanticModelDocumentationwithAIinPowerBI"
        },
        {
         "0": "Orchestrate Power BI Semantic model refreshes through Fabric Pipelines",
         "1": "Marc",
         "2": "DataMarc",
         "3": "https://data-marc.com/2024/04/16/orchestrate-power-bi-semantic-model-refreshes-through-fabric-pipelines/",
         "4": "Tue, 16 Apr 2024 16:00:21 +0000",
         "5": "OrchestratePowerBISemanticmodelrefreshesthroughFabricPipelines"
        },
        {
         "0": "How to read a Lakehouse table in another App Workspace – Microsoft Fabric",
         "1": "Gilbert Quevauvilliers",
         "2": "fourmoo",
         "3": "https://www.fourmoo.com/2024/08/07/how-to-read-a-lakehouse-table-in-another-app-workspace-microsoft-fabric/",
         "4": "Tue, 06 Aug 2024 20:00:00 +0000",
         "5": "HowtoreadaLakehousetableinanotherAppWorkspaceMicrosoftFabric"
        },
        {
         "0": "SCD: Slowly Changing Dimension, an Ultimate Guide",
         "1": "Reza Rad",
         "2": "RADACAD",
         "3": "https://radacad.com/scd-slowly-changing-dimension-an-ultimate-guide",
         "4": "Tue, 16 Jul 2024 11:10:02 +0000",
         "5": "SCDSlowlyChangingDimensionanUltimateGuide"
        },
        {
         "0": "How to set table or matrix column widths in a Power BI report",
         "1": "Kurt Buhler",
         "2": "DataGoblins",
         "3": "https://data-goblins.com/power-bi/set-column-widths",
         "4": "Tue, 29 Aug 2023 06:00:00 +0000",
         "5": "HowtosettableormatrixcolumnwidthsinaPowerBIreport"
        },
        {
         "0": "Analyze Video Game Data for Personal Data Projects",
         "1": "Kurt Buhler",
         "2": "DataGoblins",
         "3": "https://data-goblins.com/power-bi/video-games",
         "4": "Tue, 22 Aug 2023 06:00:00 +0000",
         "5": "AnalyzeVideoGameDataforPersonalDataProjects"
        },
        {
         "0": "Solve the Right Problems",
         "1": "Kurt Buhler",
         "2": "DataGoblins",
         "3": "https://data-goblins.com/power-bi/solving-problems",
         "4": "Wed, 02 Aug 2023 06:00:00 +0000",
         "5": "SolvetheRightProblems"
        },
        {
         "0": "Format Power Query in Power BI (Updated)",
         "1": "Kurt Buhler",
         "2": "DataGoblins",
         "3": "https://data-goblins.com/power-bi/format-power-query-automatically",
         "4": "Tue, 01 Aug 2023 06:00:00 +0000",
         "5": "FormatPowerQueryinPowerBIUpdated"
        },
        {
         "0": "Fabric is a team sport",
         "1": "Kurt Buhler",
         "2": "DataGoblins",
         "3": "https://data-goblins.com/power-bi/fabric-expert",
         "4": "Tue, 16 Apr 2024 06:00:00 +0000",
         "5": "Fabricisateamsport"
        },
        {
         "0": "What Microsoft Fabric means for your semantic models: New options and approaches",
         "1": "Kurt Buhler",
         "2": "DataGoblins",
         "3": "https://data-goblins.com/power-bi/fabric-semantic-models",
         "4": "Tue, 27 Feb 2024 07:04:00 +0000",
         "5": "WhatMicrosoftFabricmeansforyoursemanticmodelsNewoptionsandapproaches"
        },
        {
         "0": "Machine Learning Model Scoring Across Workspaces in Fabric",
         "1": "Sandeep Pawar",
         "2": "SandeepPawarfabricguru",
         "3": "https://fabric.guru/machine-learning-model-scoring-across-workspaces-in-fabric",
         "4": "Mon, 07 Oct 2024 03:15:50 GMT",
         "5": "MachineLearningModelScoringAcrossWorkspacesinFabric"
        },
        {
         "0": "Does it feel like too much?",
         "1": "Kurt Buhler",
         "2": "DataGoblins",
         "3": "https://data-goblins.com/power-bi/whats-new",
         "4": "Sun, 08 Oct 2023 06:00:00 +0000",
         "5": "Doesitfeelliketoomuch"
        },
        {
         "0": "KPIs and cards in Power BI",
         "1": "Kurt Buhler",
         "2": "DataGoblins",
         "3": "https://data-goblins.com/power-bi/kpi-templates",
         "4": "Tue, 05 Sep 2023 07:05:32 +0000",
         "5": "KPIsandcardsinPowerBI"
        },
        {
         "0": "How do you set up your Data Mesh in Microsoft Fabric?",
         "1": "Marthe Moengen",
         "2": "DATAASCEND",
         "3": "https://data-ascend.com/2024/01/08/how-do-you-set-up-your-data-mesh-in-microsoft-fabric/",
         "4": "Mon, 08 Jan 2024 09:00:00 +0000",
         "5": "HowdoyousetupyourDataMeshinMicrosoftFabric"
        },
        {
         "0": "Using Power BI Field Parameters to translate Data and Values",
         "1": "Gerhard Brueckl",
         "2": "GerhardBruecklonBIData",
         "3": "https://blog.gbrueckl.at/2022/06/using-power-bi-field-parameters-to-translate-data-and-values/",
         "4": "Wed, 01 Jun 2022 10:00:00 +0000",
         "5": "UsingPowerBIFieldParameterstotranslateDataandValues"
        },
        {
         "0": "Automating the Extraction of BIM metadata from PBIX Files using CI/CD pipelines",
         "1": "Gerhard Brueckl",
         "2": "GerhardBruecklonBIData",
         "3": "https://blog.gbrueckl.at/2022/02/automating-the-extraction-of-bim-metadata-from-pbix-files-using-ci-cd-pipelines/",
         "4": "Tue, 01 Feb 2022 14:00:00 +0000",
         "5": "AutomatingtheExtractionofBIMmetadatafromPBIXFilesusingCICDpipelines"
        },
        {
         "0": "Using VARCHAR() in Microsoft Fabric Lakehouses and SQL Endpoints",
         "1": "Gerhard Brueckl",
         "2": "GerhardBruecklonBIData",
         "3": "https://blog.gbrueckl.at/2024/01/using-varchar-in-microsoft-fabric-lakehouses-and-sql-endpoints/",
         "4": "Mon, 29 Jan 2024 15:00:00 +0000",
         "5": "UsingVARCHARinMicrosoftFabricLakehousesandSQLEndpoints"
        },
        {
         "0": "Release of Power BI-VSCode Extension",
         "1": "Gerhard Brueckl",
         "2": "GerhardBruecklonBIData",
         "3": "https://blog.gbrueckl.at/2023/10/release-of-power-bi-vscode-extension/",
         "4": "Mon, 30 Oct 2023 09:00:00 +0000",
         "5": "ReleaseofPowerBIVSCodeExtension"
        },
        {
         "0": "Announcing the MS Fabric Users Slack Channel",
         "1": "Gerhard Brueckl",
         "2": "GerhardBruecklonBIData",
         "3": "https://blog.gbrueckl.at/2024/03/announcing-the-ms-fabric-users-slack-channel/",
         "4": "Wed, 27 Mar 2024 08:00:00 +0000",
         "5": "AnnouncingtheMSFabricUsersSlackChannel"
        },
        {
         "0": "Dynamically refreshing (historical) partitions in Power BI Incremental Refresh Semantic Models using Fabric Semantic Link",
         "1": "Marc",
         "2": "DataMarc",
         "3": "https://data-marc.com/2024/05/28/dynamically-refreshing-historical-partitions-in-power-bi-incremental-refresh-semantic-models-using-fabric-semantic-link/",
         "4": "Tue, 28 May 2024 15:33:46 +0000",
         "5": "DynamicallyrefreshinghistoricalpartitionsinPowerBIIncrementalRefreshSemanticModelsusingFabricSemanticLink"
        },
        {
         "0": "Using PowerShell to create Calculation Groups in Power BI Desktop",
         "1": "Phil Seamark",
         "2": "PhilSeamarkonDAX",
         "3": "https://dax.tips/2022/06/20/using-powershell-to-create-calculation-groups-in-power-bi-desktop/",
         "4": "Mon, 20 Jun 2022 00:15:23 +0000",
         "5": "UsingPowerShelltocreateCalculationGroupsinPowerBIDesktop"
        },
        {
         "0": "Databricks VSCode Extension – Release v1.0!",
         "1": "Gerhard Brueckl",
         "2": "GerhardBruecklonBIData",
         "3": "https://blog.gbrueckl.at/2022/08/databricks-vscode-extension-release-v1-0/",
         "4": "Thu, 04 Aug 2022 10:00:00 +0000",
         "5": "DatabricksVSCodeExtensionReleasev10"
        },
        {
         "0": "Fitness Beach vs. Co-Ed Training: A Showdown of ’90s Fitness TV",
         "1": "cfinlan",
         "2": "ChristopherFinlan",
         "3": "https://christopherfinlan.com/2023/08/12/fitness-beach-vs-co-ed-training-a-showdown-of-90s-fitness-tv/",
         "4": "Sat, 12 Aug 2023 12:00:00 +0000",
         "5": "FitnessBeachvsCoEdTrainingAShowdownof90sFitnessTV"
        },
        {
         "0": "Harnessing the Power of Code Interpreter Beta in ChatGPT Plus: A Deep Dive into eBay Purchases",
         "1": "cfinlan",
         "2": "ChristopherFinlan",
         "3": "https://christopherfinlan.com/2023/07/11/harnessing-the-power-of-code-interpreter-beta-in-chatgpt-plus-a-deep-dive-into-ebay-purchases/",
         "4": "Tue, 11 Jul 2023 12:00:00 +0000",
         "5": "HarnessingthePowerofCodeInterpreterBetainChatGPTPlusADeepDiveintoeBayPurchases"
        },
        {
         "0": "Release of Power BI Studio v2.0 (VSCode extension)",
         "1": "Gerhard Brueckl",
         "2": "GerhardBruecklonBIData",
         "3": "https://blog.gbrueckl.at/2024/05/release-of-power-bi-studio-v2-0-vscode-extension/",
         "4": "Tue, 28 May 2024 08:00:00 +0000",
         "5": "ReleaseofPowerBIStudiov20VSCodeextension"
        },
        {
         "0": "Seven Weeks with a Legend: How Scott Pelluer’s Mentorship Transformed My Son Matthew’s Football Journey and Life",
         "1": "cfinlan",
         "2": "ChristopherFinlan",
         "3": "https://christopherfinlan.com/2023/07/06/seven-weeks-with-a-legend-how-scott-pelluers-mentorship-transformed-my-son-matthews-football-journey-and-life/",
         "4": "Fri, 07 Jul 2023 03:05:17 +0000",
         "5": "SevenWeekswithaLegendHowScottPelluersMentorshipTransformedMySonMatthewsFootballJourneyandLife"
        },
        {
         "0": "Databricks Power Tools for VSCode",
         "1": "Gerhard Brueckl",
         "2": "GerhardBruecklonBIData",
         "3": "https://blog.gbrueckl.at/2023/03/databricks-power-tools-for-vscode/",
         "4": "Mon, 20 Mar 2023 10:08:26 +0000",
         "5": "DatabricksPowerToolsforVSCode"
        },
        {
         "0": "Querying Power BI REST API using Fabric Spark SQL",
         "1": "Gerhard Brueckl",
         "2": "GerhardBruecklonBIData",
         "3": "https://blog.gbrueckl.at/2023/08/querying-power-bi-rest-api-using-fabric-spark-sql/",
         "4": "Thu, 31 Aug 2023 20:14:22 +0000",
         "5": "QueryingPowerBIRESTAPIusingFabricSparkSQL"
        },
        {
         "0": "Start Your Data Governance Journey with the new Microsoft Purview: A Step-by-step guide",
         "1": "Marthe Moengen",
         "2": "DATAASCEND",
         "3": "https://data-ascend.com/2024/10/01/start-your-data-governance-journey-with-the-new-microsoft-purview-a-step-by-step-guide/",
         "4": "Tue, 01 Oct 2024 05:48:30 +0000",
         "5": "StartYourDataGovernanceJourneywiththenewMicrosoftPurviewAStepbystepguide"
        },
        {
         "0": "Recover Power BI reports or models that you can’t download",
         "1": "Kurt Buhler",
         "2": "DataGoblins",
         "3": "https://data-goblins.com/power-bi/cant-download-pbix",
         "4": "Tue, 01 Oct 2024 06:30:00 +0000",
         "5": "RecoverPowerBIreportsormodelsthatyoucantdownload"
        },
        {
         "0": "Fix visuals, replace fields, and mass-format reports in Power BI",
         "1": "Kurt Buhler",
         "2": "DataGoblins",
         "3": "https://data-goblins.com/power-bi/programmatically-modify-reports",
         "4": "Tue, 01 Oct 2024 06:00:00 +0000",
         "5": "FixvisualsreplacefieldsandmassformatreportsinPowerBI"
        },
        {
         "0": "What Microsoft Fabric means for your semantic models: Scenario 1",
         "1": "Kurt Buhler",
         "2": "DataGoblins",
         "3": "https://data-goblins.com/power-bi/fabric-semantic-models-scenario-1",
         "4": "Tue, 27 Feb 2024 07:03:00 +0000",
         "5": "WhatMicrosoftFabricmeansforyoursemanticmodelsScenario1"
        },
        {
         "0": "What Microsoft Fabric means for your semantic models: Scenario 2",
         "1": "Kurt Buhler",
         "2": "DataGoblins",
         "3": "https://data-goblins.com/power-bi/fabric-semantic-models-scenario-2",
         "4": "Tue, 27 Feb 2024 07:02:00 +0000",
         "5": "WhatMicrosoftFabricmeansforyoursemanticmodelsScenario2"
        },
        {
         "0": "What Microsoft Fabric means for your semantic models: Scenario 3",
         "1": "Kurt Buhler",
         "2": "DataGoblins",
         "3": "https://data-goblins.com/power-bi/fabric-semantic-models-scenario-3",
         "4": "Tue, 27 Feb 2024 07:00:00 +0000",
         "5": "WhatMicrosoftFabricmeansforyoursemanticmodelsScenario3"
        },
        {
         "0": "Fix Power BI “Something is wrong with one or more fields”",
         "1": "Kurt Buhler",
         "2": "DataGoblins",
         "3": "https://data-goblins.com/power-bi/something-is-wrong-with-one-or-more-fields",
         "4": "Tue, 30 Jan 2024 07:00:00 +0000",
         "5": "FixPowerBISomethingiswrongwithoneormorefields"
        },
        {
         "0": "Managing Power BI reports or models using semantic-link-labs",
         "1": "Kurt Buhler",
         "2": "DataGoblins",
         "3": "https://data-goblins.com/power-bi/semantic-link-labs",
         "4": "Tue, 01 Oct 2024 05:00:00 +0000",
         "5": "ManagingPowerBIreportsormodelsusingsemanticlinklabs"
        },
        {
         "0": "Myths, Magic, and Copilot for Power BI",
         "1": "Kurt Buhler",
         "2": "DataGoblins",
         "3": "https://data-goblins.com/power-bi/copilot-in-power-bi",
         "4": "Thu, 05 Sep 2024 09:00:00 +0000",
         "5": "MythsMagicandCopilotforPowerBI"
        },
        {
         "0": "Case-sensitive models in Power BI: consequences & considerations",
         "1": "Kurt Buhler",
         "2": "DataGoblins",
         "3": "https://data-goblins.com/power-bi/case-specific",
         "4": "Wed, 18 Oct 2023 06:00:00 +0000",
         "5": "CasesensitivemodelsinPowerBIconsequencesconsiderations"
        },
        {
         "0": "How to use Tableau with Power BI and Fabric",
         "1": "Kurt Buhler",
         "2": "DataGoblins",
         "3": "https://data-goblins.com/power-bi/connect-tableau-to-power-bi",
         "4": "Tue, 17 Oct 2023 06:30:00 +0000",
         "5": "HowtouseTableauwithPowerBIandFabric"
        }
       ],
       "schema": [
        {
         "key": "0",
         "name": "title",
         "type": "string"
        },
        {
         "key": "1",
         "name": "author",
         "type": "string"
        },
        {
         "key": "2",
         "name": "blog",
         "type": "string"
        },
        {
         "key": "3",
         "name": "link",
         "type": "string"
        },
        {
         "key": "4",
         "name": "published",
         "type": "string"
        },
        {
         "key": "5",
         "name": "ctitle",
         "type": "string"
        }
       ],
       "truncated": false
      },
      "wranglerEntryContext": {
       "candidateVariableNames": [
        "feeds"
       ],
       "dataframeType": "pyspark"
      }
     },
     "type": "Synapse.DataFrame"
    }
   },
   "version": "0.1"
  },
  "widgets": {}
 },
 "nbformat": 4,
 "nbformat_minor": 5
}
