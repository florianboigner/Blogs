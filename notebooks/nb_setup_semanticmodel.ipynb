{
 "cells": [
  {
   "cell_type": "markdown",
   "id": "e28459f8-613b-4889-909e-9a77a3440fb5",
   "metadata": {},
   "source": [
    "# Blogs setup"
   ]
  },
  {
   "cell_type": "code",
   "execution_count": null,
   "id": "a121271d-c4b8-4297-b5f6-7f8a978d51c6",
   "metadata": {
    "microsoft": {
     "language": "python",
     "language_group": "synapse_pyspark"
    }
   },
   "outputs": [],
   "source": [
    "%run CONFIG"
   ]
  },
  {
   "cell_type": "markdown",
   "id": "515da3fa-4096-4cf6-9f76-cdb8cbdba01e",
   "metadata": {
    "microsoft": {
     "language": "python",
     "language_group": "synapse_pyspark"
    },
    "nteract": {
     "transient": {
      "deleting": false
     }
    }
   },
   "source": [
    "## Config\n",
    "\n",
    "- [sempy.fabric documentation](https://learn.microsoft.com/en-us/python/api/semantic-link-sempy/sempy.fabric?view=semantic-link-python#functions)\n",
    "- [sempy_labs documentation](https://semantic-link-labs.readthedocs.io/en/stable/sempy_labs.html)\n"
   ]
  },
  {
   "cell_type": "code",
   "execution_count": null,
   "id": "6e6b3d5d-621d-47b8-aa72-edb4d9fe874b",
   "metadata": {
    "jupyter": {
     "outputs_hidden": true,
     "source_hidden": false
    },
    "microsoft": {
     "language": "python",
     "language_group": "synapse_pyspark"
    },
    "nteract": {
     "transient": {
      "deleting": false
     }
    }
   },
   "outputs": [],
   "source": [
    "%pip install semantic-link-labs"
   ]
  },
  {
   "cell_type": "code",
   "execution_count": null,
   "id": "c3df46ee-087e-4efa-bf4c-2c1f67f2af81",
   "metadata": {
    "jupyter": {
     "outputs_hidden": false,
     "source_hidden": false
    },
    "microsoft": {
     "language": "python",
     "language_group": "synapse_pyspark"
    },
    "nteract": {
     "transient": {
      "deleting": false
     }
    }
   },
   "outputs": [],
   "source": [
    "from urllib.request import urlopen \n",
    "import json \n",
    "\n",
    "url = \"https://raw.githubusercontent.com/florianboigner/Blogs/refs/heads/main/powerbi/semanticmodel.json\"\n",
    "  \n",
    "# store the response of URL \n",
    "response = urlopen(url) \n",
    "  \n",
    "payload = json.loads(response.read()) "
   ]
  },
  {
   "cell_type": "code",
   "execution_count": null,
   "id": "e58e6794-f325-4ad5-8dde-c523c6ffa0c5",
   "metadata": {
    "jupyter": {
     "outputs_hidden": false,
     "source_hidden": false
    },
    "microsoft": {
     "language": "python",
     "language_group": "synapse_pyspark"
    },
    "nteract": {
     "transient": {
      "deleting": false
     }
    }
   },
   "outputs": [],
   "source": [
    "import sempy.fabric as fabric\n",
    "from sempy.fabric.exceptions import FabricHTTPException, WorkspaceNotFoundException\n",
    "\n",
    "client = fabric.FabricRestClient()\n",
    "\n",
    "def create_semanticModel(payload:dict, workspace=None):\n",
    "    \"\"\"\n",
    "    Creates a Fabric item according to specified payload definition in specified workspace. \n",
    "    Not defining a workspaceId will create it in the current workspace. \n",
    "    \"\"\"\n",
    "\n",
    "    if workspace is None:\n",
    "        workspaceId = fabric.get_workspace_id()\n",
    "    else:\n",
    "        workspaceId = fabric.resolve_workspace_id(workspace)\n",
    "\n",
    "    try:\n",
    "        response = client.post(f\"/v1/workspaces/{workspaceId}/semanticModels\",json=payload)\n",
    "\n",
    "        if response.status_code == 202:\n",
    "            print(\"Request accepted, semantic model provisioning in progress.\")\n",
    "        elif response.stats_code == 201:\n",
    "            print(f\"Successfully created {payload['type']} {payload['displayName']} in workspace {workspace}.\")\n",
    "        else: \n",
    "            raise FabricHTTPException(response)            \n",
    "\n",
    "    except WorkspaceNotFoundException as e:\n",
    "        print(\"Caught a WorkspaceNotFoundException:\", e)\n",
    "    except FabricHTTPException as ex:\n",
    "        print(\"Caught a FabricHTTPException. Check the API endpoint, authenticatio:\", ex)\n",
    "\n",
    "    return response\n"
   ]
  },
  {
   "cell_type": "code",
   "execution_count": null,
   "id": "58660823-3f6d-4636-ad90-ef2362f3069b",
   "metadata": {
    "jupyter": {
     "outputs_hidden": false,
     "source_hidden": false
    },
    "microsoft": {
     "language": "python",
     "language_group": "synapse_pyspark"
    },
    "nteract": {
     "transient": {
      "deleting": false
     }
    }
   },
   "outputs": [],
   "source": [
    "sm = create_semanticModel(payload, workspaceName)\n",
    "sm"
   ]
  }
 ],
 "metadata": {
  "a365ComputeOptions": null,
  "dependencies": {
   "environment": {},
   "lakehouse": null
  },
  "kernel_info": {
   "name": "synapse_pyspark"
  },
  "kernelspec": {
   "display_name": "Synapse PySpark",
   "language": "Python",
   "name": "synapse_pyspark"
  },
  "language_info": {
   "name": "python"
  },
  "microsoft": {
   "language": "python",
   "language_group": "synapse_pyspark",
   "ms_spell_check": {
    "ms_spell_check_language": "en"
   }
  },
  "nteract": {
   "version": "nteract-front-end@1.0.0"
  },
  "sessionKeepAliveTimeout": 0,
  "spark_compute": {
   "compute_id": "/trident/default",
   "session_options": {
    "conf": {
     "spark.synapse.nbs.session.timeout": "1200000"
    }
   }
  }
 },
 "nbformat": 4,
 "nbformat_minor": 5
}
