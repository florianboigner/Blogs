{
 "cells": [
  {
   "cell_type": "markdown",
   "id": "b35466f0-aa0f-4d0a-b300-966ee0fa7b91",
   "metadata": {
    "microsoft": {
     "language": "python",
     "language_group": "synapse_pyspark"
    },
    "nteract": {
     "transient": {
      "deleting": false
     }
    }
   },
   "source": [
    "# Configuration"
   ]
  },
  {
   "cell_type": "code",
   "execution_count": null,
   "id": "94612aba-3752-4dc1-a0bc-f8812de4577f",
   "metadata": {
    "microsoft": {
     "language": "python",
     "language_group": "synapse_pyspark"
    }
   },
   "outputs": [],
   "source": [
    "############################\n",
    "# ITEM SETUP CONFIGURATION #\n",
    "############################\n",
    "\n",
    "workspaceName = 'Blogs' # <ENTER WORKSPACE NAME HERE>\n",
    "\n",
    "lh_raw = 'lh_blogs_raw' # Lakehouse for raw data\n",
    "lh_transformed = 'lh_blogs_transformed' # Lakehouse for transformed data\n",
    "\n",
    "env_blogs = 'environment_blogs'\n",
    "\n",
    "keyvault = 'https://xxx.vault.azure.net/' # <ENTER KEYVAULT ENDPOINT HERE>\n",
    "secretname = 'blogsopenaikey' # <ENTER SECRET NAME HERE>"
   ]
  },
  {
   "cell_type": "code",
   "execution_count": null,
   "id": "10d3a8b1-815e-436c-a6b6-f4f6bbbd4306",
   "metadata": {
    "jupyter": {
     "outputs_hidden": false,
     "source_hidden": false
    },
    "microsoft": {
     "language": "python",
     "language_group": "synapse_pyspark"
    },
    "nteract": {
     "transient": {
      "deleting": false
     }
    }
   },
   "outputs": [],
   "source": [
    "#####################################\n",
    "# EXECUTION PARAMETER CONFIGURATION #\n",
    "#####################################\n",
    "\n",
    "# Set True if blogposts should be stored as file in OneLake\n",
    "keep_raw_feeds = True\n",
    "store_blog_posts = True\n"
   ]
  },
  {
   "cell_type": "code",
   "execution_count": null,
   "id": "2ffedb45-92af-4890-a73a-9c0732c2cb2d",
   "metadata": {
    "jupyter": {
     "outputs_hidden": false,
     "source_hidden": false
    },
    "microsoft": {
     "language": "python",
     "language_group": "synapse_pyspark"
    },
    "nteract": {
     "transient": {
      "deleting": false
     }
    }
   },
   "outputs": [],
   "source": [
    "#########################\n",
    "# OPEN AI CONFIGURATION #\n",
    "#########################\n",
    "\n",
    "openAiEndpoint = \"https://xxx.openai.azure.com/\" # <ENTER OPENAI ENDPOINT HERE>\n",
    "openAiDeployment = \"gpt-4o-mini\" \n",
    "openAiApiVersion = \"2023-03-15-preview\"\n",
    "\n",
    "\n",
    "# Set max number of words used to create the blog summary. Default = 150 words\n",
    "openAiSummaryLenght = 150\n",
    "openAiInstructions = \"You are an AI assistant that helps people understand blog posts by extracting the most important insights and summarizing them in concise abstracts.\"\n",
    "\n",
    "param_temperature=0.7\n",
    "param_max_tokens=1000\n",
    "param_top_p=0.95\n",
    "param_frequency_penalty=0\n",
    "param_presence_penalty=0"
   ]
  }
 ],
 "metadata": {
  "dependencies": {},
  "kernel_info": {
   "name": "synapse_pyspark"
  },
  "kernelspec": {
   "display_name": "Synapse PySpark",
   "language": "Python",
   "name": "synapse_pyspark"
  },
  "language_info": {
   "name": "python"
  },
  "microsoft": {
   "language": "python",
   "language_group": "synapse_pyspark",
   "ms_spell_check": {
    "ms_spell_check_language": "en"
   }
  },
  "nteract": {
   "version": "nteract-front-end@1.0.0"
  },
  "spark_compute": {
   "compute_id": "/trident/default",
   "session_options": {
    "conf": {
     "spark.synapse.nbs.session.timeout": "1200000"
    }
   }
  },
  "widgets": {}
 },
 "nbformat": 4,
 "nbformat_minor": 5
}
