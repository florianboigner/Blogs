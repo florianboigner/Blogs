{
 "cells": [
  {
   "cell_type": "markdown",
   "id": "e2feee08-bc18-4f9c-a7e4-3a7916e06701",
   "metadata": {
    "microsoft": {
     "language": "python",
     "language_group": "synapse_pyspark"
    },
    "nteract": {
     "transient": {
      "deleting": false
     }
    }
   },
   "source": [
    "# Get Feeds\n",
    "\n",
    "This notebook is used to retrieve and store the RSS feeds from the specified list of blogs. They are stored as parquet files in the __Files__ section of the Lakehouse based on the day they were retrieved to preserve the history. Additionally, the latest list is stored in the _feeds_ table, which will be used in the next steps.\n",
    "\n",
    "Initially, we are running the _CONFIG_ notebook, which contains our configuration variables. \n",
    "\n",
    "### Library dependency\n",
    "- __[feedparser](https://pypi.org/project/feedparser/)__: Parse Atom and RSS feeds in Python. _Requires installation_.\n",
    "- __[pyspark.sql.functions.col](https://spark.apache.org/docs/latest/api/python/reference/pyspark.sql/api/pyspark.sql.functions.col.html)__: Returns a Column based on the given column name.\n",
    "- __[pyspark.sql.functions.lit](https://spark.apache.org/docs/3.4.0/api/python/reference/pyspark.sql/api/pyspark.sql.functions.lit.html)__: Creates a Column of literal value.\n",
    "- __[datetime.date](https://docs.python.org/3/library/datetime.html)__: The datetime module supplies classes for manipulating dates and times.\n",
    "- __[re](https://docs.python.org/3/library/re.html)__: This module provides regular expression matching operations similar to those found in Perl.\n",
    "- __[pyspark.sql.types](https://spark.apache.org/docs/latest/api/python/reference/pyspark.sql/data_types.html)__: Define a schema structure and data types.\n"
   ]
  },
  {
   "cell_type": "code",
   "execution_count": null,
   "id": "efb0301d-08af-43bf-af48-0a77f378894c",
   "metadata": {
    "jupyter": {
     "outputs_hidden": false,
     "source_hidden": false
    },
    "microsoft": {
     "language": "python",
     "language_group": "synapse_pyspark"
    },
    "nteract": {
     "transient": {
      "deleting": false
     }
    }
   },
   "outputs": [],
   "source": [
    "%run CONFIG"
   ]
  },
  {
   "cell_type": "markdown",
   "id": "b7a36b71-5ddf-458c-8a21-4ab39599718a",
   "metadata": {
    "microsoft": {
     "language": "python",
     "language_group": "synapse_pyspark"
    },
    "nteract": {
     "transient": {
      "deleting": false
     }
    }
   },
   "source": [
    "## Get feeds based on blog list\n",
    "\n",
    "Retrieve the latest feed for each blog in the blog list, then store the latest feed in the Lakehouse. \n",
    "\n"
   ]
  },
  {
   "cell_type": "code",
   "execution_count": null,
   "id": "5d28298f-b79d-4823-b9f0-90a33f08b966",
   "metadata": {
    "collapsed": false,
    "jupyter": {
     "outputs_hidden": false,
     "source_hidden": false
    },
    "microsoft": {
     "language": "python",
     "language_group": "synapse_pyspark"
    },
    "nteract": {
     "transient": {
      "deleting": false
     }
    }
   },
   "outputs": [],
   "source": [
    "################################\n",
    "# Get feeds based on blog list #\n",
    "################################\n",
    "\n",
    "import feedparser\n",
    "from pyspark.sql.functions import col, lit\n",
    "from datetime import date\n",
    "import re\n",
    "\n",
    "# retrieve current list of blogs from the Lakehouse (oroginally coming from the SharePoint List)\n",
    "blogs = spark.read.format(\"delta\").load(\"Tables/blogs\")\n",
    "\n",
    "# get current date \n",
    "current_date = date.today()\n",
    "\n",
    "# loop through all the blogs and retrieve the RSS feed for each of them\n",
    "for url in blogs.rdd.collect():\n",
    "    try :\n",
    "        feed = feedparser.parse(url.RSSFeed)['entries']\n",
    "    except Exception as ex:\n",
    "        print(f\"[Error] Cloudn't get feed for '{url.RSSFeed}': \" + str(ex))\n",
    "        pass     \n",
    "\n",
    "    # check if feed contains data. Is mostly relevant if you have invalid RSS Feeds that don't return any data. \n",
    "    if len(feed) > 0:     \n",
    "\n",
    "        # create spark dataframe out of feed for further manipulation\n",
    "        df = spark.createDataFrame(feed)\n",
    "\n",
    "        # write raw results as parquet to Lakehouse. This is optional and can be deactivated by changing the parameter if not required\n",
    "        if keep_raw_feeds == True: \n",
    "            df.write.option(\"header\",\"true\").mode(\"overwrite\").parquet(f\"Files/feeds_raw/{current_date.year}/{current_date.month}/{current_date.day}/{url.blog}\")\n",
    "\n",
    "        # \n",
    "        # check if \"author\" column is in feed, as some of them don't have it (e.g. Fabric Blog)\n",
    "        if \"author\" in df.columns :\n",
    "            df = df.select(\n",
    "                col(\"author\"),\n",
    "                col(\"guidislink\"),\n",
    "                col(\"id\"),\n",
    "                col(\"link\"),\n",
    "                col(\"published\"),\n",
    "                col(\"summary\"),\n",
    "                col(\"title\")\n",
    "            ).withColumn(\"blog\", lit(url.blog))\n",
    "        # if there is no author, then use the title as author\n",
    "        else :\n",
    "            df = df.select(\n",
    "                col(\"guidislink\"),\n",
    "                col(\"id\"),\n",
    "                col(\"link\"),\n",
    "                col(\"published\"),\n",
    "                col(\"summary\"),\n",
    "                col(\"title\")\n",
    "            ).withColumn(\"blog\", lit(url.blog)).withColumn(\"author\", lit(url.Title))\n",
    "\n",
    "        # write cleaned file to lakehouse\n",
    "        df.write.option(\"header\",\"true\").mode(\"overwrite\").parquet(f\"Files/feeds/{current_date.year}/{current_date.month}/{current_date.day}/{url.blog}\")\n",
    "        print(\"[Log] saved file: \" + f\"Files/feeds/{url.blog}\")\n",
    "    else :\n",
    "        print(f\"[Log] No feed parsed for {url.RSSFeed}\")"
   ]
  },
  {
   "cell_type": "markdown",
   "id": "6d65d8dc-004f-447a-acb1-f0b9aafdf62e",
   "metadata": {
    "microsoft": {
     "language": "python",
     "language_group": "synapse_pyspark"
    },
    "nteract": {
     "transient": {
      "deleting": false
     }
    }
   },
   "source": [
    "## Combine feeds\n",
    "\n",
    "Combine the most recent version of the feeds into a single table and store it in the lakehouse. \n"
   ]
  },
  {
   "cell_type": "code",
   "execution_count": null,
   "id": "69fd9d8e-a9f5-4edf-9b8c-3e9442d30be5",
   "metadata": {
    "collapsed": false,
    "jupyter": {
     "outputs_hidden": false,
     "source_hidden": false
    },
    "microsoft": {
     "language": "python",
     "language_group": "synapse_pyspark"
    },
    "nteract": {
     "transient": {
      "deleting": false
     }
    }
   },
   "outputs": [],
   "source": [
    "###########################################\n",
    "# Get all feeds and combine them in table #\n",
    "###########################################\n",
    "\n",
    "from pyspark.sql.types import *\n",
    "\n",
    "# define table schema\n",
    "schema = StructType(\n",
    "   [StructField('author', StringType(), True),\n",
    "    StructField('guidislink', BooleanType(), True),\n",
    "    StructField('id', StringType(), True),\n",
    "    StructField('link', StringType(), True),\n",
    "    StructField('published', StringType(), True),\n",
    "    StructField('summary', StringType(), True),\n",
    "    StructField('title', StringType(), True),\n",
    "    StructField('blog', StringType(), True)\n",
    "   ]\n",
    "  )\n",
    "\n",
    "# read all the latest cleaned version of parquet files\n",
    "df = spark.read.format(\"parquet\").option(\"header\", \"true\").schema(schema).load(f\"Files/feeds/{current_date.year}/{current_date.month}/{current_date.day}/*\")\n",
    "display(df)\n",
    "\n",
    "# store combine version as new table in Lakehouse\n",
    "df.write.format(\"delta\").mode(\"overwrite\").saveAsTable(\"feeds\")"
   ]
  }
 ],
 "metadata": {
  "dependencies": {
   "lakehouse": {
    "default_lakehouse": "114e11be-bded-4e5c-aac5-fadce4a16499",
    "default_lakehouse_name": "lh_blogs_raw",
    "default_lakehouse_workspace_id": "c443e128-7455-41bd-a9c1-c2f293c133d3",
    "known_lakehouses": [
     {
      "id": "114e11be-bded-4e5c-aac5-fadce4a16499"
     }
    ]
   }
  },
  "kernel_info": {
   "name": "synapse_pyspark"
  },
  "kernelspec": {
   "display_name": "Synapse PySpark",
   "language": "Python",
   "name": "synapse_pyspark"
  },
  "language_info": {
   "name": "python"
  },
  "microsoft": {
   "language": "python",
   "language_group": "synapse_pyspark",
   "ms_spell_check": {
    "ms_spell_check_language": "en"
   }
  },
  "nteract": {
   "version": "nteract-front-end@1.0.0"
  },
  "spark_compute": {
   "compute_id": "/trident/default",
   "session_options": {
    "conf": {
     "spark.synapse.nbs.session.timeout": "1200000"
    }
   }
  },
  "synapse_widget": {
   "state": {
    "33a406cc-cbf4-48cf-89fb-178390656234": {
     "persist_state": {
      "view": {
       "chartOptions": {
        "aggregationType": "count",
        "binsNumber": 10,
        "categoryFieldKeys": [
         "0"
        ],
        "chartType": "bar",
        "evaluatesOverAllRecords": false,
        "isStacked": false,
        "seriesFieldKeys": [
         "0"
        ],
        "wordFrequency": "-1"
       },
       "tableOptions": {},
       "type": "details"
      }
     },
     "sync_state": {
      "isSummary": false,
      "language": "scala",
      "table": {
       "rows": [
        {
         "0": "Gerhard Brueckl",
         "1": "false",
         "2": "https://blog.gbrueckl.at/?p=1940",
         "3": "https://blog.gbrueckl.at/2022/06/using-power-bi-field-parameters-to-translate-data-and-values/",
         "4": "Wed, 01 Jun 2022 10:00:00 +0000",
         "5": "When building an enterprise reporting solution with Power BI, a question that always comes up is how to handle translations. Large enterprises operate in various countries where people also speak different languages. So a report should be available in all frequently used languages. Ideally, you just create a report once and then a user can decide (or it is decided for him) in which language the report is displayed. Power BI only partially supports this scenario and the closest we could get *before field parameters* were introduced is already very well described by Chris Webb&#8217;s blog post on Implementing Data <a class=\"more-link\" href=\"https://blog.gbrueckl.at/2022/06/using-power-bi-field-parameters-to-translate-data-and-values/\">Continue reading <span class=\"screen-reader-text\">  Using Power BI Field Parameters to translate Data and Values</span><span class=\"meta-nav\">&#8594;</span></a>",
         "6": "Using Power BI Field Parameters to translate Data and Values",
         "7": "GerhardBruecklonBIData"
        },
        {
         "0": "Gerhard Brueckl",
         "1": "false",
         "2": "https://blog.gbrueckl.at/?p=1891",
         "3": "https://blog.gbrueckl.at/2022/02/automating-the-extraction-of-bim-metadata-from-pbix-files-using-ci-cd-pipelines/",
         "4": "Tue, 01 Feb 2022 14:00:00 +0000",
         "5": "The latest updates can always be found in the PowerBI.CICD repository In the past I have been working on a lot of different Power BI projects and it has always been (and still is) a pain when it comes to the deployment of changes across multiple tiers(e.g. Dev/Test/Prod). The main problem here being that a file generated in Power BI desktop (&#60;/mark&#62;.pbix&#60;mark style=\"background-color:#ffffff\" class=\"has-inline-color has-black-color\"&#62;) is basically a binary file and the metadata of the actual data model (BIM) cannot be easily extracted or derived. This causes a lot of problems upstream when you want to automate the deployment using <a class=\"more-link\" href=\"https://blog.gbrueckl.at/2022/02/automating-the-extraction-of-bim-metadata-from-pbix-files-using-ci-cd-pipelines/\">Continue reading <span class=\"screen-reader-text\">  Automating the Extraction of BIM metadata from PBIX Files using CI/CD pipelines</span><span class=\"meta-nav\">&#8594;</span></a>",
         "6": "Automating the Extraction of BIM metadata from PBIX Files using CI/CD pipelines",
         "7": "GerhardBruecklonBIData"
        },
        {
         "0": "Microsoft Fabric Updates Blog",
         "1": "false",
         "2": "enhancing-open-source-fabrics-contributions-to-flaml-for-scalable-spark-workloads",
         "3": "https://blog.fabric.microsoft.com/en-GB/blog/enhancing-open-source-fabrics-contributions-to-flaml-for-scalable-spark-workloads/",
         "4": "Wed, 09 Oct 2024 08:00:00 Z",
         "5": "<p>At Fabric, we&#8217;re passionate about contributing to the open-source community, particularly in areas that advance the usability and scalability of machine learning tools. One of our recent endeavors has been making substantial contributions back to the FLAML (Fast and Lightweight AutoML) project, a robust library designed to automate the tedious and complex process of machine &hellip; </p>\n<p class=\"link-more\"><a class=\"more-link\" href=\"https://blog.fabric.microsoft.com/en-us/blog/enhancing-open-source-fabrics-contributions-to-flaml-for-scalable-spark-workloads/\">Continue reading<span class=\"screen-reader-text\"> &#8220;Enhancing Open Source: Fabric&#8217;s Contributions to FLAML for Scalable AutoML&#8221;</span></a></p>",
         "6": "Enhancing Open Source: Fabric&#8217;s Contributions to FLAML for Scalable AutoML",
         "7": "MicrosoftFabricUpdatesBlog"
        },
        {
         "0": "Microsoft Fabric Updates Blog",
         "1": "false",
         "2": "introducing-eventstream-private-network-secure-data-streaming-with-managed-private-endpoints-private-preview",
         "3": "https://blog.fabric.microsoft.com/en-GB/blog/introducing-eventstream-private-network-secure-data-streaming-with-managed-private-endpoints-private-preview/",
         "4": "Mon, 07 Oct 2024 01:00:00 Z",
         "5": "<p>Introducing Managed VNet Support for Fabric Eventstream! By creating a Fabric’s Managed Private Endpoint, you can now securely connect Eventstream to your Azure services, such as Azure Event Hubs or IoT Hub, within a private network or behind a firewall. This integration ensures your data is securely transmitted over a private network, enabling you to &hellip; </p>\n<p class=\"link-more\"><a class=\"more-link\" href=\"https://blog.fabric.microsoft.com/en-us/blog/introducing-eventstream-private-network-secure-data-streaming-with-managed-private-endpoints-private-preview/\">Continue reading<span class=\"screen-reader-text\"> &#8220;Secure Data Streaming with Managed Private Endpoints in Eventstream (Preview)&#8221;</span></a></p>",
         "6": "Secure Data Streaming with Managed Private Endpoints in Eventstream (Preview)",
         "7": "MicrosoftFabricUpdatesBlog"
        },
        {
         "0": "Microsoft Fabric Updates Blog",
         "1": "false",
         "2": "optimizing-spark-compute-for-medallion-architectures-in-microsoft-fabric",
         "3": "https://blog.fabric.microsoft.com/en-GB/blog/optimizing-spark-compute-for-medallion-architectures-in-microsoft-fabric/",
         "4": "Fri, 18 Oct 2024 21:00:00 Z",
         "5": "<p>Guidance to Maximizing Productivity and Efficiency for your Data Engineering Workloads Data engineering teams often grapple with the complexities of planning and configuring compute resources for their data platforms. This is especially true when working with large-scale, complex datasets and demanding downstream SLAs. A one-size-fits-all approach is rarely effective, as different data layers and datasets &hellip; </p>\n<p class=\"link-more\"><a class=\"more-link\" href=\"https://blog.fabric.microsoft.com/en-us/blog/optimizing-spark-compute-for-medallion-architectures-in-microsoft-fabric/\">Continue reading<span class=\"screen-reader-text\"> &#8220;Optimizing Spark Compute for Medallion Architectures in Microsoft Fabric&#8221;</span></a></p>",
         "6": "Optimizing Spark Compute for Medallion Architectures in Microsoft Fabric",
         "7": "MicrosoftFabricUpdatesBlog"
        },
        {
         "0": "Microsoft Fabric Updates Blog",
         "1": "false",
         "2": "real-time-dashboards-and-underlying-kql-databases-access-separation",
         "3": "https://blog.fabric.microsoft.com/en-GB/blog/real-time-dashboards-and-underlying-kql-databases-access-separation/",
         "4": "Thu, 17 Oct 2024 09:00:00 Z",
         "5": "<p>Microsoft Fabric’s new Real-Time Dashboard permissions feature brings granular control to how users interact with Real-Time Analytics. With the introduction of separate permissions for dashboards and underlying data, administrators now have the flexibility to allow users to view dashboards without giving access to the raw data. This separation is key for organizations that need to &hellip; </p>\n<p class=\"link-more\"><a class=\"more-link\" href=\"https://blog.fabric.microsoft.com/en-us/blog/real-time-dashboards-and-underlying-kql-databases-access-separation/\">Continue reading<span class=\"screen-reader-text\"> &#8220;Real-Time Dashboards and underlying KQL databases access separation (preview)&#8221;</span></a></p>",
         "6": "Real-Time Dashboards and underlying KQL databases access separation (preview)",
         "7": "MicrosoftFabricUpdatesBlog"
        },
        {
         "0": "Microsoft Fabric Updates Blog",
         "1": "false",
         "2": "announcement-microsoft-purview-data-loss-prevention-policies-have-been-extended-to-fabric-lakehouses",
         "3": "https://blog.fabric.microsoft.com/en-GB/blog/announcement-microsoft-purview-data-loss-prevention-policies-have-been-extended-to-fabric-lakehouses/",
         "4": "Tue, 15 Oct 2024 11:57:01 Z",
         "5": "<p>Extending Microsoft Purview’s Data Loss Prevention (DLP) policies into Fabric lakehouses is now in public preview! This follows the success of DLP for Power BI and the GA of Microsoft Fabric last year. DLP policies help you automatically detect sensitive information as it is uploaded into lakehouses in your Fabric tenant and take risk remediation &hellip; </p>\n<p class=\"link-more\"><a class=\"more-link\" href=\"https://blog.fabric.microsoft.com/en-us/blog/announcement-microsoft-purview-data-loss-prevention-policies-have-been-extended-to-fabric-lakehouses/\">Continue reading<span class=\"screen-reader-text\"> &#8220;Announcement: Microsoft Purview Data Loss Prevention policies have been extended to Fabric lakehouses&#8221;</span></a></p>",
         "6": "Announcement: Microsoft Purview Data Loss Prevention policies have been extended to Fabric lakehouses",
         "7": "MicrosoftFabricUpdatesBlog"
        },
        {
         "0": "Gerhard Brueckl",
         "1": "false",
         "2": "https://blog.gbrueckl.at/?p=2146",
         "3": "https://blog.gbrueckl.at/2024/01/using-varchar-in-microsoft-fabric-lakehouses-and-sql-endpoints/",
         "4": "Mon, 29 Jan 2024 15:00:00 +0000",
         "5": "Defining data types and knowing the schema of your data has always been a crucial factor for performant data platforms, especially when it comes to string datatypes which can potentially consume a lot of space and memory. For Lakehouses in general (not only Fabric Lakehouses), there is usually only one data type for text data which is a generic STRING of an arbitrary length. In terms of Apache Spark, this is StringType(). While this applies to Spark dataframes, this is not entirely true for Spark tables &#8211; here is what the docs say: As stated, there are multiple ways to <a class=\"more-link\" href=\"https://blog.gbrueckl.at/2024/01/using-varchar-in-microsoft-fabric-lakehouses-and-sql-endpoints/\">Continue reading <span class=\"screen-reader-text\">  Using VARCHAR() in Microsoft Fabric Lakehouses and SQL Endpoints</span><span class=\"meta-nav\">&#8594;</span></a>",
         "6": "Using VARCHAR() in Microsoft Fabric Lakehouses and SQL Endpoints",
         "7": "GerhardBruecklonBIData"
        },
        {
         "0": "Gerhard Brueckl",
         "1": "false",
         "2": "https://blog.gbrueckl.at/?p=2121",
         "3": "https://blog.gbrueckl.at/2023/10/release-of-power-bi-vscode-extension/",
         "4": "Mon, 30 Oct 2023 09:00:00 +0000",
         "5": "Download from VSCode Gallery I am working a lot with Power BI in my daily business and there have always been a couple of things that bothered me since the very beginning. Most of this is related to the web UI and its usability, mainly that you need too many clicks to get to where you want (e.g. viewing Datasets refreshes) but also that some features are simply not exposed in the UI that are possible with the Power BI REST APIs (e.g. rebinding a report to another dataset). So I thought there must be some better way to do <a class=\"more-link\" href=\"https://blog.gbrueckl.at/2023/10/release-of-power-bi-vscode-extension/\">Continue reading <span class=\"screen-reader-text\">  Release of Power BI-VSCode Extension</span><span class=\"meta-nav\">&#8594;</span></a>",
         "6": "Release of Power BI-VSCode Extension",
         "7": "GerhardBruecklonBIData"
        },
        {
         "0": "Microsoft Fabric Updates Blog",
         "1": "false",
         "2": "announcing-the-enhanced-tenant-setting-delegation-for-export-controls-in-microsoft-fabric",
         "3": "https://blog.fabric.microsoft.com/en-GB/blog/announcing-the-enhanced-tenant-setting-delegation-for-export-controls-in-microsoft-fabric/",
         "4": "Mon, 21 Oct 2024 14:00:00 Z",
         "5": "<p>Introduction: We are excited to announce a significant enhancement to the Tenant Setting Delegation feature in Microsoft Fabric. Tenant setting delegation has existed in some form since the public preview launch of Fabric, primarily allowing delegation of workload controls to capacity admins. We are now introducing the delegation of export settings to workspaces via domain. &hellip; </p>\n<p class=\"link-more\"><a class=\"more-link\" href=\"https://blog.fabric.microsoft.com/en-us/blog/announcing-the-enhanced-tenant-setting-delegation-for-export-controls-in-microsoft-fabric/\">Continue reading<span class=\"screen-reader-text\"> &#8220;Announcing the Enhanced Tenant Setting Delegation for Export Controls in Microsoft Fabric&#8221;</span></a></p>",
         "6": "Announcing the Enhanced Tenant Setting Delegation for Export Controls in Microsoft Fabric",
         "7": "MicrosoftFabricUpdatesBlog"
        },
        {
         "0": "Microsoft Fabric Updates Blog",
         "1": "false",
         "2": "ensuring-data-continuity-in-fabric-warehouse-best-practices-for-every-scenario",
         "3": "https://blog.fabric.microsoft.com/en-GB/blog/ensuring-data-continuity-in-fabric-warehouse-best-practices-for-every-scenario/",
         "4": "Mon, 21 Oct 2024 09:30:00 Z",
         "5": "<p>In the era of Generative Artificial Intelligence, data warehouses play a pivotal role for organizations to store, manage, and analyze massive amounts of data. They serve as the foundation for business intelligence and help make informed decisions. However, like any technology, data warehouses are not immune to failures – whether from hardware malfunctions, software bugs, &hellip; </p>\n<p class=\"link-more\"><a class=\"more-link\" href=\"https://blog.fabric.microsoft.com/en-us/blog/ensuring-data-continuity-in-fabric-warehouse-best-practices-for-every-scenario/\">Continue reading<span class=\"screen-reader-text\"> &#8220;Ensuring Data Continuity in Fabric Warehouse: Best Practices for Every Scenario&#8221;</span></a></p>",
         "6": "Ensuring Data Continuity in Fabric Warehouse: Best Practices for Every Scenario",
         "7": "MicrosoftFabricUpdatesBlog"
        },
        {
         "0": "James Serra",
         "1": "false",
         "2": "https://www.jamesserra.com/?p=19478",
         "3": "https://www.jamesserra.com/archive/2024/07/classifications-and-sensitivity-labels-in-microsoft-purview/",
         "4": "Wed, 24 Jul 2024 15:00:00 +0000",
         "5": "<p>I see a lot of confusion on how classifications and sensitivity labels work in Microsoft Purview. This blog will help to clear that up, but I first must address the confusion with Purview now that multiple products have been renamed <span class=\"excerpt-dots\">&#8230;</span> <a class=\"more-link\" href=\"https://www.jamesserra.com/archive/2024/07/classifications-and-sensitivity-labels-in-microsoft-purview/\"><span class=\"more-msg\">Continue reading &#8594;</span></a></p>\nThe post <a href=\"https://www.jamesserra.com/archive/2024/07/classifications-and-sensitivity-labels-in-microsoft-purview/\">Classifications and sensitivity labels in Microsoft Purview</a> first appeared on <a href=\"https://www.jamesserra.com\">James Serra's Blog</a>.",
         "6": "Classifications and sensitivity labels in Microsoft Purview",
         "7": "JamesSerra"
        },
        {
         "0": "James Serra",
         "1": "false",
         "2": "https://www.jamesserra.com/?p=19438",
         "3": "https://www.jamesserra.com/archive/2024/07/copilot-in-microsoft-fabric/",
         "4": "Wed, 10 Jul 2024 15:00:00 +0000",
         "5": "<p>Microsoft Copilot is&#xa0;an app that uses AI to help you find information, create content, and get things done faster (see What Is Copilot? Microsoft&#8217;s AI Assistant Explained).&#xa0; Copilot is now integrated heavily in Microsoft Fabric to bring new ways to <span class=\"excerpt-dots\">&#8230;</span> <a class=\"more-link\" href=\"https://www.jamesserra.com/archive/2024/07/copilot-in-microsoft-fabric/\"><span class=\"more-msg\">Continue reading &#8594;</span></a></p>\nThe post <a href=\"https://www.jamesserra.com/archive/2024/07/copilot-in-microsoft-fabric/\">Copilot in Microsoft Fabric</a> first appeared on <a href=\"https://www.jamesserra.com\">James Serra's Blog</a>.",
         "6": "Copilot in Microsoft Fabric",
         "7": "JamesSerra"
        },
        {
         "0": "James Serra",
         "1": "false",
         "2": "https://www.jamesserra.com/?p=19407",
         "3": "https://www.jamesserra.com/archive/2024/06/transform-yourself-into-an-invaluable-data-leader-in-just-6-weeks/",
         "4": "Mon, 24 Jun 2024 15:00:00 +0000",
         "5": "<p>I&#x2019;ve collaborated with two industry experts to design a transformative course for data leaders: &#x201c;The Technical and Strategic Data Leader.&#x201d; This six-week intensive learning journey is crafted to elevate both your technical skills and strategic acumen. Facing Data Leadership Challenges? <span class=\"excerpt-dots\">&#8230;</span> <a class=\"more-link\" href=\"https://www.jamesserra.com/archive/2024/06/transform-yourself-into-an-invaluable-data-leader-in-just-6-weeks/\"><span class=\"more-msg\">Continue reading &#8594;</span></a></p>\nThe post <a href=\"https://www.jamesserra.com/archive/2024/06/transform-yourself-into-an-invaluable-data-leader-in-just-6-weeks/\">Transform yourself into an Invaluable Data Leader in just 6 weeks</a> first appeared on <a href=\"https://www.jamesserra.com\">James Serra's Blog</a>.",
         "6": "Transform yourself into an Invaluable Data Leader in just 6 weeks",
         "7": "JamesSerra"
        },
        {
         "0": "James Serra",
         "1": "false",
         "2": "https://www.jamesserra.com/?p=18836",
         "3": "https://www.jamesserra.com/archive/2024/06/introduction-to-openai-and-llms-part-2/",
         "4": "Wed, 05 Jun 2024 15:00:00 +0000",
         "5": "<p>My previous blog post on this topic was Introduction to OpenAI and LLMs, the &#8220;what&#8221; part (what is OpenAI and LLM), and this blog post will talk about the &#8220;how&#8221; part (how to use OpenAI on your own unstructured data <span class=\"excerpt-dots\">&#8230;</span> <a class=\"more-link\" href=\"https://www.jamesserra.com/archive/2024/06/introduction-to-openai-and-llms-part-2/\"><span class=\"more-msg\">Continue reading &#8594;</span></a></p>\nThe post <a href=\"https://www.jamesserra.com/archive/2024/06/introduction-to-openai-and-llms-part-2/\">Introduction to OpenAI and LLMs – Part 2</a> first appeared on <a href=\"https://www.jamesserra.com\">James Serra's Blog</a>.",
         "6": "Introduction to OpenAI and LLMs – Part 2",
         "7": "JamesSerra"
        },
        {
         "0": "Gerhard Brueckl",
         "1": "false",
         "2": "https://blog.gbrueckl.at/?p=2163",
         "3": "https://blog.gbrueckl.at/2024/03/announcing-the-ms-fabric-users-slack-channel/",
         "4": "Wed, 27 Mar 2024 08:00:00 +0000",
         "5": "Are you a Microsoft Fabric user looking to supercharge your collaboration and networking? I am excited to announce the new Slack channel MS Fabric Users which I just created, tailor-made for people who want to engage with a dynamic and supportive community around Microsoft Fabric. With this channel, I want to create a space that&#8217;s built for speed, ease, and connectivity. Why Did I Choose Slack For Communication: I am already using different Slack channels for other technologies I use on my daily basis (Delta Lake, Databricks Users, VSCode Development, …) and when it comes to interactive collaboration, I think <a class=\"more-link\" href=\"https://blog.gbrueckl.at/2024/03/announcing-the-ms-fabric-users-slack-channel/\">Continue reading <span class=\"screen-reader-text\">  Announcing the MS Fabric Users Slack Channel</span><span class=\"meta-nav\">&#8594;</span></a>",
         "6": "Announcing the MS Fabric Users Slack Channel",
         "7": "GerhardBruecklonBIData"
        },
        {
         "0": "Phil Seamark",
         "1": "false",
         "2": "https://dax.tips/?p=2041",
         "3": "https://dax.tips/2022/06/20/using-powershell-to-create-calculation-groups-in-power-bi-desktop/",
         "4": "Mon, 20 Jun 2022 00:15:23 +0000",
         "5": "<p>Background I recently shared on Twitter a 7-module learning path on MS Learn that teaches all you need to know about calculation groups in Power BI. This learning path is an excellent course, and I highly recommend it. However, as part of this exchange, I received a reply from someone lamenting that calculation groups are <a class=\"more-link\" href=\"https://dax.tips/2022/06/20/using-powershell-to-create-calculation-groups-in-power-bi-desktop/\">&#8230; <span class=\"screen-reader-text\">Continue reading Using PowerShell to create Calculation Groups in Power BI Desktop</span></a></p>\n<p>The post <a href=\"https://dax.tips/2022/06/20/using-powershell-to-create-calculation-groups-in-power-bi-desktop/\">Using PowerShell to create Calculation Groups in Power BI Desktop</a> appeared first on <a href=\"https://dax.tips\">Phil Seamark on DAX</a>.</p>",
         "6": "Using PowerShell to create Calculation Groups in Power BI Desktop",
         "7": "PhilSeamarkonDAX"
        },
        {
         "0": "Gerhard Brueckl",
         "1": "false",
         "2": "https://blog.gbrueckl.at/?p=2024",
         "3": "https://blog.gbrueckl.at/2022/08/databricks-vscode-extension-release-v1-0/",
         "4": "Thu, 04 Aug 2022 10:00:00 +0000",
         "5": "As you probably know from my previous posts, my colleagues at paiqo.com and I are constantly working to improve our VSCode extension for Databricks. Almost every month we silently release a new version to the VSCode gallery so you get the latest features. However, as this is a special release, I am also writing a dedicated blog post for it We are very happy to finally announce the first official release of our VSCode extension for Databricks! Probably the biggest and most awaited new feature is the ability to interactively execute your local Spark/SQL/Scala/R code against one of your running <a class=\"more-link\" href=\"https://blog.gbrueckl.at/2022/08/databricks-vscode-extension-release-v1-0/\">Continue reading <span class=\"screen-reader-text\">  Databricks VSCode Extension &#8211; Release v1.0!</span><span class=\"meta-nav\">&#8594;</span></a>",
         "6": "Databricks VSCode Extension – Release v1.0!",
         "7": "GerhardBruecklonBIData"
        },
        {
         "0": "Chris Webb",
         "1": "false",
         "2": "https://blog.crossjoin.co.uk/?p=19516",
         "3": "https://blog.crossjoin.co.uk/2024/09/01/finding-power-bi-semantic-model-refresh-operations-in-gateway-logs/?utm_source=rss&utm_medium=rss&utm_campaign=finding-power-bi-semantic-model-refresh-operations-in-gateway-logs",
         "4": "Sun, 01 Sep 2024 14:36:18 +0000",
         "5": "The logs for your on-premises data gateway contain a lot of information that is useful for troubleshooting and performance tuning. The contents of the logs are documented here and there a several great solutions out there for reporting on their contents: there&#8217;s a Microsoft-provided template and Rui Romano&#8217;s more sophisticated monitoring solution here (there&#8217;s also &#8230; <a class=\"more-link\" href=\"https://blog.crossjoin.co.uk/2024/09/01/finding-power-bi-semantic-model-refresh-operations-in-gateway-logs/\">Continue reading <span class=\"screen-reader-text\">Finding Power BI Semantic Model Refresh Operations In Gateway Logs</span> <span class=\"meta-nav\">&#8594;</span></a>",
         "6": "Finding Power BI Semantic Model Refresh Operations In Gateway Logs",
         "7": "ChrisWebbsBIBlog"
        },
        {
         "0": "James Serra",
         "1": "false",
         "2": "https://www.jamesserra.com/?p=18761",
         "3": "https://www.jamesserra.com/archive/2024/03/introduction-to-openai-and-llms/",
         "4": "Mon, 11 Mar 2024 15:00:00 +0000",
         "5": "<p>I focus most of my blog posts on the data platform and how companies can make better business decisions using queries/reports/dashboards on structured data (think SQL tables), but I&#8217;m seeing more and more customers interested in OpenAI and how they <span class=\"excerpt-dots\">&#8230;</span> <a class=\"more-link\" href=\"https://www.jamesserra.com/archive/2024/03/introduction-to-openai-and-llms/\"><span class=\"more-msg\">Continue reading &#8594;</span></a></p>\nThe post <a href=\"https://www.jamesserra.com/archive/2024/03/introduction-to-openai-and-llms/\">Introduction to OpenAI and LLMs</a> first appeared on <a href=\"https://www.jamesserra.com\">James Serra's Blog</a>.",
         "6": "Introduction to OpenAI and LLMs",
         "7": "JamesSerra"
        },
        {
         "0": "James Serra",
         "1": "false",
         "2": "https://www.jamesserra.com/?p=18768",
         "3": "https://www.jamesserra.com/archive/2024/02/elevate-your-data-leadership-a-unique-intensive-learning-experience/",
         "4": "Fri, 16 Feb 2024 16:00:00 +0000",
         "5": "<p>I&#8217;ve collaborated with two industry experts to design a transformative course for data leaders: &#8220;The Technical and Strategic Data Leader.&#8221; This six-week intensive learning journey is crafted to elevate both your technical skills and strategic acumen. Facing Data Leadership Challenges? <span class=\"excerpt-dots\">&#8230;</span> <a class=\"more-link\" href=\"https://www.jamesserra.com/archive/2024/02/elevate-your-data-leadership-a-unique-intensive-learning-experience/\"><span class=\"more-msg\">Continue reading &#8594;</span></a></p>\nThe post <a href=\"https://www.jamesserra.com/archive/2024/02/elevate-your-data-leadership-a-unique-intensive-learning-experience/\">Elevate Your Data Leadership: A Unique Intensive Learning Experience</a> first appeared on <a href=\"https://www.jamesserra.com\">James Serra's Blog</a>.",
         "6": "Elevate Your Data Leadership: A Unique Intensive Learning Experience",
         "7": "JamesSerra"
        },
        {
         "0": "cfinlan",
         "1": "false",
         "2": "http://christopherfinlan.com/?p=2162",
         "3": "https://christopherfinlan.com/2023/08/12/fitness-beach-vs-co-ed-training-a-showdown-of-90s-fitness-tv/",
         "4": "Sat, 12 Aug 2023 12:00:00 +0000",
         "5": "The 1990s were a time of neon spandex, high ponytails, and an explosion of fitness culture on TV. Among the plethora of exercise shows, two programs stood out—Fitness Beach and Co-Ed Training. Both aired on ESPN2 and enjoyed a following among fitness enthusiasts. While these shows shared some similarities, they each had unique features that &#8230; <a class=\"more-link\" href=\"https://christopherfinlan.com/2023/08/12/fitness-beach-vs-co-ed-training-a-showdown-of-90s-fitness-tv/\">Continue reading <span class=\"screen-reader-text\">Fitness Beach vs. Co-Ed Training: A Showdown of &#8217;90s Fitness&#160;TV</span></a>",
         "6": "Fitness Beach vs. Co-Ed Training: A Showdown of ’90s Fitness TV",
         "7": "ChristopherFinlan"
        },
        {
         "0": "cfinlan",
         "1": "false",
         "2": "http://christopherfinlan.com/?p=2342",
         "3": "https://christopherfinlan.com/2023/07/11/harnessing-the-power-of-code-interpreter-beta-in-chatgpt-plus-a-deep-dive-into-ebay-purchases/",
         "4": "Tue, 11 Jul 2023 12:00:00 +0000",
         "5": "As we continue to navigate the digital age, data has become an integral part of our lives, and understanding this data is more important than ever. One of the recent advancements in data analysis is the Code Interpreter Beta feature in ChatGPT Pro, a powerful tool that brings programming and data analysis to your fingertips. &#8230; <a class=\"more-link\" href=\"https://christopherfinlan.com/2023/07/11/harnessing-the-power-of-code-interpreter-beta-in-chatgpt-plus-a-deep-dive-into-ebay-purchases/\">Continue reading <span class=\"screen-reader-text\">Harnessing the Power of Code Interpreter Beta in ChatGPT Plus: A Deep Dive into eBay&#160;Purchases</span></a>",
         "6": "Harnessing the Power of Code Interpreter Beta in ChatGPT Plus: A Deep Dive into eBay Purchases",
         "7": "ChristopherFinlan"
        },
        {
         "0": "Gerhard Brueckl",
         "1": "false",
         "2": "https://blog.gbrueckl.at/?p=2239",
         "3": "https://blog.gbrueckl.at/2024/05/release-of-power-bi-studio-v2-0-vscode-extension/",
         "4": "Tue, 28 May 2024 08:00:00 +0000",
         "5": "Due to the great feedback I have received for the first version of my VSCode extension to mange Power BI objects from within VSCode I decided to continue working on it and am finally happy to share that I am releasing a new version &#8211; v2.0! If you already had the previous version installed in VSCode, you do not have to do anything as it will update automatically. If you are a new user, you can install it from the gallery or search for &#8220;Power BI Studio&#8221; in the VSCode extensions tab. Besides adding some new features I also changed <a class=\"more-link\" href=\"https://blog.gbrueckl.at/2024/05/release-of-power-bi-studio-v2-0-vscode-extension/\">Continue reading <span class=\"screen-reader-text\">  Release of Power BI Studio v2.0 (VSCode extension)</span><span class=\"meta-nav\">&#8594;</span></a>",
         "6": "Release of Power BI Studio v2.0 (VSCode extension)",
         "7": "GerhardBruecklonBIData"
        },
        {
         "0": "James Serra",
         "1": "false",
         "2": "https://www.jamesserra.com/?p=19787",
         "3": "https://www.jamesserra.com/archive/2024/10/european-microsoft-fabric-community-conference-announcements/",
         "4": "Mon, 07 Oct 2024 15:00:00 +0000",
         "5": "<p>A TON of new features announcements at the European Microsoft Fabric Community Conference help last week. The full list is here, and I wanted to list my favorite announcements from that list: More info: Microsoft Fabric Conference Europe Recap: Copilot, <span class=\"excerpt-dots\">&#8230;</span> <a class=\"more-link\" href=\"https://www.jamesserra.com/archive/2024/10/european-microsoft-fabric-community-conference-announcements/\"><span class=\"more-msg\">Continue reading &#8594;</span></a></p>\nThe post <a href=\"https://www.jamesserra.com/archive/2024/10/european-microsoft-fabric-community-conference-announcements/\">European Microsoft Fabric Community Conference announcements</a> first appeared on <a href=\"https://www.jamesserra.com\">James Serra's Blog</a>.",
         "6": "European Microsoft Fabric Community Conference announcements",
         "7": "JamesSerra"
        },
        {
         "0": "James Serra",
         "1": "false",
         "2": "https://www.jamesserra.com/?p=19781",
         "3": "https://www.jamesserra.com/archive/2024/09/get-mentored-and-coached-by-me-and-other-industry-experts/",
         "4": "Thu, 26 Sep 2024 14:07:55 +0000",
         "5": "<p>This fall you can take the next step in your data leadership journey by joining a cohort of industry peers and get mentored by experts in the field. In this cohort you will get personalized interaction and coaching from me, <span class=\"excerpt-dots\">&#8230;</span> <a class=\"more-link\" href=\"https://www.jamesserra.com/archive/2024/09/get-mentored-and-coached-by-me-and-other-industry-experts/\"><span class=\"more-msg\">Continue reading &#8594;</span></a></p>\nThe post <a href=\"https://www.jamesserra.com/archive/2024/09/get-mentored-and-coached-by-me-and-other-industry-experts/\">Get mentored and coached by me and other industry experts!</a> first appeared on <a href=\"https://www.jamesserra.com\">James Serra's Blog</a>.",
         "6": "Get mentored and coached by me and other industry experts!",
         "7": "JamesSerra"
        },
        {
         "0": "cfinlan",
         "1": "false",
         "2": "http://christopherfinlan.com/?p=2325",
         "3": "https://christopherfinlan.com/2023/07/06/seven-weeks-with-a-legend-how-scott-pelluers-mentorship-transformed-my-son-matthews-football-journey-and-life/",
         "4": "Fri, 07 Jul 2023 03:05:17 +0000",
         "5": "Today&#8217;s post is a very personal one for me. Scott Pelluer, a former linebacker at Washington State and in the NFL, died at age 64. But Scott was much more than that to my son Matthew &#8211; Scott had been a private football coach for him from late April this year up until just before &#8230; <a class=\"more-link\" href=\"https://christopherfinlan.com/2023/07/06/seven-weeks-with-a-legend-how-scott-pelluers-mentorship-transformed-my-son-matthews-football-journey-and-life/\">Continue reading <span class=\"screen-reader-text\">Seven Weeks with a Legend: How Scott Pelluer&#8217;s Mentorship Transformed My Son Matthew&#8217;s Football Journey and&#160;Life</span></a>",
         "6": "Seven Weeks with a Legend: How Scott Pelluer’s Mentorship Transformed My Son Matthew’s Football Journey and Life",
         "7": "ChristopherFinlan"
        },
        {
         "0": "Gerhard Brueckl",
         "1": "false",
         "2": "https://blog.gbrueckl.at/?p=2052",
         "3": "https://blog.gbrueckl.at/2023/03/databricks-power-tools-for-vscode/",
         "4": "Mon, 20 Mar 2023 10:08:26 +0000",
         "5": "As you probably know, we at paiqo have developed our Databricks extension for VSCode over the last years and are constantly adding new features and improving user experience. The most notable features are probably the execution of local notebooks against a Databricks cluster, a nice UI to manage clusters, jobs, secrets, repos, etc. and last but not least also a browser for your workspace and DBFS to sync files locally. In February 2023 Databricks also published its own official VSCode extension which was definitely long awaited by a lot of customers (blog, extension). It allows you to run a local <a class=\"more-link\" href=\"https://blog.gbrueckl.at/2023/03/databricks-power-tools-for-vscode/\">Continue reading <span class=\"screen-reader-text\">  Databricks Power Tools for VSCode</span><span class=\"meta-nav\">&#8594;</span></a>",
         "6": "Databricks Power Tools for VSCode",
         "7": "GerhardBruecklonBIData"
        },
        {
         "0": "Gilbert Quevauvilliers",
         "1": "false",
         "2": "https://www.fourmoo.com/?p=10824",
         "3": "https://www.fourmoo.com/2024/09/04/did-you-know-external-guest-users-can-connect-to-your-semantic-model-using-excel/",
         "4": "Tue, 03 Sep 2024 20:00:00 +0000",
         "5": "<p>Yes, you read that right, it is possible where you have shared Power BI semantic model with an external (guest user in Entra ID) they can now connect to the semantic model using Excel. This has been around for quite a while I just did not know about it, here is the Microsoft documentation: Semantic model connectivity and management with...</p>\n<p>The post <a href=\"https://www.fourmoo.com/2024/09/04/did-you-know-external-guest-users-can-connect-to-your-semantic-model-using-excel/\">Did you know external (Guest) users can connect to your Semantic Model using Excel?</a> appeared first on <a href=\"https://www.fourmoo.com\">FourMoo | Fabric | Power BI</a>.</p>",
         "6": "Did you know external (Guest) users can connect to your Semantic Model using Excel?",
         "7": "fourmoo"
        },
        {
         "0": "Gilbert Quevauvilliers",
         "1": "false",
         "2": "https://www.fourmoo.com/?p=10810",
         "3": "https://www.fourmoo.com/2024/08/28/how-to-get-data-from-a-fabric-lakehouse-file-into-power-bi-desktop-using-scanner-api-json/",
         "4": "Tue, 27 Aug 2024 20:00:00 +0000",
         "5": "<p>How to get data from a Fabric Lakehouse File into Power BI Desktop – Using Scanner API JSON In this blog post I am going to show you how I connected to my Scanner API JSON file which is stored in the files section of my Microsoft Fabric Lakehouse. Full credit on how to complete this comes from Marc’s blog...</p>\n<p>The post <a href=\"https://www.fourmoo.com/2024/08/28/how-to-get-data-from-a-fabric-lakehouse-file-into-power-bi-desktop-using-scanner-api-json/\">How to get data from a Fabric Lakehouse File into Power BI Desktop – Using Scanner API JSON</a> appeared first on <a href=\"https://www.fourmoo.com\">FourMoo | Fabric | Power BI</a>.</p>",
         "6": "How to get data from a Fabric Lakehouse File into Power BI Desktop – Using Scanner API JSON",
         "7": "fourmoo"
        },
        {
         "0": "Marc",
         "1": "false",
         "2": "http://data-marc.com/?p=5741",
         "3": "https://data-marc.com/2024/05/28/dynamically-refreshing-historical-partitions-in-power-bi-incremental-refresh-semantic-models-using-fabric-semantic-link/",
         "4": "Tue, 28 May 2024 15:33:46 +0000",
         "5": "I&#8217;ve heard the question pretty often from customers: &#8220;You told me to use incremental refresh, but how can I regularly run a full load or refresh onder partitions?&#8221; Well, there are perfect ways to do this using Tabular Editor or SQL Server Management Studio. But this often includes manual work to trigger the processing. Today, &#8230; <p><a class=\"more-link\" href=\"https://data-marc.com/2024/05/28/dynamically-refreshing-historical-partitions-in-power-bi-incremental-refresh-semantic-models-using-fabric-semantic-link/\">Continue reading <span class=\"screen-reader-text\">Dynamically refreshing (historical) partitions in Power BI Incremental Refresh Semantic Models using Fabric Semantic&#160;Link</span></a></p>",
         "6": "Dynamically refreshing (historical) partitions in Power BI Incremental Refresh Semantic Models using Fabric Semantic Link",
         "7": "DataMarc"
        },
        {
         "0": "Marc",
         "1": "false",
         "2": "http://data-marc.com/?p=5685",
         "3": "https://data-marc.com/2024/05/21/improving-semantic-model-documentation-with-ai-in-power-bi/",
         "4": "Tue, 21 May 2024 18:18:56 +0000",
         "5": "It has been roughly two years since the last update on the Power BI Model Documenter, an external tool that I developed to auto-document Power BI Semantic Models. Back then, we still called it datasets though. Looking at the stats of my website, the model documenter and related posts/pages are still most read on my &#8230; <p><a class=\"more-link\" href=\"https://data-marc.com/2024/05/21/improving-semantic-model-documentation-with-ai-in-power-bi/\">Continue reading <span class=\"screen-reader-text\">Improving Semantic Model Documentation with AI in Power&#160;BI</span></a></p>",
         "6": "Improving Semantic Model Documentation with AI in Power BI",
         "7": "DataMarc"
        },
        {
         "0": "Chris Webb",
         "1": "false",
         "2": "https://blog.crossjoin.co.uk/?p=19460",
         "3": "https://blog.crossjoin.co.uk/2024/08/25/tuning-power-bi-copilot-with-row-labels-and-key-columns/?utm_source=rss&utm_medium=rss&utm_campaign=tuning-power-bi-copilot-with-row-labels-and-key-columns",
         "4": "Sun, 25 Aug 2024 12:40:25 +0000",
         "5": "A few weeks ago I wrote a post on how to improve the results you get from Power BI Copilot by editing the Linguistic Schema. As I mentioned, though, there are in fact lots of different ways that you as a Power BI semantic model developer can improve the results you get from Copilot and &#8230; <a class=\"more-link\" href=\"https://blog.crossjoin.co.uk/2024/08/25/tuning-power-bi-copilot-with-row-labels-and-key-columns/\">Continue reading <span class=\"screen-reader-text\">Tuning Power BI Copilot With Row Labels And Key Columns</span> <span class=\"meta-nav\">&#8594;</span></a>",
         "6": "Tuning Power BI Copilot With Row Labels And Key Columns",
         "7": "ChrisWebbsBIBlog"
        },
        {
         "0": "Chris Webb",
         "1": "false",
         "2": "https://blog.crossjoin.co.uk/?p=19364",
         "3": "https://blog.crossjoin.co.uk/2024/08/18/which-columns-are-loaded-into-memory-when-in-power-bi-direct-lake-mode/?utm_source=rss&utm_medium=rss&utm_campaign=which-columns-are-loaded-into-memory-when-in-power-bi-direct-lake-mode",
         "4": "Sun, 18 Aug 2024 18:22:56 +0000",
         "5": "As you probably know, in Power BI Direct Lake mode column data is only loaded into memory when it is needed by a query. I gave a few examples of this &#8211; and how to monitor it using DMVs &#8211; in this blog post from last year. But which columns are loaded into memory in &#8230; <a class=\"more-link\" href=\"https://blog.crossjoin.co.uk/2024/08/18/which-columns-are-loaded-into-memory-when-in-power-bi-direct-lake-mode/\">Continue reading <span class=\"screen-reader-text\">Which Columns Are Loaded Into Memory When In Power BI Direct Lake Mode?</span> <span class=\"meta-nav\">&#8594;</span></a>",
         "6": "Which Columns Are Loaded Into Memory When In Power BI Direct Lake Mode?",
         "7": "ChrisWebbsBIBlog"
        },
        {
         "0": "Microsoft Fabric Updates Blog",
         "1": "false",
         "2": "use-azure-openai-to-turn-whiteboard-sketches-into-data-pipelines",
         "3": "https://blog.fabric.microsoft.com/en-GB/blog/use-azure-openai-to-turn-whiteboard-sketches-into-data-pipelines/",
         "4": "Thu, 10 Oct 2024 06:00:00 Z",
         "5": "<p>At the Microsoft Fabric Community Conference Europe 2024, we announced the General Availability (GA) of Copilot for Data Factory. It operates like a subject-matter expert (SME), collaborating with you to design your dataflows. Find our Copilot for Data Factory GA announcement blog.   Today, we all brainstorm ideas and draw sketches before formalizing them. As &hellip; </p>\n<p class=\"link-more\"><a class=\"more-link\" href=\"https://blog.fabric.microsoft.com/en-us/blog/use-azure-openai-to-turn-whiteboard-sketches-into-data-pipelines/\">Continue reading<span class=\"screen-reader-text\"> &#8220;Use Azure OpenAI to turn whiteboard sketches into data pipelines&#8221;</span></a></p>",
         "6": "Use Azure OpenAI to turn whiteboard sketches into data pipelines",
         "7": "MicrosoftFabricUpdatesBlog"
        },
        {
         "0": "Phil Seamark",
         "1": "false",
         "2": "https://dax.tips/?p=2362",
         "3": "https://dax.tips/2023/04/17/dax-pareto-calculation/",
         "4": "Sun, 16 Apr 2023 21:54:54 +0000",
         "5": "<p>I always enjoy it when we get new DAX functions, especially so for the new set of WINDOW Functions recently added. As part of the April 2023 release of Power BI Desktop, we now have a RANK function and the ability to use a measure to control the order within the existing WINDOW function. The <a class=\"more-link\" href=\"https://dax.tips/2023/04/17/dax-pareto-calculation/\">&#8230; <span class=\"screen-reader-text\">Continue reading DAX Pareto Calculation</span></a></p>\n<p>The post <a href=\"https://dax.tips/2023/04/17/dax-pareto-calculation/\">DAX Pareto Calculation</a> appeared first on <a href=\"https://dax.tips\">Phil Seamark on DAX</a>.</p>",
         "6": "DAX Pareto Calculation",
         "7": "PhilSeamarkonDAX"
        },
        {
         "0": "Phil Seamark",
         "1": "false",
         "2": "https://dax.tips/?p=2266",
         "3": "https://dax.tips/2023/02/23/speed-up-distinct-count-calculations-in-power-bi-using-aggregations/",
         "4": "Wed, 22 Feb 2023 22:45:02 +0000",
         "5": "<p>This article aims to show how you can speed up distinct count calculations in Power BI using the built-in user-defined aggregations feature. The user-defined aggregation feature in Power BI is designed to work with direct query models and usually gets used for calculations such as SUM, MIN, MAX etc. However, it can also work well <a class=\"more-link\" href=\"https://dax.tips/2023/02/23/speed-up-distinct-count-calculations-in-power-bi-using-aggregations/\">&#8230; <span class=\"screen-reader-text\">Continue reading Speed up Distinct Count calculations in Power BI using Aggregations</span></a></p>\n<p>The post <a href=\"https://dax.tips/2023/02/23/speed-up-distinct-count-calculations-in-power-bi-using-aggregations/\">Speed up Distinct Count calculations in Power BI using Aggregations</a> appeared first on <a href=\"https://dax.tips\">Phil Seamark on DAX</a>.</p>",
         "6": "Speed up Distinct Count calculations in Power BI using Aggregations",
         "7": "PhilSeamarkonDAX"
        },
        {
         "0": "Phil Seamark",
         "1": "false",
         "2": "https://dax.tips/?p=2586",
         "3": "https://dax.tips/2023/12/10/use-fabric-notebook-to-monitor-power-bi-semantic-models/",
         "4": "Sun, 10 Dec 2023 07:45:10 +0000",
         "5": "<p>If you are starting to enjoy using Microsoft Fabric more, especially the exciting new Direct Lake storage mode, you may find this simple tip useful to help monitor your semantic models. The idea behind this tip is to run a DMV (can be any DMV) on a regular basis against a semantic-model and accumulate results <a class=\"more-link\" href=\"https://dax.tips/2023/12/10/use-fabric-notebook-to-monitor-power-bi-semantic-models/\">&#8230; <span class=\"screen-reader-text\">Continue reading Use Fabric Notebook to monitor Power BI semantic models</span></a></p>\n<p>The post <a href=\"https://dax.tips/2023/12/10/use-fabric-notebook-to-monitor-power-bi-semantic-models/\">Use Fabric Notebook to monitor Power BI semantic models</a> appeared first on <a href=\"https://dax.tips\">Phil Seamark on DAX</a>.</p>",
         "6": "Use Fabric Notebook to monitor Power BI semantic models",
         "7": "PhilSeamarkonDAX"
        },
        {
         "0": "Microsoft Fabric Updates Blog",
         "1": "false",
         "2": "announcing-public-preview-of-the-share-feature-for-fabric-ai-skill",
         "3": "https://blog.fabric.microsoft.com/en-GB/blog/announcing-public-preview-of-the-share-feature-for-fabric-ai-skill/",
         "4": "Mon, 21 Oct 2024 13:00:00 Z",
         "5": "<p>The Share capability for Fabric AI Skill is now in public preview. This feature enables AI Skill creators to share their AI Skill with colleagues, allowing them to consume the AI Skill and gain valuable insights from the data. How Sharing WorksOnce you have created and validated the effectiveness of your AI Skill, you can &hellip; </p>\n<p class=\"link-more\"><a class=\"more-link\" href=\"https://blog.fabric.microsoft.com/en-us/blog/announcing-public-preview-of-the-share-feature-for-fabric-ai-skill/\">Continue reading<span class=\"screen-reader-text\"> &#8220;Announcing Public Preview of the &#8220;Share&#8221; Feature for Fabric AI Skill&#8221;</span></a></p>",
         "6": "Announcing Public Preview of the &#8220;Share&#8221; Feature for Fabric AI Skill",
         "7": "MicrosoftFabricUpdatesBlog"
        },
        {
         "0": "cfinlan",
         "1": "false",
         "2": "http://christopherfinlan.com/?p=2363",
         "3": "https://christopherfinlan.com/2024/02/17/the-misplaced-redemption-of-buck-rogers-in-the-25th-century-season-two-the-hawk-dilemma/",
         "4": "Sat, 17 Feb 2024 14:00:00 +0000",
         "5": "In the annals of science fiction television, few series have sparked as much debate and division among fans as &#8220;Buck Rogers in the 25th Century.&#8221; The transition from its first to its second season remains a particularly contentious point. With the introduction of the character Hawk, played by Thom Christopher, in the second season, a &#8230; <a class=\"more-link\" href=\"https://christopherfinlan.com/2024/02/17/the-misplaced-redemption-of-buck-rogers-in-the-25th-century-season-two-the-hawk-dilemma/\">Continue reading <span class=\"screen-reader-text\">The Misplaced Redemption of &#8220;Buck Rogers in the 25th Century&#8221; Season Two: The Hawk&#160;Dilemma</span></a>",
         "6": "The Misplaced Redemption of “Buck Rogers in the 25th Century” Season Two: The Hawk Dilemma",
         "7": "ChristopherFinlan"
        },
        {
         "0": "Chris Webb",
         "1": "false",
         "2": "https://blog.crossjoin.co.uk/?p=19122",
         "3": "https://blog.crossjoin.co.uk/2024/09/29/role-playing-dimensions-in-fabric-directlake-semantic-models/?utm_source=rss&utm_medium=rss&utm_campaign=role-playing-dimensions-in-fabric-directlake-semantic-models",
         "4": "Sun, 29 Sep 2024 09:33:33 +0000",
         "5": "Did you know you can add the same physical table in OneLake multiple times to the same Direct Lake semantic model? Let&#8217;s say you have two tables in a Fabric Lakehouse. One is a fact table called Sales: &#8230;and the other is a dimension table called Date: Note that the Sales fact table has two &#8230; <a class=\"more-link\" href=\"https://blog.crossjoin.co.uk/2024/09/29/role-playing-dimensions-in-fabric-directlake-semantic-models/\">Continue reading <span class=\"screen-reader-text\">Role-Playing Dimensions In Fabric Direct Lake Semantic Models</span> <span class=\"meta-nav\">&#8594;</span></a>",
         "6": "Role-Playing Dimensions In Fabric Direct Lake Semantic Models",
         "7": "ChrisWebbsBIBlog"
        },
        {
         "0": "Chris Webb",
         "1": "false",
         "2": "https://blog.crossjoin.co.uk/?p=19684",
         "3": "https://blog.crossjoin.co.uk/2024/09/22/what-can-you-do-with-copilot-in-dax-query-view/?utm_source=rss&utm_medium=rss&utm_campaign=what-can-you-do-with-copilot-in-dax-query-view",
         "4": "Sun, 22 Sep 2024 19:53:49 +0000",
         "5": "On my LinkedIn feed this morning I saw an amazing demo from Brian Julius showing how you can use AI to generate code for Python visuals in Power BI, immediately followed by this video from Marco Russo warning us not to believe all the hype about AI. I guess I, like most people, am waiting &#8230; <a class=\"more-link\" href=\"https://blog.crossjoin.co.uk/2024/09/22/what-can-you-do-with-copilot-in-dax-query-view/\">Continue reading <span class=\"screen-reader-text\">What Can You Do With Copilot In DAX Query View?</span> <span class=\"meta-nav\">&#8594;</span></a>",
         "6": "What Can You Do With Copilot In DAX Query View?",
         "7": "ChrisWebbsBIBlog"
        },
        {
         "0": "Chris Webb",
         "1": "false",
         "2": "https://blog.crossjoin.co.uk/?p=19637",
         "3": "https://blog.crossjoin.co.uk/2024/09/15/another-way-to-get-the-sql-generated-by-power-bi-directquery-mode/?utm_source=rss&utm_medium=rss&utm_campaign=another-way-to-get-the-sql-generated-by-power-bi-directquery-mode",
         "4": "Sun, 15 Sep 2024 10:43:12 +0000",
         "5": "If you&#8217;re performance tuning a DirectQuery mode semantic model in Power BI, one of the first things you&#8217;ll want to do is look at the SQL that Power BI is generating. That&#8217;s easy if you have permissions to monitor your source database but if you don&#8217;t, it can be quite difficult to do so from &#8230; <a class=\"more-link\" href=\"https://blog.crossjoin.co.uk/2024/09/15/another-way-to-get-the-sql-generated-by-power-bi-directquery-mode/\">Continue reading <span class=\"screen-reader-text\">Another Way To Get The SQL Generated By Power BI DirectQuery Mode</span> <span class=\"meta-nav\">&#8594;</span></a>",
         "6": "Another Way To Get The SQL Generated By Power BI DirectQuery Mode",
         "7": "ChrisWebbsBIBlog"
        },
        {
         "0": "cfinlan",
         "1": "false",
         "2": "http://christopherfinlan.com/?p=2275",
         "3": "https://christopherfinlan.com/2023/06/30/high-school-football-training-guide-part-1/",
         "4": "Fri, 30 Jun 2023 12:00:00 +0000",
         "5": "Chris&#8217;s Note: I asked ChatGPT to come up with a training program for my son who is starting high school football in the fall. Here&#8217;s what it came up with! As a world-class football coach, I would create a comprehensive training program for a high school freshman who plays both defensive end and tight end &#8230; <a class=\"more-link\" href=\"https://christopherfinlan.com/2023/06/30/high-school-football-training-guide-part-1/\">Continue reading <span class=\"screen-reader-text\">High School Football training guide &#8211; Part&#160;1</span></a>",
         "6": "High School Football training guide – Part 1",
         "7": "ChristopherFinlan"
        },
        {
         "0": "cfinlan",
         "1": "false",
         "2": "http://christopherfinlan.com/?p=2249",
         "3": "https://christopherfinlan.com/2023/06/26/advanced-power-bi-data-security-row-level-security-and-data-masking-strategies-with-code-samples/",
         "4": "Mon, 26 Jun 2023 12:00:00 +0000",
         "5": "Data security is of paramount importance in any data-centric organization, and Power BI, Microsoft&#8217;s business analytics tool, offers robust data security measures. Two powerful features that significantly enhance Power BI data security are Row-Level Security (RLS) and Data Masking. This blog post will provide a deep dive into these two mechanisms and show practical code &#8230; <a class=\"more-link\" href=\"https://christopherfinlan.com/2023/06/26/advanced-power-bi-data-security-row-level-security-and-data-masking-strategies-with-code-samples/\">Continue reading <span class=\"screen-reader-text\">Advanced Power BI Data Security: Row-Level Security and Data Masking Strategies with Code&#160;Samples</span></a>",
         "6": "Advanced Power BI Data Security: Row-Level Security and Data Masking Strategies with Code Samples",
         "7": "ChristopherFinlan"
        },
        {
         "0": "Kevin Chant",
         "1": "false",
         "2": "https://www.kevinrchant.com/?p=11943",
         "3": "https://www.kevinrchant.com/2024/10/03/checklist-for-the-dp-700-beta-exam-for-the-new-microsoft-fabric-data-engineering-certification/",
         "4": "Thu, 03 Oct 2024 10:11:29 +0000",
         "5": "<p><span class=\"rt-reading-time\" style=\"display: block;\"><span class=\"rt-label rt-prefix\">Reading Time: </span> <span class=\"rt-time\">4</span> <span class=\"rt-label rt-postfix\">minutes</span></span> In this post I want to share a checklist for the DP-700 beta exam for the new Microsoft Fabric Data Engineering certification. Which will officially&#8230;</p>\n<p>The post <a href=\"https://www.kevinrchant.com/2024/10/03/checklist-for-the-dp-700-beta-exam-for-the-new-microsoft-fabric-data-engineering-certification/\">Checklist for the DP-700 beta exam for the new Microsoft Fabric Data Engineering certification</a> appeared first on <a href=\"https://www.kevinrchant.com\">Kevin Chant</a>.</p>",
         "6": "Checklist for the DP-700 beta exam for the new Microsoft Fabric Data Engineering certification",
         "7": "KevinChant"
        },
        {
         "0": "Reza Rad",
         "1": "false",
         "2": "https://radacad.com/?p=19419",
         "3": "https://radacad.com/migrate-power-bi-dataflow-gen1-to-fabric-dataflow-gen2",
         "4": "Wed, 11 Sep 2024 13:42:21 +0000",
         "5": "<p>Unfortunately, there isn&#8217;t a migration tool to convert your Power BI dataflow (gen1) to Microsoft Fabric dataflow (gen2). If you have Fabric capacity licenses, it just makes sense to do that migration because Dataflow Gen2 gives you data destinations into four destinations, which we don&#8217;t have in Dataflow Gen1. However, converting Gen1 to Gen2 isn&#8217;t <a href=\"https://radacad.com/migrate-power-bi-dataflow-gen1-to-fabric-dataflow-gen2\" rel=\"nofollow\"><span class=\"sr-only\">Read more about Migrate Power BI Dataflow Gen1 to Fabric Dataflow Gen2</span>[&#8230;]</a></p>\n<p>The post <a href=\"https://radacad.com/migrate-power-bi-dataflow-gen1-to-fabric-dataflow-gen2\">Migrate Power BI Dataflow Gen1 to Fabric Dataflow Gen2</a> appeared first on <a href=\"https://radacad.com\">RADACAD</a>.</p>",
         "6": "Migrate Power BI Dataflow Gen1 to Fabric Dataflow Gen2",
         "7": "RADACAD"
        },
        {
         "0": "Chris Webb",
         "1": "false",
         "2": "https://blog.crossjoin.co.uk/?p=19562",
         "3": "https://blog.crossjoin.co.uk/2024/09/08/exploring-advanced-relationship-properties-in-power-bi-copilot/?utm_source=rss&utm_medium=rss&utm_campaign=exploring-advanced-relationship-properties-in-power-bi-copilot",
         "4": "Sun, 08 Sep 2024 15:33:30 +0000",
         "5": "I&#8217;ve been playing around with Power BI Copilot a lot recently, and following on from my recent posts on tuning Copilot by editing the Linguistic Schema and setting the Row Label and Key Column properties in this post I want to delve into some of the advanced properties of relationships. I won&#8217;t pretend to understand &#8230; <a class=\"more-link\" href=\"https://blog.crossjoin.co.uk/2024/09/08/exploring-advanced-relationship-properties-in-power-bi-copilot/\">Continue reading <span class=\"screen-reader-text\">Exploring Advanced Relationship Properties In Power BI Copilot</span> <span class=\"meta-nav\">&#8594;</span></a>",
         "6": "Exploring Advanced Relationship Properties In Power BI Copilot",
         "7": "ChrisWebbsBIBlog"
        },
        {
         "0": "Gilbert Quevauvilliers",
         "1": "false",
         "2": "https://www.fourmoo.com/?p=10837",
         "3": "https://www.fourmoo.com/2024/09/18/using-a-service-principal-to-get-all-entra-id-group-members-into-json-file-using-a-python-notebook/",
         "4": "Tue, 17 Sep 2024 20:00:00 +0000",
         "5": "<p>Using a Service Principal to get all Entra ID Group Members into JSON File using a Python Notebook Sometimes it is useful to get all Group Members into a JSON file so that this could be used for reporting purposes. Reference Notebook: Get Entra ID Group Members &#8211; Power BI In the steps below I will show you how I...</p>\n<p>The post <a href=\"https://www.fourmoo.com/2024/09/18/using-a-service-principal-to-get-all-entra-id-group-members-into-json-file-using-a-python-notebook/\">Using a Service Principal to get all Entra ID Group Members into JSON File using a Python Notebook</a> appeared first on <a href=\"https://www.fourmoo.com\">FourMoo | Fabric | Power BI</a>.</p>",
         "6": "Using a Service Principal to get all Entra ID Group Members into JSON File using a Python Notebook",
         "7": "fourmoo"
        },
        {
         "0": "James Serra",
         "1": "false",
         "2": "https://www.jamesserra.com/?p=18967",
         "3": "https://www.jamesserra.com/archive/2024/04/microsoft-purview-update/",
         "4": "Wed, 17 Apr 2024 15:00:00 +0000",
         "5": "<p>Starting last week is a rollout of the public preview of a new and fully reimagined Microsoft Purview data governance solution. Data governance has become so much more important with the collection of more and more data. Data governance involves <span class=\"excerpt-dots\">&#8230;</span> <a class=\"more-link\" href=\"https://www.jamesserra.com/archive/2024/04/microsoft-purview-update/\"><span class=\"more-msg\">Continue reading &#8594;</span></a></p>\nThe post <a href=\"https://www.jamesserra.com/archive/2024/04/microsoft-purview-update/\">Microsoft Purview new data governance features</a> first appeared on <a href=\"https://www.jamesserra.com\">James Serra's Blog</a>.",
         "6": "Microsoft Purview new data governance features",
         "7": "JamesSerra"
        },
        {
         "0": "James Serra",
         "1": "false",
         "2": "https://www.jamesserra.com/?p=18934",
         "3": "https://www.jamesserra.com/archive/2024/03/announcements-from-the-microsoft-fabric-community-conference/",
         "4": "Thu, 28 Mar 2024 15:00:00 +0000",
         "5": "<p>(Shameless plug: The price of my book &#8220;Deciphering Data Architectures: Choosing Between a Modern Data Warehouse, Data Fabric, Data Lakehouse, and Data Mesh&#8221; has dropped on Amazon to its lowest price yet) A ton of new features for Microsoft Fabric <span class=\"excerpt-dots\">&#8230;</span> <a class=\"more-link\" href=\"https://www.jamesserra.com/archive/2024/03/announcements-from-the-microsoft-fabric-community-conference/\"><span class=\"more-msg\">Continue reading &#8594;</span></a></p>\nThe post <a href=\"https://www.jamesserra.com/archive/2024/03/announcements-from-the-microsoft-fabric-community-conference/\">Announcements from the Microsoft Fabric Community Conference</a> first appeared on <a href=\"https://www.jamesserra.com\">James Serra's Blog</a>.",
         "6": "Announcements from the Microsoft Fabric Community Conference",
         "7": "JamesSerra"
        },
        {
         "0": "Marc",
         "1": "false",
         "2": "http://data-marc.com/?p=5972",
         "3": "https://data-marc.com/2024/06/25/fabric-git-branching-with-the-new-branch-out-option-how-it-works-and-what-you-should-keep-in-mind/",
         "4": "Tue, 25 Jun 2024 10:02:35 +0000",
         "5": "Yesterday, Microsoft released a new option called &#8220;branch-out&#8221; that allows you to easily setup a new branch from an existing Fabric workspace. Obviously, this was already possible but involved a lot of manual work. With this new option, you can create your own feature branch to work in isolation before you commit your work to &#8230; <p><a class=\"more-link\" href=\"https://data-marc.com/2024/06/25/fabric-git-branching-with-the-new-branch-out-option-how-it-works-and-what-you-should-keep-in-mind/\">Continue reading <span class=\"screen-reader-text\">Fabric Git branching with the new branch-out option how it works and what you should keep in&#160;mind</span></a></p>",
         "6": "Fabric Git branching with the new branch-out option how it works and what you should keep in mind",
         "7": "DataMarc"
        },
        {
         "0": "Phil Seamark",
         "1": "false",
         "2": "https://dax.tips/?p=2574",
         "3": "https://dax.tips/2023/12/05/create-charts-using-vega-in-microsoft-fabric-notebook/",
         "4": "Tue, 05 Dec 2023 05:00:48 +0000",
         "5": "<p>I recently needed to generate a quick visual inside a Microsoft Fabric notebook. After a little internet searching, I found there are many good quality charting libraries in Python, however it was going to take too long to figure out how to create a very specific type of chart. This is where Vega came to <a class=\"more-link\" href=\"https://dax.tips/2023/12/05/create-charts-using-vega-in-microsoft-fabric-notebook/\">&#8230; <span class=\"screen-reader-text\">Continue reading Create charts using Vega in Microsoft Fabric Notebook</span></a></p>\n<p>The post <a href=\"https://dax.tips/2023/12/05/create-charts-using-vega-in-microsoft-fabric-notebook/\">Create charts using Vega in Microsoft Fabric Notebook</a> appeared first on <a href=\"https://dax.tips\">Phil Seamark on DAX</a>.</p>",
         "6": "Create charts using Vega in Microsoft Fabric Notebook",
         "7": "PhilSeamarkonDAX"
        },
        {
         "0": "Gerhard Brueckl",
         "1": "false",
         "2": "https://blog.gbrueckl.at/?p=2183",
         "3": "https://blog.gbrueckl.at/2024/04/visualizing-spark-execution-plans/",
         "4": "Tue, 30 Apr 2024 12:42:40 +0000",
         "5": "I recently found myself in a situation where I had to optimize a Spark query. Coming from a SQL world originally I knew how valuable a visual representation of an execution plan can be when it comes to performance tuning. Soon I realized that there is no easy-to-use tool or snippet which would allow me to do that. Though, there are tools like DataFlint, the ubiquitous Spark monitoring UI or the Spark explain() function but they are either hard to use or hard to get up running especially as I was looking for something that works in both of my <a class=\"more-link\" href=\"https://blog.gbrueckl.at/2024/04/visualizing-spark-execution-plans/\">Continue reading <span class=\"screen-reader-text\">  Visualizing Spark Execution Plans</span><span class=\"meta-nav\">&#8594;</span></a>",
         "6": "Visualizing Spark Execution Plans",
         "7": "GerhardBruecklonBIData"
        },
        {
         "0": "Gilbert Quevauvilliers",
         "1": "false",
         "2": "https://www.fourmoo.com/?p=10776",
         "3": "https://www.fourmoo.com/2024/07/10/semantic-link-labs-automate-updating-your-incremental-refresh-policy-for-your-semantic-model/",
         "4": "Tue, 09 Jul 2024 20:00:00 +0000",
         "5": "<p>The scenario here is that quite often there is a requirement to only keep data from a specific start date, or where it should be keeping data for the last N number of years (which is the first day in January). Currently in Power BI using the default Incremental refresh settings this is not possible. Typically, you must keep more...</p>\n<p>The post <a href=\"https://www.fourmoo.com/2024/07/10/semantic-link-labs-automate-updating-your-incremental-refresh-policy-for-your-semantic-model/\">Semantic-Link-Labs – Automate updating your Incremental Refresh Policy for your Semantic Model</a> appeared first on <a href=\"https://www.fourmoo.com\">FourMoo | Fabric | Power BI</a>.</p>",
         "6": "Semantic-Link-Labs – Automate updating your Incremental Refresh Policy for your Semantic Model",
         "7": "fourmoo"
        },
        {
         "0": "Gilbert Quevauvilliers",
         "1": "false",
         "2": "https://www.fourmoo.com/?p=10767",
         "3": "https://www.fourmoo.com/2024/07/03/loading-fabric-lakehouse-tables-with-partitions/",
         "4": "Tue, 02 Jul 2024 20:00:00 +0000",
         "5": "<p>When loading data, it is always important to load the data with performance and scalability in mind. For lakehouse tables to return queries quickly and to scale it is essential to load your lakehouse tables with partitions. What I am going to show you in my blog post today is how to load data into a Lakehouse table where the...</p>\n<p>The post <a href=\"https://www.fourmoo.com/2024/07/03/loading-fabric-lakehouse-tables-with-partitions/\">Loading Fabric Lakehouse Tables with partitions</a> appeared first on <a href=\"https://www.fourmoo.com\">FourMoo | Fabric | Power BI</a>.</p>",
         "6": "Loading Fabric Lakehouse Tables with partitions",
         "7": "fourmoo"
        },
        {
         "0": "James Serra",
         "1": "false",
         "2": "https://www.jamesserra.com/?p=18704",
         "3": "https://www.jamesserra.com/archive/2024/02/my-data-architecture-book-is-published/",
         "4": "Thu, 08 Feb 2024 18:20:11 +0000",
         "5": "<p>I&#8217;m thrilled to share that after 15 months of dedicated effort, my book, &#8220;Deciphering Data Architectures: Choosing Between a Modern Data Warehouse, Data Fabric, Data Lakehouse, and Data Mesh,&#8221; is now available in eBook/Kindle format on Amazon! The journey to <span class=\"excerpt-dots\">&#8230;</span> <a class=\"more-link\" href=\"https://www.jamesserra.com/archive/2024/02/my-data-architecture-book-is-published/\"><span class=\"more-msg\">Continue reading &#8594;</span></a></p>\nThe post <a href=\"https://www.jamesserra.com/archive/2024/02/my-data-architecture-book-is-published/\">My data architecture book is published!</a> first appeared on <a href=\"https://www.jamesserra.com\">James Serra's Blog</a>.",
         "6": "My data architecture book is published!",
         "7": "JamesSerra"
        },
        {
         "0": "James Serra",
         "1": "false",
         "2": "https://www.jamesserra.com/?p=18597",
         "3": "https://www.jamesserra.com/archive/2024/01/data-mesh-topologies/",
         "4": "Tue, 30 Jan 2024 16:00:00 +0000",
         "5": "<p>As a follow up to my blog Common Data Mesh exceptions, I wanted to discuss various types of data mesh topologies I am seeing being built. I put them into three categories, but there are many variations to these three <span class=\"excerpt-dots\">&#8230;</span> <a class=\"more-link\" href=\"https://www.jamesserra.com/archive/2024/01/data-mesh-topologies/\"><span class=\"more-msg\">Continue reading &#8594;</span></a></p>\nThe post <a href=\"https://www.jamesserra.com/archive/2024/01/data-mesh-topologies/\">Data Mesh Topologies</a> first appeared on <a href=\"https://www.jamesserra.com\">James Serra's Blog</a>.",
         "6": "Data Mesh Topologies",
         "7": "JamesSerra"
        },
        {
         "0": "James Serra",
         "1": "false",
         "2": "https://www.jamesserra.com/?p=18542",
         "3": "https://www.jamesserra.com/archive/2024/01/common-data-mesh-exceptions/",
         "4": "Thu, 04 Jan 2024 16:00:00 +0000",
         "5": "<p>When it comes to data meshes that have been constructed or are currently under development, I have not observed any instances where the four core data mesh principles have been utilized to their fullest extent. This ideal, which I term <span class=\"excerpt-dots\">&#8230;</span> <a class=\"more-link\" href=\"https://www.jamesserra.com/archive/2024/01/common-data-mesh-exceptions/\"><span class=\"more-msg\">Continue reading &#8594;</span></a></p>\nThe post <a href=\"https://www.jamesserra.com/archive/2024/01/common-data-mesh-exceptions/\">Common Data Mesh exceptions</a> first appeared on <a href=\"https://www.jamesserra.com\">James Serra's Blog</a>.",
         "6": "Common Data Mesh exceptions",
         "7": "JamesSerra"
        },
        {
         "0": "James Serra",
         "1": "false",
         "2": "https://www.jamesserra.com/?p=18498",
         "3": "https://www.jamesserra.com/archive/2023/12/microsoft-fabric-the-great-unifier/",
         "4": "Tue, 12 Dec 2023 16:00:00 +0000",
         "5": "<p>I&#8217;m seeing a lot of excitement from customers over Microsoft Fabric, now that it GA&#8217;d a few weeks ago. One thing that is generating a lot of that excitement is using Fabric in a way that I call &#8220;the great <span class=\"excerpt-dots\">&#8230;</span> <a class=\"more-link\" href=\"https://www.jamesserra.com/archive/2023/12/microsoft-fabric-the-great-unifier/\"><span class=\"more-msg\">Continue reading &#8594;</span></a></p>\nThe post <a href=\"https://www.jamesserra.com/archive/2023/12/microsoft-fabric-the-great-unifier/\">Microsoft Fabric – the great unifier</a> first appeared on <a href=\"https://www.jamesserra.com\">James Serra's Blog</a>.",
         "6": "Microsoft Fabric – the great unifier",
         "7": "JamesSerra"
        },
        {
         "0": "Kevin Chant",
         "1": "false",
         "2": "https://www.kevinrchant.com/?p=11916",
         "3": "https://www.kevinrchant.com/2024/09/30/about-the-dp-700-exam-for-the-new-microsoft-fabric-data-engineering-certification/",
         "4": "Mon, 30 Sep 2024 10:20:53 +0000",
         "5": "<p><span class=\"rt-reading-time\" style=\"display: block;\"><span class=\"rt-label rt-prefix\">Reading Time: </span> <span class=\"rt-time\">8</span> <span class=\"rt-label rt-postfix\">minutes</span></span> In this post I share my thoughts about the DP-700 exam for the new Microsoft Fabric Data Engineering certification. Which will officially be known as&#8230;</p>\n<p>The post <a href=\"https://www.kevinrchant.com/2024/09/30/about-the-dp-700-exam-for-the-new-microsoft-fabric-data-engineering-certification/\">About the DP-700 exam for the new Microsoft Fabric Data Engineering certification</a> appeared first on <a href=\"https://www.kevinrchant.com\">Kevin Chant</a>.</p>",
         "6": "About the DP-700 exam for the new Microsoft Fabric Data Engineering certification",
         "7": "KevinChant"
        },
        {
         "0": "Kevin Chant",
         "1": "false",
         "2": "https://www.kevinrchant.com/?p=11894",
         "3": "https://www.kevinrchant.com/2024/09/23/choosing-azure-devops-or-github-for-microsoft-fabric-git-integration/",
         "4": "Mon, 23 Sep 2024 09:41:42 +0000",
         "5": "<p><span class=\"rt-reading-time\" style=\"display: block;\"><span class=\"rt-label rt-prefix\">Reading Time: </span> <span class=\"rt-time\">6</span> <span class=\"rt-label rt-postfix\">minutes</span></span> In this post I want to share some things to consider when choosing Azure DevOps or GitHub for Microsoft Fabric Git integration. Since you can&#8230;</p>\n<p>The post <a href=\"https://www.kevinrchant.com/2024/09/23/choosing-azure-devops-or-github-for-microsoft-fabric-git-integration/\">Choosing Azure DevOps or GitHub for Microsoft Fabric Git integration</a> appeared first on <a href=\"https://www.kevinrchant.com\">Kevin Chant</a>.</p>",
         "6": "Choosing Azure DevOps or GitHub for Microsoft Fabric Git integration",
         "7": "KevinChant"
        },
        {
         "0": "Microsoft Fabric Updates Blog",
         "1": "false",
         "2": "microsoft-fabric-and-ai-learning-hackathon-copilot-in-fabric",
         "3": "https://blog.fabric.microsoft.com/en-GB/blog/microsoft-fabric-and-ai-learning-hackathon-copilot-in-fabric/",
         "4": "Tue, 15 Oct 2024 04:00:00 Z",
         "5": "<p>This session is part of the Microsoft Fabric and AI Learning Hackathon which focuses on how you can leverage Copilot in Microsoft Fabric. It will guide you through the various capabilities that Copilot offers for you to use Microsoft Fabric, empowering you to enhance productivity and streamline your workflows. We will dive deep into practical &hellip; </p>\n<p class=\"link-more\"><a class=\"more-link\" href=\"https://blog.fabric.microsoft.com/en-us/blog/microsoft-fabric-and-ai-learning-hackathon-copilot-in-fabric/\">Continue reading<span class=\"screen-reader-text\"> &#8220;Microsoft Fabric and AI Learning Hackathon: Copilot in Fabric&#8221;</span></a></p>",
         "6": "Microsoft Fabric and AI Learning Hackathon: Copilot in Fabric",
         "7": "MicrosoftFabricUpdatesBlog"
        },
        {
         "0": "Reza Rad",
         "1": "false",
         "2": "https://radacad.com/?p=19370",
         "3": "https://radacad.com/roles-in-a-data-analytics-team",
         "4": "Wed, 07 Aug 2024 11:33:05 +0000",
         "5": "<p>In the previous article and video, I explained the important factors in having a successful data analytics team. One of those aspects is the team, the people, and their roles. In this article and video, I will explain the roles involved in the data analytics project and the types of tasks and requirements for each <a href=\"https://radacad.com/roles-in-a-data-analytics-team\" rel=\"nofollow\"><span class=\"sr-only\">Read more about Roles in a Data Analytics Team</span>[&#8230;]</a></p>\n<p>The post <a href=\"https://radacad.com/roles-in-a-data-analytics-team\">Roles in a Data Analytics Team</a> appeared first on <a href=\"https://radacad.com\">RADACAD</a>.</p>",
         "6": "Roles in a Data Analytics Team",
         "7": "RADACAD"
        },
        {
         "0": "Reza Rad",
         "1": "false",
         "2": "https://radacad.com/?p=19351",
         "3": "https://radacad.com/building-a-data-analytics-team-in-this-golden-era-of-technology",
         "4": "Sun, 04 Aug 2024 03:03:09 +0000",
         "5": "<p>Recently, I did a presentation at a conference, and the topic was non-technical, unlike many other presentations that I do. I thought it would be helpful for you all to know about it, as I spent some time and gathered some information about it combined with the experiences I had with some of my customers. <a href=\"https://radacad.com/building-a-data-analytics-team-in-this-golden-era-of-technology\" rel=\"nofollow\"><span class=\"sr-only\">Read more about Building a Data Analytics Team in this golden era of technology</span>[&#8230;]</a></p>\n<p>The post <a href=\"https://radacad.com/building-a-data-analytics-team-in-this-golden-era-of-technology\">Building a Data Analytics Team in this golden era of technology</a> appeared first on <a href=\"https://radacad.com\">RADACAD</a>.</p>",
         "6": "Building a Data Analytics Team in this golden era of technology",
         "7": "RADACAD"
        },
        {
         "0": "Reza Rad",
         "1": "false",
         "2": "https://radacad.com/?p=19442",
         "3": "https://radacad.com/microsoft-certification-exams-for-power-bi-and-fabric",
         "4": "Wed, 02 Oct 2024 02:19:43 +0000",
         "5": "<p>If you want to get Microsoft certifications in the Fabric and Power BI space, there have been some changes in the past few years, especially with the changes in technology. In this blog and video, I&#8217;ll explain the current certifications in this area and what is covered in each. Video Why certifications? The first question <a href=\"https://radacad.com/microsoft-certification-exams-for-power-bi-and-fabric\" rel=\"nofollow\"><span class=\"sr-only\">Read more about Microsoft Certification Exams for Power BI and Fabric</span>[&#8230;]</a></p>\n<p>The post <a href=\"https://radacad.com/microsoft-certification-exams-for-power-bi-and-fabric\">Microsoft Certification Exams for Power BI and Fabric</a> appeared first on <a href=\"https://radacad.com\">RADACAD</a>.</p>",
         "6": "Microsoft Certification Exams for Power BI and Fabric",
         "7": "RADACAD"
        },
        {
         "0": "Phil Seamark",
         "1": "false",
         "2": "https://dax.tips/?p=1717",
         "3": "https://dax.tips/2021/09/06/intro-to-power-bi-aggregations/",
         "4": "Mon, 06 Sep 2021 00:00:05 +0000",
         "5": "<p>This article introduces the Power BI User-defined Aggregations feature. It includes a walkthrough example (with video) showing how to configure and test a simple model to use this feature. If you have not used Power BI User-defined Aggregations before, need a refresher or reminder, or are just keen to understand how to configure, this article <a class=\"more-link\" href=\"https://dax.tips/2021/09/06/intro-to-power-bi-aggregations/\">&#8230; <span class=\"screen-reader-text\">Continue reading Intro to Power BI Aggregations</span></a></p>\n<p>The post <a href=\"https://dax.tips/2021/09/06/intro-to-power-bi-aggregations/\">Intro to Power BI Aggregations</a> appeared first on <a href=\"https://dax.tips\">Phil Seamark on DAX</a>.</p>",
         "6": "Intro to Power BI Aggregations",
         "7": "PhilSeamarkonDAX"
        },
        {
         "0": "Phil Seamark",
         "1": "false",
         "2": "https://dax.tips/?p=1605",
         "3": "https://dax.tips/2021/05/17/dax-count-number-of-last-known-state/",
         "4": "Mon, 17 May 2021 00:52:12 +0000",
         "5": "<p>Using DAX to help group and count the last known state I got asked recently to help with a DAX measure for an interesting problem in the inventory domain. The requirement is to generate a chart showing the count of the last known State of a given number of items. Here is a walkthrough of <a class=\"more-link\" href=\"https://dax.tips/2021/05/17/dax-count-number-of-last-known-state/\">&#8230; <span class=\"screen-reader-text\">Continue reading DAX : Count number of last known state</span></a></p>\n<p>The post <a href=\"https://dax.tips/2021/05/17/dax-count-number-of-last-known-state/\">DAX : Count number of last known state</a> appeared first on <a href=\"https://dax.tips\">Phil Seamark on DAX</a>.</p>",
         "6": "DAX : Count number of last known state",
         "7": "PhilSeamarkonDAX"
        },
        {
         "0": "Reza Rad",
         "1": "false",
         "2": "https://radacad.com/?p=19244",
         "3": "https://radacad.com/copilot-in-fabric-data-warehouse-magic-in-t-sql",
         "4": "Mon, 01 Jul 2024 19:43:56 +0000",
         "5": "<p>Microsoft Copilot is utilized in different technologies in Microsoft; in Microsoft Fabric, one of the places that you can use Copilot is in the Data Warehousing workload, which will guide you through your SQL commands and enhance your SQL coding experience. I&#8217;ll show you how the Copilot in the Data Warehouse works in this article <a href=\"https://radacad.com/copilot-in-fabric-data-warehouse-magic-in-t-sql\" rel=\"nofollow\"><span class=\"sr-only\">Read more about Copilot in Fabric Data Warehouse: Magic in T-SQL</span>[&#8230;]</a></p>\n<p>The post <a href=\"https://radacad.com/copilot-in-fabric-data-warehouse-magic-in-t-sql\">Copilot in Fabric Data Warehouse: Magic in T-SQL</a> appeared first on <a href=\"https://radacad.com\">RADACAD</a>.</p>",
         "6": "Copilot in Fabric Data Warehouse: Magic in T-SQL",
         "7": "RADACAD"
        },
        {
         "0": "Reza Rad",
         "1": "false",
         "2": "https://radacad.com/?p=19216",
         "3": "https://radacad.com/what-is-spark-in-microsoft-fabric",
         "4": "Wed, 19 Jun 2024 08:42:13 +0000",
         "5": "<p>Microsoft Fabric runs some workloads under the Spark engine, but what is it really? In this article, I&#8217;ll take you through the question of what Spark is, What benefits it has, how it is associated with Fabric, what configurations you have, and other things you need to know about it. Video What is Spark? Apache <a href=\"https://radacad.com/what-is-spark-in-microsoft-fabric\" rel=\"nofollow\"><span class=\"sr-only\">Read more about What is Spark in Microsoft Fabric?</span>[&#8230;]</a></p>\n<p>The post <a href=\"https://radacad.com/what-is-spark-in-microsoft-fabric\">What is Spark in Microsoft Fabric?</a> appeared first on <a href=\"https://radacad.com\">RADACAD</a>.</p>",
         "6": "What is Spark in Microsoft Fabric?",
         "7": "RADACAD"
        },
        {
         "0": "James Serra",
         "1": "false",
         "2": "https://www.jamesserra.com/?p=19307",
         "3": "https://www.jamesserra.com/archive/2024/05/microsoft-build-event-announcements-5/",
         "4": "Wed, 22 May 2024 15:00:00 +0000",
         "5": "<p>There were a number of Microsoft Fabric announcements at&#160;Microsoft Build&#160;yesterday that I wanted to blog about. Everything announced at Build can be found in the&#160;Microsoft Build 2024 Book of News. Top announcement: Real-Time Intelligence The new&#160;Real-Time Intelligence&#160;within Microsoft Fabric will <span class=\"excerpt-dots\">&#8230;</span> <a class=\"more-link\" href=\"https://www.jamesserra.com/archive/2024/05/microsoft-build-event-announcements-5/\"><span class=\"more-msg\">Continue reading &#8594;</span></a></p>\nThe post <a href=\"https://www.jamesserra.com/archive/2024/05/microsoft-build-event-announcements-5/\">Microsoft Build event announcements on Fabric</a> first appeared on <a href=\"https://www.jamesserra.com\">James Serra's Blog</a>.",
         "6": "Microsoft Build event announcements on Fabric",
         "7": "JamesSerra"
        },
        {
         "0": "James Serra",
         "1": "false",
         "2": "https://www.jamesserra.com/?p=19228",
         "3": "https://www.jamesserra.com/archive/2024/05/microsoft-fabric-shortcuts/",
         "4": "Wed, 01 May 2024 15:00:00 +0000",
         "5": "<p>I talked about Microsoft Fabric shortcuts in my blog post Microsoft Fabric &#x2013; the great unifier (where I have updated the picture with the newest supported sources) and wanted to provide more details on how shortcuts work and reduce some <span class=\"excerpt-dots\">&#8230;</span> <a class=\"more-link\" href=\"https://www.jamesserra.com/archive/2024/05/microsoft-fabric-shortcuts/\"><span class=\"more-msg\">Continue reading &#8594;</span></a></p>\nThe post <a href=\"https://www.jamesserra.com/archive/2024/05/microsoft-fabric-shortcuts/\">Microsoft Fabric shortcuts</a> first appeared on <a href=\"https://www.jamesserra.com\">James Serra's Blog</a>.",
         "6": "Microsoft Fabric shortcuts",
         "7": "JamesSerra"
        },
        {
         "0": "Gilbert Quevauvilliers",
         "1": "false",
         "2": "https://www.fourmoo.com/?p=10856",
         "3": "https://www.fourmoo.com/2024/09/26/how-to-view-or-track-the-progress-of-notebook-while-it-is-running-in-microsoft-fabric/",
         "4": "Wed, 25 Sep 2024 20:00:00 +0000",
         "5": "<p>How to view or track the progress of Notebook while it is running in Microsoft Fabric I was recently working with a Notebook in Microsoft Fabric that was started via a Data Pipeline. The challenge I had was that I had no idea how far the notebook had gone (as there were quite a lot of cells in this particular...</p>\n<p>The post <a href=\"https://www.fourmoo.com/2024/09/26/how-to-view-or-track-the-progress-of-notebook-while-it-is-running-in-microsoft-fabric/\">How to view or track the progress of Notebook while it is running in Microsoft Fabric</a> appeared first on <a href=\"https://www.fourmoo.com\">FourMoo | Fabric | Power BI</a>.</p>",
         "6": "How to view or track the progress of Notebook while it is running in Microsoft Fabric",
         "7": "fourmoo"
        },
        {
         "0": "Chris Webb",
         "1": "false",
         "2": "https://blog.crossjoin.co.uk/?p=19842",
         "3": "https://blog.crossjoin.co.uk/2024/10/06/different-ways-to-create-synonyms-in-power-bi-copilot/?utm_source=rss&utm_medium=rss&utm_campaign=different-ways-to-create-synonyms-in-power-bi-copilot",
         "4": "Sun, 06 Oct 2024 18:51:53 +0000",
         "5": "If you have been using Power BI Copilot to ask questions about the data in your model you will probably know that you should tune your Linguistic Schema to get the best results (something I&#8217;ve blogged about, for example here and here). Synonyms are one of the most important things you can add to your &#8230; <a class=\"more-link\" href=\"https://blog.crossjoin.co.uk/2024/10/06/different-ways-to-create-synonyms-in-power-bi-copilot/\">Continue reading <span class=\"screen-reader-text\">Different Ways To Create Synonyms In Power BI Copilot</span> <span class=\"meta-nav\">&#8594;</span></a>",
         "6": "Different Ways To Create Synonyms In Power BI Copilot",
         "7": "ChrisWebbsBIBlog"
        },
        {
         "0": "Marthe Moengen",
         "1": "false",
         "2": "http://data-ascend.com/?p=935",
         "3": "https://data-ascend.com/2023/10/11/how-do-you-set-up-your-data-governance-in-microsoft-fabric/",
         "4": "Wed, 11 Oct 2023 07:48:00 +0000",
         "5": "Microsoft Fabric simplifies governance and administration with its new capabilities such as Domains, Roles in Fabric, and Access Management. It supports a data mesh architecture, offering enhanced permissions and security levels through features like Column-Level &#38; Row-Level Security. It also enables Information Protection, Data Loss Prevention, and Endorsement. Meanwhile, Fabric provides Data Lineage and Metadata management, enabling better governance. Data Governance is more important than ever after introducing Fabric.",
         "6": "How do you set up your Data Governance in Microsoft Fabric?",
         "7": "DATAASCEND"
        },
        {
         "0": "Marthe Moengen",
         "1": "false",
         "2": "http://data-ascend.com/?p=871",
         "3": "https://data-ascend.com/2023/10/04/what-is-onelake-in-microsoft-fabric/",
         "4": "Wed, 04 Oct 2023 07:25:59 +0000",
         "5": "OneLake in Fabric is a Data Lake as a Service solution that provides one data lake for your entire organization, and one copy of data that multiple analytical engines can process.  Microsoft Fabric, introduced at Build on May 23, includes the revolutionary OneLake feature. OneLake acts as a unified Data Lake as a Service solution. It simplifies data management with unified governance, storage, transformations, and discovery. Users can access the OneLake through a dedicated OneLake Explorer application and its structure can be organized with Workspaces. Features include secure access control, flexibility in storage formats, and compatibility with Delta Format. Shortcuts enable linkages to other storage locations, enhancing usability.",
         "6": "What is OneLake in Microsoft Fabric?",
         "7": "DATAASCEND"
        },
        {
         "0": "Kevin Chant",
         "1": "false",
         "2": "https://www.kevinrchant.com/?p=11962",
         "3": "https://www.kevinrchant.com/2024/10/16/populate-a-microsoft-fabric-lakehouse-in-different-deployment-pipeline-stages/",
         "4": "Wed, 16 Oct 2024 10:20:06 +0000",
         "5": "<p><span class=\"rt-reading-time\" style=\"display: block;\"><span class=\"rt-label rt-prefix\">Reading Time: </span> <span class=\"rt-time\">5</span> <span class=\"rt-label rt-postfix\">minutes</span></span> In this post I show one way you can populate a Microsoft Fabric Lakehouse in different Microsoft Fabric deployment pipeline stages. I want to cover&#8230;</p>\n<p>The post <a href=\"https://www.kevinrchant.com/2024/10/16/populate-a-microsoft-fabric-lakehouse-in-different-deployment-pipeline-stages/\">Populate a Microsoft Fabric Lakehouse in different deployment pipeline stages</a> appeared first on <a href=\"https://www.kevinrchant.com\">Kevin Chant</a>.</p>",
         "6": "Populate a Microsoft Fabric Lakehouse in different deployment pipeline stages",
         "7": "KevinChant"
        },
        {
         "0": "Kevin Chant",
         "1": "false",
         "2": "https://www.kevinrchant.com/?p=11823",
         "3": "https://www.kevinrchant.com/2024/08/27/advantages-of-azure-infrastructure-knowledge-when-working-with-microsoft-fabric/",
         "4": "Tue, 27 Aug 2024 10:49:39 +0000",
         "5": "<p><span class=\"rt-reading-time\" style=\"display: block;\"><span class=\"rt-label rt-prefix\">Reading Time: </span> <span class=\"rt-time\">2</span> <span class=\"rt-label rt-postfix\">minutes</span></span> In this post I want to cover the advantages of Azure infrastructure knowledge when working with Microsoft Fabric. I wanted to cover this topic after&#8230;</p>\n<p>The post <a href=\"https://www.kevinrchant.com/2024/08/27/advantages-of-azure-infrastructure-knowledge-when-working-with-microsoft-fabric/\">Advantages of Azure infrastructure knowledge when working with Microsoft Fabric</a> appeared first on <a href=\"https://www.kevinrchant.com\">Kevin Chant</a>.</p>",
         "6": "Advantages of Azure infrastructure knowledge when working with Microsoft Fabric",
         "7": "KevinChant"
        },
        {
         "0": "Kevin Chant",
         "1": "false",
         "2": "https://www.kevinrchant.com/?p=11802",
         "3": "https://www.kevinrchant.com/2024/08/20/latest-microsoft-fabric-security-white-paper-updates/",
         "4": "Tue, 20 Aug 2024 11:36:48 +0000",
         "5": "<p><span class=\"rt-reading-time\" style=\"display: block;\"><span class=\"rt-label rt-prefix\">Reading Time: </span> <span class=\"rt-time\">5</span> <span class=\"rt-label rt-postfix\">minutes</span></span> In this post I want to share my thoughts about the latest Microsoft Fabric security white paper updates. Due to the fact that the security&#8230;</p>\n<p>The post <a href=\"https://www.kevinrchant.com/2024/08/20/latest-microsoft-fabric-security-white-paper-updates/\">Latest Microsoft Fabric security white paper updates</a> appeared first on <a href=\"https://www.kevinrchant.com\">Kevin Chant</a>.</p>",
         "6": "Latest Microsoft Fabric security white paper updates",
         "7": "KevinChant"
        },
        {
         "0": "bennidejagere",
         "1": "false",
         "2": "https://bennidejagere.com/?p=1728",
         "3": "https://bennidejagere.com/2022/03/t-sql-tuesday-148-advice-on-running-a-user-group/",
         "4": "Tue, 08 Mar 2022 14:08:57 +0000",
         "5": "<p>It’s T-SQL Tuesday!! T-SQL Tuesday is the brainchild of Adam Machanic (Blog &#124; Twitter). December 2009 was the first T-SQL Tuesday invitation that went out by Adam. It is a monthly blog party on the second Tuesday of each month. Currently, Steve Jones (Blog &#124; Twitter) organises the event and maintains a website with all previous posts. Everyone is [&#8230;]</p>\n<p>The post <a href=\"https://bennidejagere.com/2022/03/t-sql-tuesday-148-advice-on-running-a-user-group/\">T-SQL Tuesday #148 &#8211; Advice on running a user group</a> appeared first on <a href=\"https://bennidejagere.com\">Benni De Jagere</a>.</p>",
         "6": "T-SQL Tuesday #148 – Advice on running a user group",
         "7": "BenniDeJagere"
        },
        {
         "0": "bennidejagere",
         "1": "false",
         "2": "https://bennidejagere.com/?p=1594",
         "3": "https://bennidejagere.com/2022/02/march-madness-the-return-of-the-conference/",
         "4": "Tue, 08 Feb 2022 10:44:58 +0000",
         "5": "<p>I&#8217;m stoked! With just a few weeks left to go, I&#8217;m blessed to get to go outside again, and visit London. Throughout March 8th &#8211; 12th, I will attend SQLBits, and even present two sessions myself. Happening in that same week, is the Global Power BI Summit, as an online event. Here, I will be [&#8230;]</p>\n<p>The post <a href=\"https://bennidejagere.com/2022/02/march-madness-the-return-of-the-conference/\">March Madness! The Return of the Conferences (SQLBits and Global Power BI Summit)</a> appeared first on <a href=\"https://bennidejagere.com\">Benni De Jagere</a>.</p>",
         "6": "March Madness! The Return of the Conferences (SQLBits and Global Power BI Summit)",
         "7": "BenniDeJagere"
        },
        {
         "0": "Phil Seamark",
         "1": "false",
         "2": "https://dax.tips/?p=2549",
         "3": "https://dax.tips/2023/12/05/visualize-power-bi-refresh-using-sempy/",
         "4": "Tue, 05 Dec 2023 03:14:23 +0000",
         "5": "<p>A few blogs back I shared a technique using Power BI Profiler (or VS Code) to run and capture a trace over a refresh of a Power BI semantic model (the object formally known as a dataset). I&#8217;ve since received a lot of positive feedback from people saying how useful it was to visualize each <a class=\"more-link\" href=\"https://dax.tips/2023/12/05/visualize-power-bi-refresh-using-sempy/\">&#8230; <span class=\"screen-reader-text\">Continue reading Visualize Power BI Refresh using Semantic-link</span></a></p>\n<p>The post <a href=\"https://dax.tips/2023/12/05/visualize-power-bi-refresh-using-sempy/\">Visualize Power BI Refresh using Semantic-link</a> appeared first on <a href=\"https://dax.tips\">Phil Seamark on DAX</a>.</p>",
         "6": "Visualize Power BI Refresh using Semantic-link",
         "7": "PhilSeamarkonDAX"
        },
        {
         "0": "Phil Seamark",
         "1": "false",
         "2": "https://dax.tips/?p=1759",
         "3": "https://dax.tips/2021/09/21/power-bi-multiple-aggregations-tables/",
         "4": "Mon, 20 Sep 2021 22:41:31 +0000",
         "5": "<p>Part two in this series on Power BI Aggregation tables focuses on Power BI data models with more than one aggregation table. The first article introduced Power BI Aggregations and included a walk through configuring a Power BI model with a single aggregation table. Intro to Power BI Aggregations Multiple aggregations tables DUAL storage mode <a class=\"more-link\" href=\"https://dax.tips/2021/09/21/power-bi-multiple-aggregations-tables/\">&#8230; <span class=\"screen-reader-text\">Continue reading Power BI Multiple Aggregations tables</span></a></p>\n<p>The post <a href=\"https://dax.tips/2021/09/21/power-bi-multiple-aggregations-tables/\">Power BI Multiple Aggregations tables</a> appeared first on <a href=\"https://dax.tips\">Phil Seamark on DAX</a>.</p>",
         "6": "Power BI Multiple Aggregations tables",
         "7": "PhilSeamarkonDAX"
        },
        {
         "0": "Phil Seamark",
         "1": "false",
         "2": "https://dax.tips/?p=1809",
         "3": "https://dax.tips/2021/10/11/power-bi-storage-modes-for-aggregations/",
         "4": "Sun, 10 Oct 2021 21:46:31 +0000",
         "5": "<p>Introduction How to choose the correct storage mode for Power BI Tables. This article aims to help explain the different storage modes available when designing an aggregation strategy for a Power BI Report. What each storage mode is and when you would use it. Picking the correct storage mode for each table in your model <a class=\"more-link\" href=\"https://dax.tips/2021/10/11/power-bi-storage-modes-for-aggregations/\">&#8230; <span class=\"screen-reader-text\">Continue reading Power BI Storage Modes for Aggregations</span></a></p>\n<p>The post <a href=\"https://dax.tips/2021/10/11/power-bi-storage-modes-for-aggregations/\">Power BI Storage Modes for Aggregations</a> appeared first on <a href=\"https://dax.tips\">Phil Seamark on DAX</a>.</p>",
         "6": "Power BI Storage Modes for Aggregations",
         "7": "PhilSeamarkonDAX"
        },
        {
         "0": "Reza Rad",
         "1": "false",
         "2": "https://radacad.com/?p=19289",
         "3": "https://radacad.com/scd-type-2-in-microsoft-fabric-and-power-bi",
         "4": "Wed, 17 Jul 2024 16:20:33 +0000",
         "5": "<p>In the previous article, I explained SCD (Slowly Changing Dimension) and its different types. In this article, I&#8217;ll show you how to implement SCD Type 2 (one of the most common types) using Microsoft Fabric and Power BI. This article includes using Lakehouse, Dataflow, Warehouse, Data Pipeline, SQL Stored Procedures, Power BI Semantic model, and <a href=\"https://radacad.com/scd-type-2-in-microsoft-fabric-and-power-bi\" rel=\"nofollow\"><span class=\"sr-only\">Read more about SCD Type 2 in Microsoft Fabric and Power BI</span>[&#8230;]</a></p>\n<p>The post <a href=\"https://radacad.com/scd-type-2-in-microsoft-fabric-and-power-bi\">SCD Type 2 in Microsoft Fabric and Power BI</a> appeared first on <a href=\"https://radacad.com\">RADACAD</a>.</p>",
         "6": "SCD Type 2 in Microsoft Fabric and Power BI",
         "7": "RADACAD"
        },
        {
         "0": "Nikola",
         "1": "false",
         "2": "https://data-mozart.com/?p=8146",
         "3": "https://data-mozart.com/5-clicks-to-wow-how-changing-data-types-can-quickly-optimize-your-power-bi-model/?utm_source=rss&utm_medium=rss&utm_campaign=5-clicks-to-wow-how-changing-data-types-can-quickly-optimize-your-power-bi-model",
         "4": "Sun, 18 Aug 2024 14:49:53 +0000",
         "5": "<p>Optimizing Power BI semantic model doesn't always have to be a daunting and time-consuming task. You can often celebrate many quick and easy wins!</p>\n<p>The post <a href=\"https://data-mozart.com/5-clicks-to-wow-how-changing-data-types-can-quickly-optimize-your-power-bi-model/\">5 Clicks to WOW! How changing data types can quickly optimize your Power BI model!</a> appeared first on <a href=\"https://data-mozart.com\">Data Mozart</a>.</p>",
         "6": "5 Clicks to WOW! How changing data types can quickly optimize your Power BI model!",
         "7": "DataMozart"
        },
        {
         "0": "Nikola",
         "1": "false",
         "2": "https://data-mozart.com/?p=8069",
         "3": "https://data-mozart.com/mastering-dp-600-exam-dax-for-the-win-part-2-window-functions-and-information-functions/?utm_source=rss&utm_medium=rss&utm_campaign=mastering-dp-600-exam-dax-for-the-win-part-2-window-functions-and-information-functions",
         "4": "Sun, 07 Jul 2024 05:37:23 +0000",
         "5": "<p>Continuing our \"DAX for DP-600\" journey, let's introduce two very powerful group of functions - Window and Information functions</p>\n<p>The post <a href=\"https://data-mozart.com/mastering-dp-600-exam-dax-for-the-win-part-2-window-functions-and-information-functions/\">Mastering DP-600 Exam: DAX For The Win Part 2 – Window Functions and Information Functions</a> appeared first on <a href=\"https://data-mozart.com\">Data Mozart</a>.</p>",
         "6": "Mastering DP-600 Exam: DAX For The Win Part 2 – Window Functions and Information Functions",
         "7": "DataMozart"
        },
        {
         "0": "Gilbert Quevauvilliers",
         "1": "false",
         "2": "https://www.fourmoo.com/?p=10865",
         "3": "https://www.fourmoo.com/2024/10/16/configuring-the-service-principal-access-microsoft-fabric-onelake-apis/",
         "4": "Tue, 15 Oct 2024 20:00:00 +0000",
         "5": "<p>This blog post explains how to configure access for my Service Principal to interact with the Azure Storage API to use the API to get details for Microsoft Fabric Storage. This is part of a blog post series where I am going to show you how to “View Total Storage consumed in Microsoft Fabric” When I started this blog post...</p>\n<p>The post <a href=\"https://www.fourmoo.com/2024/10/16/configuring-the-service-principal-access-microsoft-fabric-onelake-apis/\">Configuring the Service Principal access Microsoft Fabric OneLake APIs</a> appeared first on <a href=\"https://www.fourmoo.com\">FourMoo | Fabric | Power BI</a>.</p>",
         "6": "Configuring the Service Principal access Microsoft Fabric OneLake APIs",
         "7": "fourmoo"
        },
        {
         "0": "Chris Webb",
         "1": "false",
         "2": "https://blog.crossjoin.co.uk/?p=19975",
         "3": "https://blog.crossjoin.co.uk/2024/10/20/finding-the-columns-touched-by-a-dax-query/?utm_source=rss&utm_medium=rss&utm_campaign=finding-the-columns-touched-by-a-dax-query",
         "4": "Sun, 20 Oct 2024 13:13:11 +0000",
         "5": "Some time ago I wrote a post about how you can use the DISCOVER_CALC_DEPENDENCY DMV to get a list of all the tables, columns and relationships referenced by a DAX query. That&#8217;s really useful and indeed the new INFO.CALCDEPENDENCY DAX function allows you to do the same thing without all the complexity of calling a &#8230; <a class=\"more-link\" href=\"https://blog.crossjoin.co.uk/2024/10/20/finding-the-columns-touched-by-a-dax-query/\">Continue reading <span class=\"screen-reader-text\">Finding The Columns Touched By A DAX Query</span> <span class=\"meta-nav\">&#8594;</span></a>",
         "6": "Finding The Columns Touched By A DAX Query",
         "7": "ChrisWebbsBIBlog"
        },
        {
         "0": "Gilbert Quevauvilliers",
         "1": "false",
         "2": "https://www.fourmoo.com/?p=10791",
         "3": "https://www.fourmoo.com/2024/08/07/how-to-read-a-lakehouse-table-in-another-app-workspace-microsoft-fabric/",
         "4": "Tue, 06 Aug 2024 20:00:00 +0000",
         "5": "<p>I was doing some work recently for a customer and they had data stored in different Lakehouse’s which was in a different App Workspace. I was pleasantly surprised that this can be quite easy to do. In my example below I am going to show you how in my notebook I can read a table in a Lakehouse table when...</p>\n<p>The post <a href=\"https://www.fourmoo.com/2024/08/07/how-to-read-a-lakehouse-table-in-another-app-workspace-microsoft-fabric/\">How to read a Lakehouse table in another App Workspace &#8211; Microsoft Fabric</a> appeared first on <a href=\"https://www.fourmoo.com\">FourMoo | Fabric | Power BI</a>.</p>",
         "6": "How to read a Lakehouse table in another App Workspace – Microsoft Fabric",
         "7": "fourmoo"
        },
        {
         "0": "Gilbert Quevauvilliers",
         "1": "false",
         "2": "https://www.fourmoo.com/?p=10800",
         "3": "https://www.fourmoo.com/2024/08/21/downloading-scanner-api-data-using-a-microsoft-fabric-notebook/",
         "4": "Tue, 20 Aug 2024 20:00:00 +0000",
         "5": "<p>Downloading Scanner API data using a Microsoft Fabric Notebook I was recently working with a customer where they had more then 100 app workspaces and I was running into some challenges when using the Scanner API in Power Automate. I then discovered this blog post where they detailed how to download the Scanner API data (DataXbi &#8211; admin-scan.py), it was...</p>\n<p>The post <a href=\"https://www.fourmoo.com/2024/08/21/downloading-scanner-api-data-using-a-microsoft-fabric-notebook/\">Downloading Scanner API data using a Microsoft Fabric Notebook</a> appeared first on <a href=\"https://www.fourmoo.com\">FourMoo | Fabric | Power BI</a>.</p>",
         "6": "Downloading Scanner API data using a Microsoft Fabric Notebook",
         "7": "fourmoo"
        },
        {
         "0": "Marc",
         "1": "false",
         "2": "http://data-marc.com/?p=6165",
         "3": "https://data-marc.com/2024/07/18/comparing-calculation-options-in-power-bi-including-visual-calculations/",
         "4": "Thu, 18 Jul 2024 15:06:59 +0000",
         "5": "There are tons of options in Power BI to add your custom logic. Varying from SQL expressions at data ingest all the way up to Visual Calculations to add logic on a visual level. But how do they compare to each other, where should you do what? As I&#8217;ve been a fan of making DAX &#8230; <p><a class=\"more-link\" href=\"https://data-marc.com/2024/07/18/comparing-calculation-options-in-power-bi-including-visual-calculations/\">Continue reading <span class=\"screen-reader-text\">Comparing calculation options in Power BI, including Visual&#160;Calculations</span></a></p>",
         "6": "Comparing calculation options in Power BI, including Visual Calculations",
         "7": "DataMarc"
        },
        {
         "0": "Marc",
         "1": "false",
         "2": "http://data-marc.com/?p=6086",
         "3": "https://data-marc.com/2024/07/09/fabric-ci-cd-with-git-deployment-and-release-strategies/",
         "4": "Tue, 09 Jul 2024 10:34:53 +0000",
         "5": "Recently, I wrote a blog about the new branch-out feature in Git connected Fabric and Power BI workspaces. In this blog, I will continue the topic of Git integration by discussing various setups you could consider in your Git integration, deployment and release strategies as part of your continuous integration and continuous delivery setup. Will &#8230; <p><a class=\"more-link\" href=\"https://data-marc.com/2024/07/09/fabric-ci-cd-with-git-deployment-and-release-strategies/\">Continue reading <span class=\"screen-reader-text\">Fabric CI/CD with Git deployment and release&#160;strategies</span></a></p>",
         "6": "Fabric CI/CD with Git deployment and release strategies",
         "7": "DataMarc"
        },
        {
         "0": "Reza Rad",
         "1": "false",
         "2": "https://radacad.com/?p=19276",
         "3": "https://radacad.com/scd-slowly-changing-dimension-an-ultimate-guide",
         "4": "Tue, 16 Jul 2024 11:10:02 +0000",
         "5": "<p>If you want to use Power BI, Microsoft Fabric, or any other data analytics tools, one of the key concepts to understand when working with a data warehouse system is the SCD (Slowly Changing Dimension). I will do this in a series of at least two articles. The first one (this one) will be on <a href=\"https://radacad.com/scd-slowly-changing-dimension-an-ultimate-guide\" rel=\"nofollow\"><span class=\"sr-only\">Read more about SCD: Slowly Changing Dimension, an Ultimate Guide</span>[&#8230;]</a></p>\n<p>The post <a href=\"https://radacad.com/scd-slowly-changing-dimension-an-ultimate-guide\">SCD: Slowly Changing Dimension, an Ultimate Guide</a> appeared first on <a href=\"https://radacad.com\">RADACAD</a>.</p>",
         "6": "SCD: Slowly Changing Dimension, an Ultimate Guide",
         "7": "RADACAD"
        },
        {
         "0": "James Serra",
         "1": "false",
         "2": "https://www.jamesserra.com/?p=19616",
         "3": "https://www.jamesserra.com/archive/2024/08/microsoft-fabric-ai-skill/",
         "4": "Mon, 26 Aug 2024 15:00:00 +0000",
         "5": "<p>Are you ready to have conversations with your data? Announced in public preview within Microsoft Fabric is AI Skill, a new capability in Fabric that allows you to build your own generative AI experiences. In short, this is a generative <span class=\"excerpt-dots\">&#8230;</span> <a class=\"more-link\" href=\"https://www.jamesserra.com/archive/2024/08/microsoft-fabric-ai-skill/\"><span class=\"more-msg\">Continue reading &#8594;</span></a></p>\nThe post <a href=\"https://www.jamesserra.com/archive/2024/08/microsoft-fabric-ai-skill/\">Microsoft Fabric AI Skill</a> first appeared on <a href=\"https://www.jamesserra.com\">James Serra's Blog</a>.",
         "6": "Microsoft Fabric AI Skill",
         "7": "JamesSerra"
        },
        {
         "0": "James Serra",
         "1": "false",
         "2": "https://www.jamesserra.com/?p=19538",
         "3": "https://www.jamesserra.com/archive/2024/08/microsoft-fabric-reference-architecture/",
         "4": "Mon, 12 Aug 2024 15:00:00 +0000",
         "5": "<p>Microsoft Fabric uses a data lakehouse architecture, which means it does not use a relational data warehouse (with its relational engine and relational storage) and instead uses only a data lake to store data. Data is stored in Delta lake <span class=\"excerpt-dots\">&#8230;</span> <a class=\"more-link\" href=\"https://www.jamesserra.com/archive/2024/08/microsoft-fabric-reference-architecture/\"><span class=\"more-msg\">Continue reading &#8594;</span></a></p>\nThe post <a href=\"https://www.jamesserra.com/archive/2024/08/microsoft-fabric-reference-architecture/\">Microsoft Fabric reference architecture</a> first appeared on <a href=\"https://www.jamesserra.com\">James Serra's Blog</a>.",
         "6": "Microsoft Fabric reference architecture",
         "7": "JamesSerra"
        },
        {
         "0": "Matthew Roche",
         "1": "false",
         "2": "http://ssbipolar.com/?p=3153",
         "3": "https://ssbipolar.com/2024/06/19/join-me-in-stockholm-at-the-european-microsoft-fabric-community-conference/",
         "4": "Wed, 19 Jun 2024 17:21:41 +0000",
         "5": "Stockholm is the most beautiful city in the world, and late September is the most beautiful time to be there. Whether you agree with his bold assertion[1] or not, the Microsoft Fabric Community Conference is coming to Stockholm from September 24 through September 27. I&#8217;m going to be there and I hope you&#8217;ll join me! &#8230; <p><a class=\"more-link\" href=\"https://ssbipolar.com/2024/06/19/join-me-in-stockholm-at-the-european-microsoft-fabric-community-conference/\">Continue reading <span class=\"screen-reader-text\">Join me in Stockholm at the European Microsoft Fabric Community&#160;Conference!</span></a></p>",
         "6": "Join me in Stockholm at the European Microsoft Fabric Community Conference!",
         "7": "BIPolar"
        },
        {
         "0": "bennidejagere",
         "1": "false",
         "2": "https://bennidejagere.com/?p=396",
         "3": "https://bennidejagere.com/2021/02/t-sql-tuesday-135-my-tools-for-the-trade/",
         "4": "Tue, 09 Feb 2021 16:09:20 +0000",
         "5": "<p>It’s T-SQL Tuesday!! After making my first contribution to T-SQL Tuesday last month, I figured I couldn&#8217;t stay behind when it&#8217;s a topic I have loads to share on. T-SQL Tuesday is the brainchild of Adam Machanic (Blog &#124; Twitter). December 2009 was the first T-SQL Tuesday invitation that went out by Adam. It is a monthly [&#8230;]</p>\n<p>The post <a href=\"https://bennidejagere.com/2021/02/t-sql-tuesday-135-my-tools-for-the-trade/\">T-SQL Tuesday #135 &#8211; My Tools for the Trade</a> appeared first on <a href=\"https://bennidejagere.com\">Benni De Jagere</a>.</p>",
         "6": "T-SQL Tuesday #135 – My Tools for the Trade",
         "7": "BenniDeJagere"
        },
        {
         "0": "bennidejagere",
         "1": "false",
         "2": "https://bennidejagere.com/?p=345",
         "3": "https://bennidejagere.com/2021/01/speaking-at-data-event-vienna-2021-sqlsaturday-1015/",
         "4": "Wed, 13 Jan 2021 15:47:54 +0000",
         "5": "<p>Speaking At : Data Event Vienna 2021 (SQLSaturday #1015), January 15th 2021 This Friday, I&#8217;m coming out of my hibernation for presenting at remote events, and it&#8217;s a special one. The final SQL Saturday as we know it will be held virtually in Vienna, on Friday January 15th 2021. PASS is dissolving that same day, [&#8230;]</p>\n<p>The post <a href=\"https://bennidejagere.com/2021/01/speaking-at-data-event-vienna-2021-sqlsaturday-1015/\">Speaking At : Data Event Vienna 2021 (SQLSaturday #1015)</a> appeared first on <a href=\"https://bennidejagere.com\">Benni De Jagere</a>.</p>",
         "6": "Speaking At : Data Event Vienna 2021 (SQLSaturday #1015)",
         "7": "BenniDeJagere"
        },
        {
         "0": "Marc",
         "1": "false",
         "2": "http://data-marc.com/?p=5934",
         "3": "https://data-marc.com/2024/06/24/power-bi-and-fabric-capacities-understand-the-difference-and-cost-structure/",
         "4": "Mon, 24 Jun 2024 10:10:19 +0000",
         "5": "P-SKUs, A-SKUs, EM-SKUs and now we also have F-SKUs&#8230; all these different capacities that are out there today each have their own specifics. Lately, I&#8217;ve been in a lot of conversations around Fabric capacities. There seems to be some unclarity around what you pay for in the end and how it compares to Power BI &#8230; <p><a class=\"more-link\" href=\"https://data-marc.com/2024/06/24/power-bi-and-fabric-capacities-understand-the-difference-and-cost-structure/\">Continue reading <span class=\"screen-reader-text\">Power BI and Fabric capacities: Understand the difference and cost&#160;structure</span></a></p>",
         "6": "Power BI and Fabric capacities: Understand the difference and cost structure",
         "7": "DataMarc"
        },
        {
         "0": "Kevin Chant",
         "1": "false",
         "2": "https://www.kevinrchant.com/?p=11970",
         "3": "https://www.kevinrchant.com/2024/10/09/will-the-new-dp-700-microsoft-fabric-exam-replace-the-dp-600-exam/",
         "4": "Wed, 09 Oct 2024 10:00:00 +0000",
         "5": "<p><span class=\"rt-reading-time\" style=\"display: block;\"><span class=\"rt-label rt-prefix\">Reading Time: </span> <span class=\"rt-time\">2</span> <span class=\"rt-label rt-postfix\">minutes</span></span> In this post I want to answer the question about whether the new DP-700 Microsoft Fabric exam will replace the DP-600 exam? I address a&#8230;</p>\n<p>The post <a href=\"https://www.kevinrchant.com/2024/10/09/will-the-new-dp-700-microsoft-fabric-exam-replace-the-dp-600-exam/\">Will the new DP-700 Microsoft Fabric exam replace the DP-600 exam?</a> appeared first on <a href=\"https://www.kevinrchant.com\">Kevin Chant</a>.</p>",
         "6": "Will the new DP-700 Microsoft Fabric exam replace the DP-600 exam?",
         "7": "KevinChant"
        },
        {
         "0": "bennidejagere",
         "1": "false",
         "2": "https://bennidejagere.com/?p=1328",
         "3": "https://bennidejagere.com/2021/12/t-sql-tuesday-145-the-pandemic-costa-rica-and-events/",
         "4": "Tue, 14 Dec 2021 20:29:03 +0000",
         "5": "<p>It’s T-SQL Tuesday!! T-SQL Tuesday is the brainchild of Adam Machanic (Blog &#124; Twitter). December 2009 was the first T-SQL Tuesday invitation that went out by Adam. It is a monthly blog party on the second Tuesday of each month. Currently, Steve Jones (Blog &#124; Twitter) organises the event and maintains a website with all previous posts. Everyone is [&#8230;]</p>\n<p>The post <a href=\"https://bennidejagere.com/2021/12/t-sql-tuesday-145-the-pandemic-costa-rica-and-events/\">T-SQL Tuesday #145 &#8211; The Pandemic, Costa Rica, and Events</a> appeared first on <a href=\"https://bennidejagere.com\">Benni De Jagere</a>.</p>",
         "6": "T-SQL Tuesday #145 – The Pandemic, Costa Rica, and Events",
         "7": "BenniDeJagere"
        },
        {
         "0": "bennidejagere",
         "1": "false",
         "2": "https://bennidejagere.com/?p=525",
         "3": "https://bennidejagere.com/2021/03/powerbiquiz-apis-powershell/",
         "4": "Sat, 27 Mar 2021 16:20:36 +0000",
         "5": "<p>Wednesday past (March 24th 2021), I had the wonderful pleasure of appearing as a co-host on the bi-weekly PowerBI Quiz by Just Blindbaek, a Danish fellow Data Platform MVP. We&#8217;re nearing the end of Season 3, and though I haven&#8217;t been able to chime in every time, or score the way I wanted score, I [&#8230;]</p>\n<p>The post <a href=\"https://bennidejagere.com/2021/03/powerbiquiz-apis-powershell/\">PowerBIQuiz: APIs &#038; PowerShell</a> appeared first on <a href=\"https://bennidejagere.com\">Benni De Jagere</a>.</p>",
         "6": "PowerBIQuiz: APIs & PowerShell",
         "7": "BenniDeJagere"
        },
        {
         "0": "bennidejagere",
         "1": "false",
         "2": "https://bennidejagere.com/?p=239",
         "3": "https://bennidejagere.com/2021/01/t-sql-tuesday-134-give-me-a-break/",
         "4": "Tue, 12 Jan 2021 11:50:30 +0000",
         "5": "<p>It’s T-SQL Tuesday!! This is actually the first time I&#8217;m contributing to T-SQL Tuesday, after having read many of the entries in the years before. T-SQL Tuesday is the brainchild of Adam Machanic (Blog &#124; Twitter). December 2009 was the first T-SQL Tuesday invitation that went out by Adam. It is a monthly blog party on the [&#8230;]</p>\n<p>The post <a href=\"https://bennidejagere.com/2021/01/t-sql-tuesday-134-give-me-a-break/\">T-SQL Tuesday #134 &#8211; Give me a break!</a> appeared first on <a href=\"https://bennidejagere.com\">Benni De Jagere</a>.</p>",
         "6": "T-SQL Tuesday #134 – Give me a break!",
         "7": "BenniDeJagere"
        },
        {
         "0": "bennidejagere",
         "1": "false",
         "2": "https://bennidejagere.com/?p=209",
         "3": "https://bennidejagere.com/2021/01/power-bi-premium-per-user-whos-using-it-in-your-tenant/",
         "4": "Mon, 11 Jan 2021 09:57:19 +0000",
         "5": "<p>Before digging into this, let&#8217;s be clear about 1 thing. When Power BI Premium Per User (PPU for short) and Power BI Premium v2 were announced at Ignite 2020, the collective user base of Power BI rejoiced, and I am happy to be among them. PPU is going to be an excellent addition to leverage [&#8230;]</p>\n<p>The post <a href=\"https://bennidejagere.com/2021/01/power-bi-premium-per-user-whos-using-it-in-your-tenant/\">Power BI Premium Per User &#8211; Who&#8217;s using it in your tenant?</a> appeared first on <a href=\"https://bennidejagere.com\">Benni De Jagere</a>.</p>",
         "6": "Power BI Premium Per User – Who’s using it in your tenant?",
         "7": "BenniDeJagere"
        },
        {
         "0": "cfinlan",
         "1": "false",
         "2": "http://christopherfinlan.com/?p=2356",
         "3": "https://christopherfinlan.com/2023/08/13/dirty-harry-a-model-cop-or-a-symbol-of-unchecked-aggression/",
         "4": "Sun, 13 Aug 2023 12:00:00 +0000",
         "5": "Dirty Harry Callahan, a character brought to life by Clint Eastwood in the 1971 film &#8220;Dirty Harry,&#8221; is one of cinema&#8217;s most iconic and divisive figures. While some see Harry as a relentless avenger who ensures justice at all costs, others view him as a dangerous and reckless force that embodies everything wrong with a &#8230; <a class=\"more-link\" href=\"https://christopherfinlan.com/2023/08/13/dirty-harry-a-model-cop-or-a-symbol-of-unchecked-aggression/\">Continue reading <span class=\"screen-reader-text\">Dirty Harry: A Model Cop or A Symbol of Unchecked&#160;Aggression?</span></a>",
         "6": "Dirty Harry: A Model Cop or A Symbol of Unchecked Aggression?",
         "7": "ChristopherFinlan"
        },
        {
         "0": "Nikola",
         "1": "false",
         "2": "https://data-mozart.com/?p=8245",
         "3": "https://data-mozart.com/how-to-overcome-the-identity-column-limitation-in-microsoft-fabric/?utm_source=rss&utm_medium=rss&utm_campaign=how-to-overcome-the-identity-column-limitation-in-microsoft-fabric",
         "4": "Sun, 13 Oct 2024 17:41:23 +0000",
         "5": "<p>Identity column feature is an excellent example of the \"missing puzzle\" in Microsoft Fabric. Hence, we still have to rely on some workarounds and \"hacks\" to get the job done. This article helps you choose the solution that will play to your strengths</p>\n<p>The post <a href=\"https://data-mozart.com/how-to-overcome-the-identity-column-limitation-in-microsoft-fabric/\">How to overcome the Identity column limitation in Microsoft Fabric</a> appeared first on <a href=\"https://data-mozart.com\">Data Mozart</a>.</p>",
         "6": "How to overcome the Identity column limitation in Microsoft Fabric",
         "7": "DataMozart"
        },
        {
         "0": "bennidejagere",
         "1": "false",
         "2": "https://bennidejagere.com/?p=2261",
         "3": "https://bennidejagere.com/2023/04/setting-yourself-up-for-success-when-submitting-to-a-conference/",
         "4": "Sun, 16 Apr 2023 13:58:49 +0000",
         "5": "<p>Around this time last year, I started off a lunchtime thread on Twitter (read: rant) on how to set yourself up for success when submitting to &#8220;a&#8221; conference, with a vague promise to someday turn it into a blog post. I&#8217;ve been asked for advice many a times before, so I figured it would be [&#8230;]</p>\n<p>The post <a href=\"https://bennidejagere.com/2023/04/setting-yourself-up-for-success-when-submitting-to-a-conference/\">Setting yourself up for success when submitting to &#8220;a&#8221; conference</a> appeared first on <a href=\"https://bennidejagere.com\">Benni De Jagere</a>.</p>",
         "6": "Setting yourself up for success when submitting to “a” conference",
         "7": "BenniDeJagere"
        },
        {
         "0": "James Serra",
         "1": "false",
         "2": "https://www.jamesserra.com/?p=19751",
         "3": "https://www.jamesserra.com/archive/2024/09/microsoft-purview-ga-menus/",
         "4": "Thu, 19 Sep 2024 15:00:00 +0000",
         "5": "<p>The new data governance features in Microsoft Purview are now being made generally available as they are gradually rolled out across various regions. You can view the deployment schedule at New Microsoft Purview Data Catalog deployment regions. These enhanced features <span class=\"excerpt-dots\">&#8230;</span> <a class=\"more-link\" href=\"https://www.jamesserra.com/archive/2024/09/microsoft-purview-ga-menus/\"><span class=\"more-msg\">Continue reading &#8594;</span></a></p>\nThe post <a href=\"https://www.jamesserra.com/archive/2024/09/microsoft-purview-ga-menus/\">Microsoft Purview GA menu’s</a> first appeared on <a href=\"https://www.jamesserra.com\">James Serra's Blog</a>.",
         "6": "Microsoft Purview GA menu’s",
         "7": "JamesSerra"
        },
        {
         "0": "James Serra",
         "1": "false",
         "2": "https://www.jamesserra.com/?p=19719",
         "3": "https://www.jamesserra.com/archive/2024/09/microsoft-purview-faq/",
         "4": "Thu, 12 Sep 2024 15:00:00 +0000",
         "5": "<p>I get many of the same questions about Microsoft Purview, so I wanted to list those common questions here along with their answers. If your question is not answered here, please put it in the comments and I will reply: <span class=\"excerpt-dots\">&#8230;</span> <a class=\"more-link\" href=\"https://www.jamesserra.com/archive/2024/09/microsoft-purview-faq/\"><span class=\"more-msg\">Continue reading &#8594;</span></a></p>\nThe post <a href=\"https://www.jamesserra.com/archive/2024/09/microsoft-purview-faq/\">Microsoft Purview FAQ</a> first appeared on <a href=\"https://www.jamesserra.com\">James Serra's Blog</a>.",
         "6": "Microsoft Purview FAQ",
         "7": "JamesSerra"
        },
        {
         "0": "Gilbert Quevauvilliers",
         "1": "false",
         "2": "https://www.fourmoo.com/?p=10786",
         "3": "https://www.fourmoo.com/2024/07/18/how-to-stop-fix-mirroring-to-a-database-in-microsoft-fabric/",
         "4": "Wed, 17 Jul 2024 20:00:00 +0000",
         "5": "<p>How to stop/fix Mirroring to a database in Microsoft Fabric I recently had a challenge where the mirroring in Fabric stopped working because there was no activity. For me to start this again when I tried to connect to a table it said the database was already being used to mirror as shown below. Here is the text error which...</p>\n<p>The post <a href=\"https://www.fourmoo.com/2024/07/18/how-to-stop-fix-mirroring-to-a-database-in-microsoft-fabric/\">How to stop/fix Mirroring to a database in Microsoft Fabric</a> appeared first on <a href=\"https://www.fourmoo.com\">FourMoo | Fabric | Power BI</a>.</p>",
         "6": "How to stop/fix Mirroring to a database in Microsoft Fabric",
         "7": "fourmoo"
        },
        {
         "0": "cfinlan",
         "1": "false",
         "2": "http://christopherfinlan.com/?p=2358",
         "3": "https://christopherfinlan.com/2023/08/14/reggie-jackson-a-childhood-hero-and-baseball-legend/",
         "4": "Mon, 14 Aug 2023 12:00:00 +0000",
         "5": "For many, the love of baseball starts with a hero, someone who embodies the passion, skill, and excitement of the game. For me, that hero was none other than Reggie Jackson, also known as &#8220;Mr. October.&#8221; His vibrant personality, extraordinary prowess on the field, and ability to shine during the most crucial moments made him &#8230; <a class=\"more-link\" href=\"https://christopherfinlan.com/2023/08/14/reggie-jackson-a-childhood-hero-and-baseball-legend/\">Continue reading <span class=\"screen-reader-text\">Reggie Jackson: A Childhood Hero and Baseball&#160;Legend</span></a>",
         "6": "Reggie Jackson: A Childhood Hero and Baseball Legend",
         "7": "ChristopherFinlan"
        },
        {
         "0": "Matthew Roche",
         "1": "false",
         "2": "http://ssbipolar.com/?p=3175",
         "3": "https://ssbipolar.com/2024/06/24/being-a-pm-at-microsoft-influencing-without-authority/",
         "4": "Mon, 24 Jun 2024 11:00:39 +0000",
         "5": "Influencing without authority is a fundamental PM skill and activity. What are the key factors and behaviors that will help you more consistently enlist the help of others to achieve your common goals? The bottom line is that influencing without authority comes down to emotional intelligence and effective communication. MakerTube link &#124; YouTube link This &#8230; <p><a class=\"more-link\" href=\"https://ssbipolar.com/2024/06/24/being-a-pm-at-microsoft-influencing-without-authority/\">Continue reading <span class=\"screen-reader-text\">Being a PM at Microsoft: Influencing without&#160;authority</span></a></p>",
         "6": "Being a PM at Microsoft: Influencing without authority",
         "7": "BIPolar"
        },
        {
         "0": "Marc",
         "1": "false",
         "2": "http://data-marc.com/?p=6406",
         "3": "https://data-marc.com/2024/09/17/sync-two-slicers-without-bi-directional-relationships-in-power-bi/",
         "4": "Tue, 17 Sep 2024 09:56:19 +0000",
         "5": "Have you ever wanted to sync two slicers on a report page? Even when both slicers are coming from different dimensions? A lot of users end up setting the relationships to bi-directional (both) which has huge side effects! You may up with a ambiguous data model, over filtering fact tables and wrong results. Also, there &#8230; <p><a class=\"more-link\" href=\"https://data-marc.com/2024/09/17/sync-two-slicers-without-bi-directional-relationships-in-power-bi/\">Continue reading <span class=\"screen-reader-text\">Sync two slicers without bi-directional relationships in Power&#160;BI</span></a></p>",
         "6": "Sync two slicers without bi-directional relationships in Power BI",
         "7": "DataMarc"
        },
        {
         "0": "Matthew Roche",
         "1": "false",
         "2": "http://ssbipolar.com/?p=3161",
         "3": "https://ssbipolar.com/2024/06/17/being-a-pm-at-microsoft-engaging-with-the-community/",
         "4": "Mon, 17 Jun 2024 11:00:01 +0000",
         "5": "If you’re building a product at Microsoft, there’s a community of people out there who are building their careers on what you ship. The community is a ready-made group of users who can help you understand how they use your product – and why. MakerTube link &#124; YouTube link This post and video are part &#8230; <p><a class=\"more-link\" href=\"https://ssbipolar.com/2024/06/17/being-a-pm-at-microsoft-engaging-with-the-community/\">Continue reading <span class=\"screen-reader-text\">Being a PM at Microsoft: Engaging with the&#160;community</span></a></p>",
         "6": "Being a PM at Microsoft: Engaging with the community",
         "7": "BIPolar"
        },
        {
         "0": "Matthew Roche",
         "1": "false",
         "2": "http://ssbipolar.com/?p=3145",
         "3": "https://ssbipolar.com/2024/06/10/being-a-pm-at-microsoft-fostering-a-scout-mindset/",
         "4": "Mon, 10 Jun 2024 11:00:57 +0000",
         "5": "Sometimes you need to play the role of the soldier, and focus on doing whatever it takes to win. Sometimes you need to play the role of the scout, and focus on understanding the challenges and opportunities that lie ahead. Every successful PM needs to be able to play both roles, and to understand when &#8230; <p><a class=\"more-link\" href=\"https://ssbipolar.com/2024/06/10/being-a-pm-at-microsoft-fostering-a-scout-mindset/\">Continue reading <span class=\"screen-reader-text\">Being a PM at Microsoft: Fostering a scout&#160;mindset</span></a></p>",
         "6": "Being a PM at Microsoft: Fostering a scout mindset",
         "7": "BIPolar"
        },
        {
         "0": "Nikola",
         "1": "false",
         "2": "https://data-mozart.com/?p=7974",
         "3": "https://data-mozart.com/mastering-dp-600-exam-implement-field-parameters/?utm_source=rss&utm_medium=rss&utm_campaign=mastering-dp-600-exam-implement-field-parameters",
         "4": "Mon, 03 Jun 2024 10:33:21 +0000",
         "5": "<p>Field parameters is one of those features you simply know will have a huge impact! Not just because it opens up literally an indefinite number of possible use cases, but also because of easy implementation and potentially extended customizations to answer business questions in a more efficient way</p>\n<p>The post <a href=\"https://data-mozart.com/mastering-dp-600-exam-implement-field-parameters/\">Mastering DP-600 Exam: Implement Field Parameters</a> appeared first on <a href=\"https://data-mozart.com\">Data Mozart</a>.</p>",
         "6": "Mastering DP-600 Exam: Implement Field Parameters",
         "7": "DataMozart"
        },
        {
         "0": "Reza Rad",
         "1": "false",
         "2": "https://radacad.com/?p=19414",
         "3": "https://radacad.com/reframe-in-power-bi-direct-lake",
         "4": "Mon, 09 Sep 2024 12:31:18 +0000",
         "5": "<p>Power BI offers a new type of connection to Microsoft Fabric Lakehouse or Warehouse, called Direct Lake. The Direct Lake connection acts like DirectQuery and won&#8217;t need the data to be refreshed. However, the Power BI semantic model has refresh settings that can be turned on or off. In this article and video, you will <a href=\"https://radacad.com/reframe-in-power-bi-direct-lake\" rel=\"nofollow\"><span class=\"sr-only\">Read more about REFRAME in Power BI Direct Lake</span>[&#8230;]</a></p>\n<p>The post <a href=\"https://radacad.com/reframe-in-power-bi-direct-lake\">REFRAME in Power BI Direct Lake</a> appeared first on <a href=\"https://radacad.com\">RADACAD</a>.</p>",
         "6": "REFRAME in Power BI Direct Lake",
         "7": "RADACAD"
        },
        {
         "0": "Chris Webb",
         "1": "false",
         "2": "https://blog.crossjoin.co.uk/?p=19787",
         "3": "https://blog.crossjoin.co.uk/2024/10/13/why-would-you-use-power-bi-copilot/?utm_source=rss&utm_medium=rss&utm_campaign=why-would-you-use-power-bi-copilot",
         "4": "Sun, 13 Oct 2024 19:33:57 +0000",
         "5": "I&#8217;m a big fan of Kurt Buhler&#8216;s work (indeed we like him so much at Microsoft that we get him to help out with our docs) and I have a lot of respect for his opinion. A few weeks ago, in a thread on Twitter/X, he asked an important question about Power BI Copilot: why &#8230; <a class=\"more-link\" href=\"https://blog.crossjoin.co.uk/2024/10/13/why-would-you-use-power-bi-copilot/\">Continue reading <span class=\"screen-reader-text\">Why Would You Use Power BI Copilot?</span> <span class=\"meta-nav\">&#8594;</span></a>",
         "6": "Why Would You Use Power BI Copilot?",
         "7": "ChrisWebbsBIBlog"
        },
        {
         "0": "Marc",
         "1": "false",
         "2": "http://data-marc.com/?p=5858",
         "3": "https://data-marc.com/2024/06/11/gotchas-of-bringing-dataverse-data-into-microsoft-fabric/",
         "4": "Tue, 11 Jun 2024 15:41:44 +0000",
         "5": "Recently, I architected a solution for a client for their Microsoft Fabric data platform. The client works with Dynamics Finance &#38; Operations as one of their main ERP system. Fabric offers easy ways to bring data from various standard Microsoft services into the platform, however it is not always as easy as it looks like. &#8230; <p><a class=\"more-link\" href=\"https://data-marc.com/2024/06/11/gotchas-of-bringing-dataverse-data-into-microsoft-fabric/\">Continue reading <span class=\"screen-reader-text\">Gotcha&#8217;s of bringing Dataverse data into Microsoft&#160;Fabric</span></a></p>",
         "6": "Gotcha’s of bringing Dataverse data into Microsoft Fabric",
         "7": "DataMarc"
        },
        {
         "0": "Matthew Roche",
         "1": "false",
         "2": "http://ssbipolar.com/?p=3119",
         "3": "https://ssbipolar.com/2024/05/13/being-a-pm-at-microsoft-the-power-of-a-good-meeting-agenda/",
         "4": "Mon, 13 May 2024 11:00:55 +0000",
         "5": "If you’re scheduling a meeting, you’re spending your own time and the time of everyone you invite. Show professionalism and respect by providing a clear agenda for the meeting in the invitation. Meeting agendas may not sound like they’re worth a blog post and video of their own, but this is a vital PM skill &#8230; <p><a class=\"more-link\" href=\"https://ssbipolar.com/2024/05/13/being-a-pm-at-microsoft-the-power-of-a-good-meeting-agenda/\">Continue reading <span class=\"screen-reader-text\">Being a PM at Microsoft: The power of a good meeting&#160;agenda</span></a></p>",
         "6": "Being a PM at Microsoft: The power of a good meeting agenda",
         "7": "BIPolar"
        },
        {
         "0": "Matthew Roche",
         "1": "false",
         "2": "http://ssbipolar.com/?p=3113",
         "3": "https://ssbipolar.com/2024/05/06/being-a-pm-at-microsoft-mentorship/",
         "4": "Mon, 06 May 2024 11:00:13 +0000",
         "5": "There are many people who are further down the path you’re walking, and who have made mistakes you don’t need to repeat. Find one (or more) and learn from them. There are many people who are starting down the path you’ve walked, and who have a chance to avoid the mistakes you’ve made. Find one &#8230; <p><a class=\"more-link\" href=\"https://ssbipolar.com/2024/05/06/being-a-pm-at-microsoft-mentorship/\">Continue reading <span class=\"screen-reader-text\">Being a PM at Microsoft:&#160;Mentorship</span></a></p>",
         "6": "Being a PM at Microsoft: Mentorship",
         "7": "BIPolar"
        },
        {
         "0": "Reza Rad",
         "1": "false",
         "2": "https://radacad.com/?p=19345",
         "3": "https://radacad.com/microsoft-fabric-glossary",
         "4": "Mon, 22 Jul 2024 21:58:10 +0000",
         "5": "<p>There are a lot of similar terminologies and words when working with Fabric. We have Data Lake, Delta Lake, OneLake, and Lakehouse, and the list continues. I found it confusing for some to understand the differences between them. Although explaining these terms and their differences requires many different blog articles, having one place for a <a href=\"https://radacad.com/microsoft-fabric-glossary\" rel=\"nofollow\"><span class=\"sr-only\">Read more about Microsoft Fabric Glossary</span>[&#8230;]</a></p>\n<p>The post <a href=\"https://radacad.com/microsoft-fabric-glossary\">Microsoft Fabric Glossary</a> appeared first on <a href=\"https://radacad.com\">RADACAD</a>.</p>",
         "6": "Microsoft Fabric Glossary",
         "7": "RADACAD"
        },
        {
         "0": "cfinlan",
         "1": "false",
         "2": "http://christopherfinlan.com/?p=2280",
         "3": "https://christopherfinlan.com/2023/07/01/high-school-football-training-guide-part-2/",
         "4": "Sat, 01 Jul 2023 12:00:00 +0000",
         "5": "Chris&#8217;s Note: I asked ChatGPT to come up with a training program for my son who is starting high school football in the fall. Here&#8217;s what it came up with! Of course! Here are more detailed instructions for the cone drills and position-specific drills: Cone Drills: Position-specific Drills: Defensive End Drills: Tight End Drills: By &#8230; <a class=\"more-link\" href=\"https://christopherfinlan.com/2023/07/01/high-school-football-training-guide-part-2/\">Continue reading <span class=\"screen-reader-text\">High School Football training guide &#8211; Part&#160;2</span></a>",
         "6": "High School Football training guide – Part 2",
         "7": "ChristopherFinlan"
        },
        {
         "0": "Kevin Chant",
         "1": "false",
         "2": "https://www.kevinrchant.com/?p=11829",
         "3": "https://www.kevinrchant.com/2024/09/04/run-a-microsoft-fabric-notebook-from-azure-devops/",
         "4": "Wed, 04 Sep 2024 12:30:00 +0000",
         "5": "<p><span class=\"rt-reading-time\" style=\"display: block;\"><span class=\"rt-label rt-prefix\">Reading Time: </span> <span class=\"rt-time\">7</span> <span class=\"rt-label rt-postfix\">minutes</span></span> In this post I want to share one way that you can run a Microsoft Fabric notebook from Azure DevOps. You can consider this post&#8230;</p>\n<p>The post <a href=\"https://www.kevinrchant.com/2024/09/04/run-a-microsoft-fabric-notebook-from-azure-devops/\">Run a Microsoft Fabric notebook from Azure DevOps</a> appeared first on <a href=\"https://www.kevinrchant.com\">Kevin Chant</a>.</p>",
         "6": "Run a Microsoft Fabric notebook from Azure DevOps",
         "7": "KevinChant"
        },
        {
         "0": "Matthew Roche",
         "1": "false",
         "2": "http://ssbipolar.com/?p=3180",
         "3": "https://ssbipolar.com/2024/07/01/being-a-pm-at-microsoft-q2-intermission-and-check-in/",
         "4": "Mon, 01 Jul 2024 11:00:48 +0000",
         "5": "We’re halfway through the year! I’ve made it through six months with weekly videos and blog posts, and honestly, I’m as surprised as anyone. As we head into H2, I’m going to take a brief hiatus to focus on work and life priorities[1]. Before I disappear for the month of July, I’m taking this opportunity &#8230; <p><a class=\"more-link\" href=\"https://ssbipolar.com/2024/07/01/being-a-pm-at-microsoft-q2-intermission-and-check-in/\">Continue reading <span class=\"screen-reader-text\">Being a PM at Microsoft: Q2 Intermission and&#160;check-in</span></a></p>",
         "6": "Being a PM at Microsoft: Q2 Intermission and check-in",
         "7": "BIPolar"
        },
        {
         "0": "Nikola",
         "1": "false",
         "2": "https://data-mozart.com/?p=7938",
         "3": "https://data-mozart.com/what-is-a-power-query-template-and-why-its-a-big-deal-in-the-era-of-fabric/?utm_source=rss&utm_medium=rss&utm_campaign=what-is-a-power-query-template-and-why-its-a-big-deal-in-the-era-of-fabric",
         "4": "Thu, 23 May 2024 11:28:14 +0000",
         "5": "<p>Power Query Template is one of the \"hidden gems\" for moving your data from existing Power BI solutions to Fabric</p>\n<p>The post <a href=\"https://data-mozart.com/what-is-a-power-query-template-and-why-its-a-big-deal-in-the-era-of-fabric/\">What is a Power Query Template and why it&#8217;s a big deal in the era of Fabric?</a> appeared first on <a href=\"https://data-mozart.com\">Data Mozart</a>.</p>",
         "6": "What is a Power Query Template and why it’s a big deal in the era of Fabric?",
         "7": "DataMozart"
        },
        {
         "0": "Nikola",
         "1": "false",
         "2": "https://data-mozart.com/?p=7921",
         "3": "https://data-mozart.com/finding-your-own-mojo-how-to-thrive-in-your-area-of-interest/?utm_source=rss&utm_medium=rss&utm_campaign=finding-your-own-mojo-how-to-thrive-in-your-area-of-interest",
         "4": "Sun, 19 May 2024 16:47:13 +0000",
         "5": "<p>How I found my own \"talisman\" in data and which principles help me manage a variety of tasks</p>\n<p>The post <a href=\"https://data-mozart.com/finding-your-own-mojo-how-to-thrive-in-your-area-of-interest/\">Finding Your Own Mojo &#8211; How to Thrive in Your Area of Interest</a> appeared first on <a href=\"https://data-mozart.com\">Data Mozart</a>.</p>",
         "6": "Finding Your Own Mojo – How to Thrive in Your Area of Interest",
         "7": "DataMozart"
        },
        {
         "0": "Nikola",
         "1": "false",
         "2": "https://data-mozart.com/?p=7845",
         "3": "https://data-mozart.com/mastering-dp-600-exam-implementing-star-schema-in-fabric-lakehouse/?utm_source=rss&utm_medium=rss&utm_campaign=mastering-dp-600-exam-implementing-star-schema-in-fabric-lakehouse",
         "4": "Sun, 29 Sep 2024 10:33:47 +0000",
         "5": "<p>You've heard that Star schema IS the preferred way for modeling data in your BI solutions. But, how do you create one in the Fabric Lakehouse? It's easier than you can imagine!</p>\n<p>The post <a href=\"https://data-mozart.com/mastering-dp-600-exam-implementing-star-schema-in-fabric-lakehouse/\">Mastering DP-600 Exam: Implementing Star Schema in Fabric Lakehouse</a> appeared first on <a href=\"https://data-mozart.com\">Data Mozart</a>.</p>",
         "6": "Mastering DP-600 Exam: Implementing Star Schema in Fabric Lakehouse",
         "7": "DataMozart"
        },
        {
         "0": "cfinlan",
         "1": "false",
         "2": "http://christopherfinlan.com/?p=2285",
         "3": "https://christopherfinlan.com/2023/07/02/high-school-football-training-guide-part-3/",
         "4": "Sun, 02 Jul 2023 12:00:00 +0000",
         "5": "Chris&#8217;s Note: I asked ChatGPT to come up with a training program for my son who is starting high school football in the fall. Here&#8217;s what it came up with! Defensive line moves, also known as pass rush moves, are techniques used by defensive linemen to defeat offensive linemen and reach the quarterback or ball &#8230; <a class=\"more-link\" href=\"https://christopherfinlan.com/2023/07/02/high-school-football-training-guide-part-3/\">Continue reading <span class=\"screen-reader-text\">High School Football training guide &#8211; Part&#160;3</span></a>",
         "6": "High School Football training guide – Part 3",
         "7": "ChristopherFinlan"
        },
        {
         "0": "Marc",
         "1": "false",
         "2": "http://data-marc.com/?p=6025",
         "3": "https://data-marc.com/2024/10/17/full-impact-analysis-in-power-bi-export-and-analyze-in-excel/",
         "4": "Thu, 17 Oct 2024 14:34:22 +0000",
         "5": "Imagine you have a semantic model in the Power BI Service (or Fabric if you will), and you&#8217;re about to make a breaking change to this semantic model. How do you inform your end users? How do you tell them about this change? In this blog I will zoom in to options you have in &#8230; <p><a class=\"more-link\" href=\"https://data-marc.com/2024/10/17/full-impact-analysis-in-power-bi-export-and-analyze-in-excel/\">Continue reading <span class=\"screen-reader-text\">Full Impact Analysis in Power BI, Export and Analyze in&#160;Excel</span></a></p>",
         "6": "Full Impact Analysis in Power BI, Export and Analyze in Excel",
         "7": "DataMarc"
        },
        {
         "0": "Matthew Roche",
         "1": "false",
         "2": "http://ssbipolar.com/?p=3125",
         "3": "https://ssbipolar.com/2024/05/20/being-a-pm-at-microsoft-divide-and-conquer/",
         "4": "Mon, 20 May 2024 11:00:04 +0000",
         "5": "Most interesting work requires involvement from multiple people and teams. Don’t try to build consensus in large group meetings. Sort of like lawyers in court only ask questions to which they already know the answers, you should only try to get group buy-in when you know that most or all participants already agree. MakerTube link &#8230; <p><a class=\"more-link\" href=\"https://ssbipolar.com/2024/05/20/being-a-pm-at-microsoft-divide-and-conquer/\">Continue reading <span class=\"screen-reader-text\">Being a PM at Microsoft: Divide and&#160;conquer</span></a></p>",
         "6": "Being a PM at Microsoft: Divide and conquer",
         "7": "BIPolar"
        },
        {
         "0": "bennidejagere",
         "1": "false",
         "2": "http://bennidejagere.com/?p=30",
         "3": "https://bennidejagere.com/2015/08/custom-year-to-date-in-tabular-model-using-dax/",
         "4": "Mon, 10 Aug 2015 14:00:01 +0000",
         "5": "<p>The situation Some time ago, when working on a pilot project for a client, I was presented with an interesting requirement for the SSAS Tabular Model + DAX, being a non-sequential way of looking at dates in the previous year. I was working on transactional sales data, which required some of the everyday hierachies (Date, [&#8230;]</p>\n<p>The post <a href=\"https://bennidejagere.com/2015/08/custom-year-to-date-in-tabular-model-using-dax/\">Custom Year To Date in Tabular Model using DAX</a> appeared first on <a href=\"https://bennidejagere.com\">Benni De Jagere</a>.</p>",
         "6": "Custom Year To Date in Tabular Model using DAX",
         "7": "BenniDeJagere"
        },
        {
         "0": "bennidejagere",
         "1": "false",
         "2": "http://bennidejagere.com/?p=19",
         "3": "https://bennidejagere.com/2015/08/hello-world-2/",
         "4": "Wed, 05 Aug 2015 19:36:19 +0000",
         "5": "<p>Welcome to my blog! Pondering long and hard about starting to blog and thinking of lame excuses for not doing so, I finally decided to step up to the plate. I&#8217;ve been following the SQL Community for about 4 years now, and I&#8217;ve learned heaps by doing so. By blogging I hope to contribute the [&#8230;]</p>\n<p>The post <a href=\"https://bennidejagere.com/2015/08/hello-world-2/\">Hello World!</a> appeared first on <a href=\"https://bennidejagere.com\">Benni De Jagere</a>.</p>",
         "6": "Hello World!",
         "7": "BenniDeJagere"
        },
        {
         "0": "Nikola",
         "1": "false",
         "2": "https://data-mozart.com/?p=8060",
         "3": "https://data-mozart.com/mastering-dp-600-exam-dax-for-the-win-part-1-variables-and-iterators/?utm_source=rss&utm_medium=rss&utm_campaign=mastering-dp-600-exam-dax-for-the-win-part-1-variables-and-iterators",
         "4": "Wed, 03 Jul 2024 13:07:16 +0000",
         "5": "<p>\"DAX is simple, but not easy!\" In this article, we cover two important concepts necessary for successfully completing the DP-600 exam</p>\n<p>The post <a href=\"https://data-mozart.com/mastering-dp-600-exam-dax-for-the-win-part-1-variables-and-iterators/\">Mastering DP-600 Exam: DAX For The Win Part 1 &#8211; Variables and Iterators</a> appeared first on <a href=\"https://data-mozart.com\">Data Mozart</a>.</p>",
         "6": "Mastering DP-600 Exam: DAX For The Win Part 1 – Variables and Iterators",
         "7": "DataMozart"
        },
        {
         "0": "Marc",
         "1": "false",
         "2": "http://data-marc.com/?p=6355",
         "3": "https://data-marc.com/2024/09/09/purchasing-fabric-capacities-as-reserved-instance/",
         "4": "Mon, 09 Sep 2024 12:13:09 +0000",
         "5": "Last week, I had a situation in which a client wanted to purchase a reserved instance Fabric capacity. Me being me, I assumed it would be super straight forward to purchase through Azure. However, at some point I was lost in the process where the official documentation confused even more. In the end, I figured &#8230; <p><a class=\"more-link\" href=\"https://data-marc.com/2024/09/09/purchasing-fabric-capacities-as-reserved-instance/\">Continue reading <span class=\"screen-reader-text\">Purchasing Fabric Capacities as Reserved&#160;Instance</span></a></p>",
         "6": "Purchasing Fabric Capacities as Reserved Instance",
         "7": "DataMarc"
        },
        {
         "0": "bennidejagere",
         "1": "false",
         "2": "https://bennidejagere.com/?p=145",
         "3": "https://bennidejagere.com/2020/12/communication-plan-data-platform-events/",
         "4": "Tue, 29 Dec 2020 12:27:00 +0000",
         "5": "<p>Wall of Text, Incoming! The last few years, I have been one of the lucky volunteers to handle outbound communications with speakers and attendees for our event, dataMinds Connect. I am a stickler for communication, so I try to have our team put a lot of effort into this. When all was said and done [&#8230;]</p>\n<p>The post <a href=\"https://bennidejagere.com/2020/12/communication-plan-data-platform-events/\">A (Possible) Communication Plan for Data Platform Events</a> appeared first on <a href=\"https://bennidejagere.com\">Benni De Jagere</a>.</p>",
         "6": "A (Possible) Communication Plan for Data Platform Events",
         "7": "BenniDeJagere"
        },
        {
         "0": "bennidejagere",
         "1": "false",
         "2": "https://bennidejagere.com/?p=99",
         "3": "https://bennidejagere.com/2020/12/so-long-2020/",
         "4": "Mon, 28 Dec 2020 12:04:41 +0000",
         "5": "<p>Looking back .. I&#8217;ll just put it out there .. 2020 was a weird year for mostly anyone, and we&#8217;re collectively rooting for 2021 to pick up the slack. Looking back, I realise that I have hardly got reasons to complain, and I count my blessings for it. What started out as a year filled [&#8230;]</p>\n<p>The post <a href=\"https://bennidejagere.com/2020/12/so-long-2020/\">So long, 2020!</a> appeared first on <a href=\"https://bennidejagere.com\">Benni De Jagere</a>.</p>",
         "6": "So long, 2020!",
         "7": "BenniDeJagere"
        },
        {
         "0": "Matthew Roche",
         "1": "false",
         "2": "http://ssbipolar.com/?p=3130",
         "3": "https://ssbipolar.com/2024/05/27/being-a-pm-at-microsoft-flexibility-and-rigor/",
         "4": "Mon, 27 May 2024 11:00:22 +0000",
         "5": "Someone once described this to me as “starters and finishers”. I think about it as “knowing when to march and knowing when to dance.” No matter what you call it, there are different skills needed at different times in a project or in the lifecycle of a product and it’s important to know which one &#8230; <p><a class=\"more-link\" href=\"https://ssbipolar.com/2024/05/27/being-a-pm-at-microsoft-flexibility-and-rigor/\">Continue reading <span class=\"screen-reader-text\">Being a PM at Microsoft: Flexibility and&#160;rigor</span></a></p>",
         "6": "Being a PM at Microsoft: Flexibility and rigor",
         "7": "BIPolar"
        },
        {
         "0": "Kevin Chant",
         "1": "false",
         "2": "https://www.kevinrchant.com/?p=11882",
         "3": "https://www.kevinrchant.com/2024/09/16/presenting-at-datascotland-last-week/",
         "4": "Mon, 16 Sep 2024 10:17:49 +0000",
         "5": "<p><span class=\"rt-reading-time\" style=\"display: block;\"><span class=\"rt-label rt-prefix\">Reading Time: </span> <span class=\"rt-time\">4</span> <span class=\"rt-label rt-postfix\">minutes</span></span> In this post I want to share my thoughts about presenting at DATA:Scotland last week. I do not tend to post about presenting at events&#8230;</p>\n<p>The post <a href=\"https://www.kevinrchant.com/2024/09/16/presenting-at-datascotland-last-week/\">Presenting at DATA:Scotland last week</a> appeared first on <a href=\"https://www.kevinrchant.com\">Kevin Chant</a>.</p>",
         "6": "Presenting at DATA:Scotland last week",
         "7": "KevinChant"
        },
        {
         "0": "Kevin Chant",
         "1": "false",
         "2": "https://www.kevinrchant.com/?p=11830",
         "3": "https://www.kevinrchant.com/2024/08/30/unit-tests-on-microsoft-fabric-items/",
         "4": "Fri, 30 Aug 2024 13:08:36 +0000",
         "5": "<p><span class=\"rt-reading-time\" style=\"display: block;\"><span class=\"rt-label rt-prefix\">Reading Time: </span> <span class=\"rt-time\">6</span> <span class=\"rt-label rt-postfix\">minutes</span></span> In this post I want to share various ways that you can perform unit tests on Microsoft Fabric items. Since a lot of people ask&#8230;</p>\n<p>The post <a href=\"https://www.kevinrchant.com/2024/08/30/unit-tests-on-microsoft-fabric-items/\">Unit tests on Microsoft Fabric items</a> appeared first on <a href=\"https://www.kevinrchant.com\">Kevin Chant</a>.</p>",
         "6": "Unit tests on Microsoft Fabric items",
         "7": "KevinChant"
        },
        {
         "0": "bennidejagere",
         "1": "false",
         "2": "https://bennidejagere.com/?p=1544",
         "3": "https://bennidejagere.com/2022/02/writing-session-abstracts/",
         "4": "Sun, 06 Feb 2022 14:53:19 +0000",
         "5": "<p>On Friday January 21st 2022, I had the absolute joy and pleasure to present a lightning talk at Data Minutes, ran by William Durkin and Ben Weissman. 10-minute timeslots assigned to a large number of speakers, where I used mine to share my thoughts on writing a session abstract for conferences, user groups, or other [&#8230;]</p>\n<p>The post <a href=\"https://bennidejagere.com/2022/02/writing-session-abstracts/\">Writing Session Abstracts (Data Minutes)</a> appeared first on <a href=\"https://bennidejagere.com\">Benni De Jagere</a>.</p>",
         "6": "Writing Session Abstracts (Data Minutes)",
         "7": "BenniDeJagere"
        },
        {
         "0": "bennidejagere",
         "1": "false",
         "2": "https://bennidejagere.com/?p=1388",
         "3": "https://bennidejagere.com/2021/12/buh-bye-2021/",
         "4": "Fri, 31 Dec 2021 09:59:33 +0000",
         "5": "<p>Buh bye, 2021! In my round-up for 2020, I mentioned it had been a weird year for mostly anyone. I&#8217;ll go out on a limb, and state that 2021 has been just as weird. And yet, I don&#8217;t have major reasons to complain, and am incredibly grateful for it. 2021 has been a rollercoaster for [&#8230;]</p>\n<p>The post <a href=\"https://bennidejagere.com/2021/12/buh-bye-2021/\">Buh bye, 2021!</a> appeared first on <a href=\"https://bennidejagere.com\">Benni De Jagere</a>.</p>",
         "6": "Buh bye, 2021!",
         "7": "BenniDeJagere"
        },
        {
         "0": "Marthe Moengen",
         "1": "false",
         "2": "http://data-ascend.com/?p=1147",
         "3": "https://data-ascend.com/2023/10/31/is-data-mesh-your-enabler-or-is-it-just-creating-a-data-mess/",
         "4": "Tue, 31 Oct 2023 07:46:25 +0000",
         "5": "Coming from the world of Microsoft analytics, I got curious as to why Microsoft chose to go with &#8220;Fabric&#8221; as the name of the newly released analytical solution, Microsoft Fabric. Looking into this, the architectural concept of Data Fabric became more relevant. I had been working with Data Mesh for a while, but the Fabric<a class=\"more-link\" href=\"https://data-ascend.com/2023/10/31/is-data-mesh-your-enabler-or-is-it-just-creating-a-data-mess/\">&amp;ellipsisRead the full post &#187;</a>",
         "6": "Is Data Mesh your enabler, or is it just creating a data mess?",
         "7": "DATAASCEND"
        },
        {
         "0": "Matthew Roche",
         "1": "false",
         "2": "http://ssbipolar.com/?p=3138",
         "3": "https://ssbipolar.com/2024/06/03/being-a-pm-at-microsoft-having-a-growth-mindset/",
         "4": "Mon, 03 Jun 2024 11:00:11 +0000",
         "5": "If you work at Microsoft, you hear about having a “growth mindset” a lot. But what does this actually mean, and how does having a growth mindset apply to growing and thriving as a PM? MakerTube link &#124; YouTube link This post and video are part of an ongoing series on being a PM at &#8230; <p><a class=\"more-link\" href=\"https://ssbipolar.com/2024/06/03/being-a-pm-at-microsoft-having-a-growth-mindset/\">Continue reading <span class=\"screen-reader-text\">Being a PM at Microsoft: Having a growth&#160;mindset</span></a></p>",
         "6": "Being a PM at Microsoft: Having a growth mindset",
         "7": "BIPolar"
        },
        {
         "0": "Gerhard Brueckl",
         "1": "false",
         "2": "https://blog.gbrueckl.at/?p=2085",
         "3": "https://blog.gbrueckl.at/2023/08/querying-power-bi-rest-api-using-fabric-spark-sql/",
         "4": "Thu, 31 Aug 2023 20:14:22 +0000",
         "5": "Power BI is a fundamental part of Fabric but it can be cumbersome to fetch and analyse Power BI metadata in Fabric. This blog shows how you can easily query the Power BI REST API using simple SQL statements in your Fabric notebook! <a class=\"more-link\" href=\"https://blog.gbrueckl.at/2023/08/querying-power-bi-rest-api-using-fabric-spark-sql/\">Continue reading <span class=\"screen-reader-text\">  Querying Power BI REST API using Fabric Spark SQL</span><span class=\"meta-nav\">&#8594;</span></a>",
         "6": "Querying Power BI REST API using Fabric Spark SQL",
         "7": "GerhardBruecklonBIData"
        },
        {
         "0": "jonvoge",
         "1": "false",
         "2": "http://downhill-data.com/?p=1280",
         "3": "https://downhill-data.com/2024/10/01/how-to-give-external-users-access-directly-to-your-lakehouses-in-fabric/",
         "4": "Tue, 01 Oct 2024 06:30:00 +0000",
         "5": "Introduction Last week I blogged about sharing Semantic Models in Fabric / Power BI with external users, and also teased that semantic models are not the only type of object that we can share with externals. This week, we look at how you may invite guest users directly into your Lakehouses (and also KQL databases, [&#8230;]",
         "6": "How to give external users access to your Lakehouses and Data in Microsoft Fabric",
         "7": "DownhillData"
        },
        {
         "0": "jonvoge",
         "1": "false",
         "2": "http://downhill-data.com/?p=1533",
         "3": "https://downhill-data.com/2024/09/24/from-analyst-to-analytics-engineer-how-microsoft-fabric-enables-analysts-to-become-the-swiss-army-knife-of-your-data-team/",
         "4": "Tue, 24 Sep 2024 06:30:00 +0000",
         "5": "Introduction Yesterday, I participated in the Swedish Power BI User Group to discuss a topic that has been heavily on my mind since the introduction of Microsoft Fabric. As a Power BI user and Data Analyst, how will I fare on a Platform with so many possibilities, and yet so many requirements? What will my [&#8230;]",
         "6": "From Analyst to Analytics Engineer: How Microsoft Fabric enables Analysts to become the Swiss Army Knife of your data team",
         "7": "DownhillData"
        },
        {
         "0": "Nikola",
         "1": "false",
         "2": "https://data-mozart.com/?p=8204",
         "3": "https://data-mozart.com/the-strongest-link-5-reasons-why-semantic-link-is-the-fabric-big-deal/?utm_source=rss&utm_medium=rss&utm_campaign=the-strongest-link-5-reasons-why-semantic-link-is-the-fabric-big-deal",
         "4": "Sat, 21 Sep 2024 07:16:56 +0000",
         "5": "<p>Learn how Semantic Link feature will transform the world of analytics we know today! </p>\n<p>The post <a href=\"https://data-mozart.com/the-strongest-link-5-reasons-why-semantic-link-is-the-fabric-big-deal/\">THE Strongest Link! 5 Reasons why Semantic Link IS the Fabric big deal</a> appeared first on <a href=\"https://data-mozart.com\">Data Mozart</a>.</p>",
         "6": "THE Strongest Link! 5 Reasons why Semantic Link IS the Fabric big deal",
         "7": "DataMozart"
        },
        {
         "0": "Marco Russo",
         "1": "false",
         "2": "http://www.sqlbi.com/?post_type=video&p=843573",
         "3": "https://www.sqlbi.com/tv/context-transition-in-dax-explained-visually/",
         "4": "Tue, 10 Sep 2024 10:00:00 +0000",
         "5": "<figure><img class=\"webfeedsFeaturedVisual\" src=\"https://i.ytimg.com/vi/ANTQFzen-Ig/maxresdefault.jpg\" /></figure>A visual representation of the context transition in DAX makes it easier to understand how it works!",
         "6": "Context transition in DAX explained visually",
         "7": "SQLBI"
        },
        {
         "0": "Alberto Ferrari",
         "1": "false",
         "2": "https://www.sqlbi.com/?p=847213",
         "3": "https://www.sqlbi.com/articles/context-transition-in-dax-explained-visually/",
         "4": "Mon, 09 Sep 2024 19:30:13 +0000",
         "5": "<figure><img class=\"webfeedsFeaturedVisual\" src=\"https://cdn.sqlbi.com/wp-content/uploads/image9-35.png\" /></figure>This article describes the DAX context transition using a conceptual model based on a visual representation. In previous articles, we introduced a visual approach to describing two important DAX concepts: the filter context and the row context. This article completes&#8230;",
         "6": "Context transition in DAX explained visually",
         "7": "SQLBI"
        },
        {
         "0": "Alberto Ferrari",
         "1": "false",
         "2": "https://www.sqlbi.com/?post_type=video&p=847433",
         "3": "https://www.sqlbi.com/tv/filter-columns-not-tables-in-dax/",
         "4": "Tue, 27 Aug 2024 10:00:00 +0000",
         "5": "<figure><img class=\"webfeedsFeaturedVisual\" src=\"https://i.ytimg.com/vi/XSWXw-orvI4/maxresdefault.jpg\" /></figure>Why you should always filter columns and never filter tables with CALCULATE in DAX!",
         "6": "Filter columns, not tables, in DAX",
         "7": "SQLBI"
        },
        {
         "0": "Marco Russo",
         "1": "false",
         "2": "https://www.sqlbi.com/?p=847199",
         "3": "https://www.sqlbi.com/articles/filter-columns-not-tables-in-dax/",
         "4": "Mon, 26 Aug 2024 19:30:37 +0000",
         "5": "<figure><img class=\"webfeedsFeaturedVisual\" src=\"https://cdn.sqlbi.com/wp-content/uploads/C0208-thumbnail.png\" /></figure>One of the few golden rules in DAX is to always filter columns and never filter tables with CALCULATE. This article explains the rationale behind the rule. You have probably heard multiple times the same answer to many questions about&#8230;",
         "6": "Filter columns, not tables, in DAX",
         "7": "SQLBI"
        },
        {
         "0": "Kurt Buhler",
         "1": "false",
         "2": "https://www.sqlbi.com/?post_type=video&p=847434",
         "3": "https://www.sqlbi.com/tv/highlighting-a-data-point-and-comparing-all-others-in-a-distribution/",
         "4": "Tue, 13 Aug 2024 10:00:00 +0000",
         "5": "<figure><img class=\"webfeedsFeaturedVisual\" src=\"https://i.ytimg.com/vi/l0DETT4QR_Y/maxresdefault.jpg\" /></figure>How to highlight a single value in visual when comparing the distribution of a measure for one value versus all others.",
         "6": "Highlighting a data point and comparing all others in a distribution",
         "7": "SQLBI"
        },
        {
         "0": "Kurt Buhler",
         "1": "false",
         "2": "https://www.sqlbi.com/?p=845016",
         "3": "https://www.sqlbi.com/articles/highlighting-a-data-point-and-comparing-to-all-others-in-a-distribution/",
         "4": "Mon, 12 Aug 2024 19:30:44 +0000",
         "5": "<figure><img class=\"webfeedsFeaturedVisual\" src=\"https://cdn.sqlbi.com/wp-content/uploads/image1-87.png\" /></figure>This article shows how you can highlight a single value in visual when comparing the distribution of a measure for one value versus all others. Effective visualizations provide context so that you can interpret the numbers and what they mean&#8230;",
         "6": "Highlighting a data point and comparing to all others in a distribution",
         "7": "SQLBI"
        },
        {
         "0": "jonvoge",
         "1": "false",
         "2": "http://downhill-data.com/?p=1419",
         "3": "https://downhill-data.com/2024/09/03/mastering-power-bi-hierarchies-conditional-drill-through-and-returning-values-only-for-specific-hierarchy-levels/",
         "4": "Tue, 03 Sep 2024 06:30:00 +0000",
         "5": "Introduction Hierarchies in Power BI are a blessing and a curse. From an End User perspective, they provide great context, and may acts as funnels guiding analysis. But from a developer point-of-view, they often also come with a range of not-so-basic requests. Have you for example encountered one or more of the following user requests?: [&#8230;]",
         "6": "Mastering Power BI Hierarchies: Conditional Drill Through and returning values only for specific hierarchy levels",
         "7": "DownhillData"
        },
        {
         "0": "jonvoge",
         "1": "false",
         "2": "http://downhill-data.com/?p=776",
         "3": "https://downhill-data.com/2024/08/27/parameterized-power-bi-navigation-practical-examples-for-using-url-parameters-and-deep-linking-power-bi-reports/",
         "4": "Tue, 27 Aug 2024 06:30:00 +0000",
         "5": "Introduction An overlooked feature of Power BI, is the ability to create deep links for specific Report Pages, to aid users in navigating to a specific place in your report, decided by you, the report developer. Combined with the ability to add filters to these deep links, and you have a super powerful way to [&#8230;]",
         "6": "Parameterized Power BI Navigation – Practical examples for using URL parameters and deep linking Power BI reports",
         "7": "DownhillData"
        },
        {
         "0": "jonvoge",
         "1": "false",
         "2": "http://downhill-data.com/?p=155",
         "3": "https://downhill-data.com/2024/08/20/displaying-power-bi-reports-on-tv-screens-then-you-need-auto-page-refresh/",
         "4": "Tue, 20 Aug 2024 06:30:00 +0000",
         "5": "Introduction Power BI Reports on TV Screens are a work of art. They need to be curated with extra care, as interaction between user and report is (usually) not possible or very limited. Further, in terms of technicalities, the report needs to be displayed with as few distractions as possible, and it needs a way [&#8230;]",
         "6": "Displaying Power BI Reports on TV Screens? Then you need Auto Page Refresh!",
         "7": "DownhillData"
        },
        {
         "0": "Marthe Moengen",
         "1": "false",
         "2": "http://data-ascend.com/?p=1316",
         "3": "https://data-ascend.com/2024/10/01/start-your-data-governance-journey-with-the-new-microsoft-purview-a-step-by-step-guide/",
         "4": "Tue, 01 Oct 2024 05:48:30 +0000",
         "5": "Microsoft Purview has evolved from a Data Catalog into a comprehensive data governance tool, incorporating features like data security and quality monitoring. This video step by step guide on how to start using Purview for data governance. Topics include upgrading Purview, registering Fabric data, creating data products and governance domains and setting up data quality.",
         "6": "Start Your Data Governance Journey with the new Microsoft Purview: A Step-by-step guide",
         "7": "DATAASCEND"
        },
        {
         "0": "jonvoge",
         "1": "false",
         "2": "http://downhill-data.com/?p=1468",
         "3": "https://downhill-data.com/2024/10/15/microsoft-fabric-write-back-revisited-maintaining-rls-tables-with-power-apps-stored-procedures/",
         "4": "Tue, 15 Oct 2024 08:12:16 +0000",
         "5": "Introduction Recently I posted my guide on Data Write-Back to Fabric Data Warehouse with Power BI and Power Apps: Live Data Write-Back to Fabric Data Warehouse from Power BI w. Power Apps and Power Automate – Downhill Data (downhill-data.com) That solution uses Power Automate to circumvent the traditional Power Apps x Fabric problem, of Fabric [&#8230;]",
         "6": "Microsoft Fabric Write-Back Revisited: Maintaining RLS tables with Power Apps & Stored Procedures",
         "7": "DownhillData"
        },
        {
         "0": "jonvoge",
         "1": "false",
         "2": "http://downhill-data.com/?p=1681",
         "3": "https://downhill-data.com/2024/10/22/fabric-capacity-consumption-can-you-run-eventstreams-and-data-activator-on-small-fabric-capacities/",
         "4": "Tue, 22 Oct 2024 06:30:00 +0000",
         "5": "Introduction Often I hear that people are worried about the costs associated with Real Time Intelligence in Fabric. For Eventstreams, I was able to find decent documentation stating the Capacity Unit consumption. However, I personally thought it would be nice with a bit more of a practical example. Hence, I decided to do a small [&#8230;]",
         "6": "Fabric Capacity Consumption: Can you run Eventstreams and Data Activator on small Fabric Capacities?",
         "7": "DownhillData"
        },
        {
         "0": "Nikola",
         "1": "false",
         "2": "https://data-mozart.com/?p=7990",
         "3": "https://data-mozart.com/how-to-bring-sql-server-data-into-microsoft-fabric/?utm_source=rss&utm_medium=rss&utm_campaign=how-to-bring-sql-server-data-into-microsoft-fabric",
         "4": "Mon, 17 Jun 2024 10:07:09 +0000",
         "5": "<p>Options, options...In this article, you'll learn what are the possibilities for bringing your on-prem SQL Server data to Microsoft Fabric</p>\n<p>The post <a href=\"https://data-mozart.com/how-to-bring-sql-server-data-into-microsoft-fabric/\">How to bring SQL Server data into Microsoft Fabric</a> appeared first on <a href=\"https://data-mozart.com\">Data Mozart</a>.</p>",
         "6": "How to bring SQL Server data into Microsoft Fabric",
         "7": "DataMozart"
        },
        {
         "0": "Kurt Buhler",
         "1": "false",
         "2": "http://www.sqlbi.com/?post_type=video&p=845254",
         "3": "https://www.sqlbi.com/tv/using-atomic-design-in-report-and-model-development/",
         "4": "Tue, 02 Jul 2024 10:00:00 +0000",
         "5": "<figure><img class=\"webfeedsFeaturedVisual\" src=\"https://i.ytimg.com/vi/Gh6cYq7sr2w/maxresdefault.jpg\" /></figure>The ‘atomic design methodology’ is an approach to make Power BI development more efficient and repeatable.",
         "6": "Using atomic design in report and model development",
         "7": "SQLBI"
        },
        {
         "0": "Kurt Buhler",
         "1": "false",
         "2": "https://www.sqlbi.com/?p=844648",
         "3": "https://www.sqlbi.com/articles/using-atomic-design-in-report-and-model-development/",
         "4": "Mon, 01 Jul 2024 19:30:30 +0000",
         "5": "<figure><img class=\"webfeedsFeaturedVisual\" src=\"https://cdn.sqlbi.com/wp-content/uploads/image2-83.png\" /></figure>This article introduces the ‘atomic design methodology’ as an approach to make Power BI development more efficient and repeatable. Developing a good semantic model or report takes a lot of time and effort. One way to reduce this cost is&#8230;",
         "6": "Using atomic design in report and model development",
         "7": "SQLBI"
        },
        {
         "0": "Marco Russo",
         "1": "false",
         "2": "https://www.sqlbi.com/?post_type=blogpost&p=845299",
         "3": "https://www.sqlbi.com/blog/marco/2024/07/01/sqlbi-has-more-than-100k-subscribers-on-youtube/",
         "4": "Mon, 01 Jul 2024 11:46:22 +0000",
         "5": "<figure><img class=\"webfeedsFeaturedVisual\" src=\"https://cdn.sqlbi.com/wp-content/uploads/100k.jpg\" /></figure>We recently surpassed the 100,000 subscribers milestone on the SQLBI YouTube channel. Therefore, Alberto and I unboxed the plaque received by YouTube. We are still fighting for who should keep it! Thank you all for watching us.",
         "6": "SQLBI has more than 100k subscribers on YouTube",
         "7": "SQLBI"
        },
        {
         "0": "Marco Russo",
         "1": "false",
         "2": "http://www.sqlbi.com/?post_type=video&p=844962",
         "3": "https://www.sqlbi.com/tv/100k-subscribers-thank-you/",
         "4": "Mon, 01 Jul 2024 11:40:23 +0000",
         "5": "<figure><img class=\"webfeedsFeaturedVisual\" src=\"https://i.ytimg.com/vi/z7Sv5hS_FXo/maxresdefault.jpg\" /></figure>Watch the unboxing of the 100k subscribers plaque we received from YouTube!",
         "6": "100K Subscribers – Thank you!",
         "7": "SQLBI"
        },
        {
         "0": "Marco Russo",
         "1": "false",
         "2": "http://www.sqlbi.com/?post_type=video&p=843575",
         "3": "https://www.sqlbi.com/tv/filter-context-in-dax-explained-visually/",
         "4": "Tue, 18 Jun 2024 10:00:00 +0000",
         "5": "<figure><img class=\"webfeedsFeaturedVisual\" src=\"https://i.ytimg.com/vi/L5WR-imfyYI/maxresdefault.jpg\" /></figure>A visual representation of the filter context in DAX can help understand the conceptual model.",
         "6": "Filter context in DAX explained visually",
         "7": "SQLBI"
        },
        {
         "0": "Alberto Ferrari",
         "1": "false",
         "2": "https://www.sqlbi.com/?p=843174",
         "3": "https://www.sqlbi.com/articles/filter-context-in-dax-explained-visually/",
         "4": "Mon, 17 Jun 2024 19:30:38 +0000",
         "5": "<figure><img class=\"webfeedsFeaturedVisual\" src=\"https://cdn.sqlbi.com/wp-content/uploads/C0245-05.png\" /></figure>This article describes the DAX filter context using a conceptual model based on a visual representation. The filter context is a fundamental concept to understand in order to write good DAX code. In this article, we describe the filter context&#8230;",
         "6": "Filter context in DAX explained visually",
         "7": "SQLBI"
        },
        {
         "0": "Alberto Ferrari",
         "1": "false",
         "2": "http://www.sqlbi.com/?post_type=video&p=851250",
         "3": "https://www.sqlbi.com/tv/impact-of-data-types-in-dax-arithmetical-calculations/",
         "4": "Tue, 08 Oct 2024 10:00:00 +0000",
         "5": "<figure><img class=\"webfeedsFeaturedVisual\" src=\"https://i.ytimg.com/vi/KultHonurFw/maxresdefault.jpg\" /></figure>How the right choice of data type and DAX code makes a significant difference in precision and performance because of internal conversions.",
         "6": "Impact of data types in DAX arithmetical calculations",
         "7": "SQLBI"
        },
        {
         "0": "Marco Russo",
         "1": "false",
         "2": "https://www.sqlbi.com/?p=851741",
         "3": "https://www.sqlbi.com/articles/impact-of-data-types-in-dax-arithmetical-calculations/",
         "4": "Mon, 07 Oct 2024 20:00:08 +0000",
         "5": "<figure><img class=\"webfeedsFeaturedVisual\" src=\"https://cdn.sqlbi.com/wp-content/uploads/image3-80.png\" /></figure>The choice of data types can affect precision and performance because of internal conversions. This article shows how the right choice of data type and DAX code makes a significant difference. The VertiPaq engine is basically data type-independent. This means&#8230;",
         "6": "Impact of data types in DAX arithmetical calculations",
         "7": "SQLBI"
        },
        {
         "0": "Marco Russo",
         "1": "false",
         "2": "https://www.sqlbi.com/?post_type=video&p=853205",
         "3": "https://www.sqlbi.com/tv/identify-fabric-and-power-bi-semantic-model-bottlenecks-with-dax-optimizer/",
         "4": "Mon, 07 Oct 2024 11:00:00 +0000",
         "5": "<figure><img class=\"webfeedsFeaturedVisual\" src=\"https://i3.ytimg.com/vi/RcY92BV9OSM/maxresdefault.jpg\" /></figure>Review the issues detected by DAX Optimizer, prioritize your effort based on impact metrics, and learn about the problems identified and how to solve them.",
         "6": "Identify Fabric and Power BI semantic model bottlenecks with DAX Optimizer",
         "7": "SQLBI"
        },
        {
         "0": "jonvoge",
         "1": "false",
         "2": "http://downhill-data.com/?p=1234",
         "3": "https://downhill-data.com/2024/09/10/how-to-share-fabric-power-bi-semantic-models-with-external-users/",
         "4": "Tue, 10 Sep 2024 06:30:00 +0000",
         "5": "Introduction I&#8217;ve previously written about sharing Power BI Reports with Externals, both through Power BI Embedded (using Power Pages) and to guest users in the Power BI Service. However, a new addition to the line-up of capabilities in Microsoft Fabric allows us to share Semantic Models directly with external users as well, enabling entirely new [&#8230;]",
         "6": "How to share Fabric / Power BI Semantic Models with External Users",
         "7": "DownhillData"
        },
        {
         "0": "Marco Russo",
         "1": "false",
         "2": "https://www.sqlbi.com/?post_type=video&p=848109",
         "3": "https://www.sqlbi.com/tv/understanding-window-functions-in-dax/",
         "4": "Sun, 28 Jul 2024 08:19:15 +0000",
         "5": "<figure><img class=\"webfeedsFeaturedVisual\" src=\"https://i3.ytimg.com/vi/FNRSLBnFLlo/maxresdefault.jpg\" /></figure>Introduction to DAX window functions and apply semantics through several examples to understand their capabilities and performance. Delivered by Marco Russo at SQLBits 2024.",
         "6": "Understanding window functions in DAX",
         "7": "SQLBI"
        },
        {
         "0": "Marco Russo",
         "1": "false",
         "2": "https://www.sqlbi.com/?post_type=video&p=848108",
         "3": "https://www.sqlbi.com/tv/using-allexcept-or-all-values/",
         "4": "Sun, 28 Jul 2024 08:10:48 +0000",
         "5": "<figure><img class=\"webfeedsFeaturedVisual\" src=\"https://i3.ytimg.com/vi/AMZXTFmBFC4/maxresdefault.jpg\" /></figure>Learn when to use ALL / VALUES instead of ALLEXCEPT in DAX calculations. Sessions delivered by Marco Russo at SQLBits 2024.",
         "6": "Using ALLEXCEPT or ALL/VALUES?",
         "7": "SQLBI"
        },
        {
         "0": "Marco Russo",
         "1": "false",
         "2": "https://www.sqlbi.com/?post_type=blogpost&p=847582",
         "3": "https://www.sqlbi.com/blog/marco/2024/07/25/announcing-contoso-data-generator-v2/",
         "4": "Thu, 25 Jul 2024 09:30:18 +0000",
         "5": "<figure><img class=\"webfeedsFeaturedVisual\" src=\"https://cdn.sqlbi.com/wp-content/uploads/contoso-generator-min.png\" /></figure>I am proud to announce the second version of the Contoso Data Generator! In January 2022, we released the first version of an open-source project to create a sample relational database for semantic models in Power BI and Analysis Services.&#8230;",
         "6": "Announcing Contoso Data Generator v2",
         "7": "SQLBI"
        },
        {
         "0": "Marco Russo",
         "1": "false",
         "2": "http://www.sqlbi.com/?post_type=video&p=843574",
         "3": "https://www.sqlbi.com/tv/row-context-in-dax-explained-visually/",
         "4": "Tue, 30 Jul 2024 10:00:00 +0000",
         "5": "<figure><img class=\"webfeedsFeaturedVisual\" src=\"https://i.ytimg.com/vi/sEEzx5rO33s/maxresdefault.jpg\" /></figure>A visual representation of the DAX row context helps to understand the related conceptual model.",
         "6": "Row context in DAX explained visually",
         "7": "SQLBI"
        },
        {
         "0": "Marco Russo",
         "1": "false",
         "2": "https://www.sqlbi.com/?p=843689",
         "3": "https://www.sqlbi.com/articles/row-context-in-dax-explained-visually/",
         "4": "Mon, 29 Jul 2024 19:30:53 +0000",
         "5": "<figure><img class=\"webfeedsFeaturedVisual\" src=\"https://cdn.sqlbi.com/wp-content/uploads/image7-42.png\" /></figure>This article describes the DAX row context using a conceptual model based on a visual representation. Row context is the second fundamental concept in writing DAX code. In a previous article, we introduced the first concept – the filter context&#8230;",
         "6": "Row context in DAX explained visually",
         "7": "SQLBI"
        },
        {
         "0": "Marco Russo",
         "1": "false",
         "2": "https://www.sqlbi.com/?post_type=video&p=848110",
         "3": "https://www.sqlbi.com/tv/aggregations-in-power-bi-2/",
         "4": "Sun, 28 Jul 2024 08:22:52 +0000",
         "5": "<figure><img class=\"webfeedsFeaturedVisual\" src=\"https://i3.ytimg.com/vi/Zg_asRGPXWw/maxresdefault.jpg\" /></figure>Introduce Power BI aggregations with practical examples, evaluate pros and cons, and learn how to use alternative approaches by using DAX to control the aggregation used. Delivered by Marco Russo at SQLBits 2024.",
         "6": "Aggregations in Power BI",
         "7": "SQLBI"
        },
        {
         "0": "Marco Russo",
         "1": "false",
         "2": "https://www.sqlbi.com/?p=855846",
         "3": "https://www.sqlbi.com/articles/using-weekly-calendars-in-power-bi/",
         "4": "Mon, 21 Oct 2024 19:30:51 +0000",
         "5": "<figure><img class=\"webfeedsFeaturedVisual\" src=\"https://cdn.sqlbi.com/wp-content/uploads/image1-94.png\" /></figure>This article describes why week-based calendars (like 4-4-5) are important for specific industries and how to use them effectively in Power BI. As of October 2024, Power BI does not have a built-in feature to manage calendars based on weeks.&#8230;",
         "6": "Using weekly calendars in Power BI",
         "7": "SQLBI"
        },
        {
         "0": "Marco Russo",
         "1": "false",
         "2": "http://www.sqlbi.com/?post_type=video&p=853038",
         "3": "https://www.sqlbi.com/tv/keep-track-of-fixed-issues-in-dax-optimizer/",
         "4": "Mon, 21 Oct 2024 11:00:00 +0000",
         "5": "<figure><img class=\"webfeedsFeaturedVisual\" src=\"https://i.ytimg.com/vi/P6TQ4L34f3U/maxresdefault.jpg\" /></figure>You can keep track of the issues reported by DAX Optimizer that you fixed (or ignored) in the actual model.",
         "6": "Keep Track of Fixed Issues in DAX Optimizer",
         "7": "SQLBI"
        },
        {
         "0": "Marco Russo",
         "1": "false",
         "2": "http://www.sqlbi.com/?post_type=video&p=853033",
         "3": "https://www.sqlbi.com/tv/boost-power-bi-efficiency-with-dax-optimizer/",
         "4": "Mon, 14 Oct 2024 11:00:00 +0000",
         "5": "<figure><img class=\"webfeedsFeaturedVisual\" src=\"https://i.ytimg.com/vi/ZrFidlVZwBQ/maxresdefault.jpg\" /></figure>Identify measures that are more expensive for RAM and CPU consumption. RAM is important for scalability; CPU determines users&#8217; wait time for a report.",
         "6": "Boost Power BI Efficiency with DAX Optimizer",
         "7": "SQLBI"
        },
        {
         "0": "Kurt Buhler",
         "1": "false",
         "2": "http://www.sqlbi.com/?post_type=video&p=851249",
         "3": "https://www.sqlbi.com/tv/creating-custom-visuals-in-power-bi-with-dax/",
         "4": "Tue, 24 Sep 2024 10:00:00 +0000",
         "5": "<figure><img class=\"webfeedsFeaturedVisual\" src=\"https://i.ytimg.com/vi/JG5EbW1wr70/maxresdefault.jpg\" /></figure>Create dynamic images in DAX measures to visualize data in tables or cards, including an easy way to do this in Figma, and a caution for using these DAX measures in real-life scenarios.",
         "6": "Creating custom visuals in Power BI with DAX",
         "7": "SQLBI"
        },
        {
         "0": "Kurt Buhler",
         "1": "false",
         "2": "https://www.sqlbi.com/?p=852043",
         "3": "https://www.sqlbi.com/articles/creating-custom-visuals-in-power-bi-with-dax/",
         "4": "Mon, 23 Sep 2024 20:00:12 +0000",
         "5": "<figure><img class=\"webfeedsFeaturedVisual\" src=\"https://cdn.sqlbi.com/wp-content/uploads/image1-92.png\" /></figure>This article is about creating dynamic images in DAX measures to visualize data in tables or cards, including an easy way to do this in Figma, and a caution for using these DAX measures in real-life scenarios. When creating reports&#8230;",
         "6": "Creating custom visuals in Power BI with DAX",
         "7": "SQLBI"
        },
        {
         "0": "Marco Russo",
         "1": "false",
         "2": "http://www.sqlbi.com/?post_type=video&p=848154",
         "3": "https://www.sqlbi.com/tv/dax-optimizer-1-2-new-features/",
         "4": "Thu, 19 Sep 2024 11:42:54 +0000",
         "5": "<figure><img class=\"webfeedsFeaturedVisual\" src=\"https://i.ytimg.com/vi/F7rc2DWyN0Q/maxresdefault.jpg\" /></figure>Explore the new metrics introduced by DAX Optimizer 1.2 to improve the prioritization of DAX issues and the new command line tool to automate analyses over deployment. Disclaimer: conflict of interest disclosure; I am one of the authors of DAX&#8230;",
         "6": "DAX Optimizer 1.2 – new features",
         "7": "SQLBI"
        },
        {
         "0": "jonvoge",
         "1": "false",
         "2": "http://downhill-data.com/?p=1511",
         "3": "https://downhill-data.com/2024/09/17/combining-power-apps-stored-procedures-in-fabric-data-warehouse/",
         "4": "Tue, 17 Sep 2024 06:08:17 +0000",
         "5": "Introduction What to you get when you mix the recently-gone-generally available Stored Procedure functionality in Power Apps with Stored Procedures in a Fabric Data Warehouse? A match made in heaven is what, I tell you. This blog will introduce you to the general principles of working with Stored Procedures in Power Apps (not just for [&#8230;]",
         "6": "Combining Power Apps & Stored Procedures in Fabric Data Warehouse",
         "7": "DownhillData"
        },
        {
         "0": "Marco Russo",
         "1": "false",
         "2": "https://www.sqlbi.com/?post_type=blogpost&p=845581",
         "3": "https://www.sqlbi.com/blog/marco/2024/07/20/vpax-command-line-tool-for-windows-mac-os-and-linux/",
         "4": "Sat, 20 Jul 2024 08:00:15 +0000",
         "5": "<figure><img class=\"webfeedsFeaturedVisual\" src=\"https://cdn.sqlbi.com/wp-content/uploads/vpax-cli.png\" /></figure>Did you ever want to extract a VPAX file using a command line tool? If you are among the early adopters of DataOps principles or simply want to automate processes, you will be glad to know that we now have&#8230;",
         "6": "VPAX Command Line Tool for Windows, Mac OS, and Linux",
         "7": "SQLBI"
        },
        {
         "0": "Alberto Ferrari",
         "1": "false",
         "2": "https://www.sqlbi.com/?post_type=video&p=846485",
         "3": "https://www.sqlbi.com/tv/when-are-variables-evaluated-in-dax/",
         "4": "Tue, 16 Jul 2024 10:00:00 +0000",
         "5": "<figure><img class=\"webfeedsFeaturedVisual\" src=\"https://i.ytimg.com/vi/Nv87HvSPqAQ/maxresdefault.jpg\" /></figure>Learn how DAX evaluates variables, which is important to avoid common mistakes when using DAX for the first time.",
         "6": "When are variables evaluated in DAX",
         "7": "SQLBI"
        },
        {
         "0": "Alberto Ferrari",
         "1": "false",
         "2": "https://www.sqlbi.com/?p=846181",
         "3": "https://www.sqlbi.com/articles/when-are-variables-evaluated-in-dax/",
         "4": "Mon, 15 Jul 2024 19:30:57 +0000",
         "5": "<figure><img class=\"webfeedsFeaturedVisual\" src=\"https://cdn.sqlbi.com/wp-content/uploads/c0008-cover.png\" /></figure>This article clarifies how DAX evaluates variables, which is important to avoid common mistakes when using DAX for the first time. Variables are an important element of DAX to improve readability and performance. Variables are created through the VAR keyword,&#8230;",
         "6": "When are variables evaluated in DAX?",
         "7": "SQLBI"
        },
        {
         "0": "jonvoge",
         "1": "false",
         "2": "http://downhill-data.com/?p=1348",
         "3": "https://downhill-data.com/2024/10/08/creating-measure-tables-directly-in-your-fabric-data-warehouse/",
         "4": "Tue, 08 Oct 2024 06:30:00 +0000",
         "5": "Introduction Half a year ago, I wrote a blog post on creating Measure Tables in Fabric Data Lakehouses directly in the browser: How to create Measure Tables in Microsoft Fabric – Downhill Data (downhill-data.com). Back then, Data Warehouses were less relevant for the story, as they could not be used for Direct Lake models, and [&#8230;]",
         "6": "Creating Measure Tables directly in your Fabric Data Warehouse",
         "7": "DownhillData"
        },
        {
         "0": "Kurt Buhler",
         "1": "false",
         "2": "5c3a30e0f7939271ddaa7e4f:5f5cf0836ff2a57e923a83b6:66fa6e239981695ff35f29db",
         "3": "https://data-goblins.com/power-bi/cant-download-pbix",
         "4": "Tue, 01 Oct 2024 06:30:00 +0000",
         "5": "In this article, I explain several approaches to recover models and reports \nfrom a Power BI workspace when the Download this file (.pbix) option is \ngreyed out. These methods involve use of either external tools or a Fabric \nnotebook.",
         "6": "Recover Power BI reports or models that you can’t download",
         "7": "DataGoblins"
        },
        {
         "0": "Kurt Buhler",
         "1": "false",
         "2": "5c3a30e0f7939271ddaa7e4f:5f5cf0836ff2a57e923a83b6:66fab0abcbe8770f007a06a7",
         "3": "https://data-goblins.com/power-bi/programmatically-modify-reports",
         "4": "Tue, 01 Oct 2024 06:00:00 +0000",
         "5": "In this article, I explain several use-cases for semantic-link-labs with \nreports, which involves programmatic modifications to report metadata to \nstreamline certain report management tasks. This article explains how to do \nthis with standard reports; future articles will elaborate about using the \nmethods available for PBIR.",
         "6": "Fix visuals, replace fields, and mass-format reports in Power BI",
         "7": "DataGoblins"
        },
        {
         "0": "Kurt Buhler",
         "1": "false",
         "2": "5c3a30e0f7939271ddaa7e4f:5f5cf0836ff2a57e923a83b6:65dcbd791d73565635e92e11",
         "3": "https://data-goblins.com/power-bi/fabric-semantic-models-scenario-1",
         "4": "Tue, 27 Feb 2024 07:03:00 +0000",
         "5": "In this article, I illustrate one example of how a team goes from using a \nsemantic model in Power BI (Pro) to Fabric.",
         "6": "What Microsoft Fabric means for your semantic models: Scenario 1",
         "7": "DataGoblins"
        },
        {
         "0": "Kurt Buhler",
         "1": "false",
         "2": "5c3a30e0f7939271ddaa7e4f:5f5cf0836ff2a57e923a83b6:65dcfb82420c18784f8689de",
         "3": "https://data-goblins.com/power-bi/fabric-semantic-models-scenario-2",
         "4": "Tue, 27 Feb 2024 07:02:00 +0000",
         "5": "In this article, I illustrate an example of how a departmental analytics \nteam goes from using a semantic model in Power BI to Fabric.",
         "6": "What Microsoft Fabric means for your semantic models: Scenario 2",
         "7": "DataGoblins"
        },
        {
         "0": "Kurt Buhler",
         "1": "false",
         "2": "5c3a30e0f7939271ddaa7e4f:5f5cf0836ff2a57e923a83b6:65dceb7c9d8df92fda85aea9",
         "3": "https://data-goblins.com/power-bi/fabric-semantic-models-scenario-3",
         "4": "Tue, 27 Feb 2024 07:00:00 +0000",
         "5": "In this article, I illustrate an example of how an enterprise BI team takes \ntheir model from Power BI to Fabric.",
         "6": "What Microsoft Fabric means for your semantic models: Scenario 3",
         "7": "DataGoblins"
        },
        {
         "0": "Kurt Buhler",
         "1": "false",
         "2": "5c3a30e0f7939271ddaa7e4f:5f5cf0836ff2a57e923a83b6:65baab80319b232b19098ac8",
         "3": "https://data-goblins.com/power-bi/something-is-wrong-with-one-or-more-fields",
         "4": "Tue, 30 Jan 2024 07:00:00 +0000",
         "5": "In this article, we look at a 5-step process to replace fields in a report \nwhen you’ve re-named, moved, or deleted them in the model. You can also use \nthis method to “hot swap” different fields in and out of a visual without \nlosing formatting. This isn’t officially supported, but it’s easy and it’s \na huge time-saver.",
         "6": "Fix Power BI “Something is wrong with one or more fields”",
         "7": "DataGoblins"
        },
        {
         "0": "Erwin",
         "1": "false",
         "2": "https://erwindekreuk.com/?p=11151",
         "3": "https://erwindekreuk.com/2024/04/microsoft-purview-data-governance-public-preview-rolllout/",
         "4": "Mon, 22 Apr 2024 07:48:43 +0000",
         "5": "<p>The post <a href=\"https://erwindekreuk.com/2024/04/microsoft-purview-data-governance-public-preview-rolllout/\">Microsoft Purview Data Governance Public Preview Rolllout</a> appeared first on <a href=\"https://erwindekreuk.com\">Erwin &amp; Data Analytics</a>.</p>",
         "6": "Microsoft Purview Data Governance Public Preview Rolllout",
         "7": "ErwindeKreuk"
        },
        {
         "0": "Erwin",
         "1": "false",
         "2": "https://erwindekreuk.com/?p=10917",
         "3": "https://erwindekreuk.com/2024/01/how-to-use-notebookutils-notebook-runmultiple-in-notebooks-in-microsoft-fabric/",
         "4": "Wed, 31 Jan 2024 18:34:25 +0000",
         "5": "<p>The post <a href=\"https://erwindekreuk.com/2024/01/how-to-use-notebookutils-notebook-runmultiple-in-notebooks-in-microsoft-fabric/\">How to use notebookutils.notebook.runMultiple in Notebooks in Microsoft Fabric?</a> appeared first on <a href=\"https://erwindekreuk.com\">Erwin &amp; Data Analytics</a>.</p>",
         "6": "How to use notebookutils.notebook.runMultiple in Notebooks in Microsoft Fabric?",
         "7": "ErwindeKreuk"
        },
        {
         "0": "Erwin",
         "1": "false",
         "2": "https://erwindekreuk.com/?p=11335",
         "3": "https://erwindekreuk.com/2024/09/my-reflections-on-the-first-european-microsoft-fabric-community-conference/",
         "4": "Sun, 29 Sep 2024 13:47:54 +0000",
         "5": "<p>The post <a href=\"https://erwindekreuk.com/2024/09/my-reflections-on-the-first-european-microsoft-fabric-community-conference/\">My Reflections on the first European Microsoft Fabric Community Conference</a> appeared first on <a href=\"https://erwindekreuk.com\">Erwin &amp; Data Analytics</a>.</p>",
         "6": "My Reflections on the first European Microsoft Fabric Community Conference",
         "7": "ErwindeKreuk"
        },
        {
         "0": "Kurt Buhler",
         "1": "false",
         "2": "5c3a30e0f7939271ddaa7e4f:5f5cf0836ff2a57e923a83b6:66fad75324b37b1fff835850",
         "3": "https://data-goblins.com/power-bi/semantic-link-labs",
         "4": "Tue, 01 Oct 2024 05:00:00 +0000",
         "5": "In this article, I introduce semantic-link-labs, a library based upon \nsemantic-link that you can use in Microsoft Fabric notebooks to help you \nbuild, use, manage, and audit not only semantic models, but also reports \nand other items or parts of Fabric.",
         "6": "Managing Power BI reports or models using semantic-link-labs",
         "7": "DataGoblins"
        },
        {
         "0": "Kurt Buhler",
         "1": "false",
         "2": "5c3a30e0f7939271ddaa7e4f:5f5cf0836ff2a57e923a83b6:66d8c21b042c665c5b32a3ad",
         "3": "https://data-goblins.com/power-bi/copilot-in-power-bi",
         "4": "Thu, 05 Sep 2024 09:00:00 +0000",
         "5": "In this article, I explain Copilot in Fabric and Copilot in Power BI, \nwalking through what it is, how it works, and three common scenarios when \nit might be used. More importantly, I evaluate whether using it over other, \nnon-AI approaches makes sense, and evaluate the current state.",
         "6": "Myths, Magic, and Copilot for Power BI",
         "7": "DataGoblins"
        },
        {
         "0": "Erwin",
         "1": "false",
         "2": "https://erwindekreuk.com/?p=11367",
         "3": "https://erwindekreuk.com/2024/10/high-concurrency-for-notebooks-in-pipelines-with-microsoft-fabric/",
         "4": "Sun, 13 Oct 2024 14:35:39 +0000",
         "5": "<p>The post <a href=\"https://erwindekreuk.com/2024/10/high-concurrency-for-notebooks-in-pipelines-with-microsoft-fabric/\">High Concurrency for Notebooks in Pipelines with Microsoft Fabric</a> appeared first on <a href=\"https://erwindekreuk.com\">Erwin &amp; Data Analytics</a>.</p>",
         "6": "High Concurrency for Notebooks in Pipelines with Microsoft Fabric",
         "7": "ErwindeKreuk"
        },
        {
         "0": "Erwin",
         "1": "false",
         "2": "https://erwindekreuk.com/?p=10900",
         "3": "https://erwindekreuk.com/2024/01/how-to-use-the-pyspark-executor-in-notebooks-in-microsoft-fabric/",
         "4": "Mon, 29 Jan 2024 19:54:31 +0000",
         "5": "<p>The post <a href=\"https://erwindekreuk.com/2024/01/how-to-use-the-pyspark-executor-in-notebooks-in-microsoft-fabric/\">How to use the PySpark executor in Notebooks in Microsoft Fabric?</a> appeared first on <a href=\"https://erwindekreuk.com\">Erwin &amp; Data Analytics</a>.</p>",
         "6": "How to use the PySpark executor in Notebooks in Microsoft Fabric?",
         "7": "ErwindeKreuk"
        },
        {
         "0": "Erwin",
         "1": "false",
         "2": "https://erwindekreuk.com/?p=11017",
         "3": "https://erwindekreuk.com/2024/01/video-learn-live-use-data-factory-pipelines-in-microsoft-fabric/",
         "4": "Wed, 31 Jan 2024 18:29:28 +0000",
         "5": "<p>The post <a href=\"https://erwindekreuk.com/2024/01/video-learn-live-use-data-factory-pipelines-in-microsoft-fabric/\">Video: Learn Live Use Data Factory pipelines in Microsoft Fabric</a> appeared first on <a href=\"https://erwindekreuk.com\">Erwin &amp; Data Analytics</a>.</p>",
         "6": "Video: Learn Live Use Data Factory pipelines in Microsoft Fabric",
         "7": "ErwindeKreuk"
        },
        {
         "0": "Kurt Buhler",
         "1": "false",
         "2": "5c3a30e0f7939271ddaa7e4f:5f5cf0836ff2a57e923a83b6:652f969eed4ff363cb9ccef7",
         "3": "https://data-goblins.com/power-bi/case-specific",
         "4": "Wed, 18 Oct 2023 06:00:00 +0000",
         "5": "In this short article, we look at the consequences of having a \ncase-specific collation in your Power BI semantic model. This is \nparticularly important as Direct Lake models created in the Fabric user \nexperience have a case-sensitive collation applied, automatically.",
         "6": "Case-sensitive models in Power BI: consequences & considerations",
         "7": "DataGoblins"
        },
        {
         "0": "Kurt Buhler",
         "1": "false",
         "2": "5c3a30e0f7939271ddaa7e4f:5f5cf0836ff2a57e923a83b6:652a3580131c32631580dca2",
         "3": "https://data-goblins.com/power-bi/connect-tableau-to-power-bi",
         "4": "Tue, 17 Oct 2023 06:30:00 +0000",
         "5": "In this post, I’ll explain the how and why of:\n\n    * How to connect Tableau to Power BI semantic models.\n\n    * How to connect Tableau to Fabric lakehouses (and other items that\n      have a SQL endpoint).",
         "6": "How to use Tableau with Power BI and Fabric",
         "7": "DataGoblins"
        },
        {
         "0": "Kurt Buhler",
         "1": "false",
         "2": "5c3a30e0f7939271ddaa7e4f:5f5cf0836ff2a57e923a83b6:64ee55c321adf03aa806cc9c",
         "3": "https://data-goblins.com/power-bi/set-column-widths",
         "4": "Tue, 29 Aug 2023 06:00:00 +0000",
         "5": "In this article, I share a quick and easy way to manually set table and \nmatrix column widths in Power BI by using the new Power BI Projects (.pbip) \nfile format. This is an unsupported feature, but it works reliably.",
         "6": "How to set table or matrix column widths in a Power BI report",
         "7": "DataGoblins"
        },
        {
         "0": "Kurt Buhler",
         "1": "false",
         "2": "5c3a30e0f7939271ddaa7e4f:5f5cf0836ff2a57e923a83b6:64df257fa8812b22bed42239",
         "3": "https://data-goblins.com/power-bi/video-games",
         "4": "Tue, 22 Aug 2023 06:00:00 +0000",
         "5": "In this article, we examine why video games provide the perfect data \nsources for learning Fabric, Power BI, and honing your data skills, in \ngeneral.",
         "6": "Analyze Video Game Data for Personal Data Projects",
         "7": "DataGoblins"
        },
        {
         "0": "Kurt Buhler",
         "1": "false",
         "2": "5c3a30e0f7939271ddaa7e4f:5f5cf0836ff2a57e923a83b6:64c7cdcfc2e7af10beba2583",
         "3": "https://data-goblins.com/power-bi/solving-problems",
         "4": "Wed, 02 Aug 2023 06:00:00 +0000",
         "5": "In this article, we discuss how we might have more impact and deliver more \nvalue with data and analytics by shifting our mentality from a focus on \ntechnical problems to equal focus on technical, business and adoption \nproblems.",
         "6": "Solve the Right Problems",
         "7": "DataGoblins"
        },
        {
         "0": "Kurt Buhler",
         "1": "false",
         "2": "5c3a30e0f7939271ddaa7e4f:5f5cf0836ff2a57e923a83b6:63b483cc9964232a031fd37a",
         "3": "https://data-goblins.com/power-bi/format-power-query-automatically",
         "4": "Tue, 01 Aug 2023 06:00:00 +0000",
         "5": "This short post explains how to format Power Query automatically in Tabular \nEditor using a C# Script to call the powerqueryformatter API.",
         "6": "Format Power Query in Power BI (Updated)",
         "7": "DataGoblins"
        },
        {
         "0": "Sandeep Pawar",
         "1": "false",
         "2": "https://fabric.guru/enabling-column-mapping-for-spaces-in-column-names-in-delta-table",
         "3": "https://fabric.guru/enabling-column-mapping-for-spaces-in-column-names-in-delta-table",
         "4": "Thu, 03 Oct 2024 17:42:42 GMT",
         "5": "Enable spaces in column names for Delta tables using column mapping, supporting queries in SQL endpoint and Direct Lake without renaming",
         "6": "Enabling Column Mapping For Spaces In Column Names In Delta Table",
         "7": "SandeepPawarfabricguru"
        },
        {
         "0": "Sandeep Pawar",
         "1": "false",
         "2": "https://fabric.guru/programmatically-removing-updating-default-lakehouse-of-a-fabric-notebook",
         "3": "https://fabric.guru/programmatically-removing-updating-default-lakehouse-of-a-fabric-notebook",
         "4": "Thu, 19 Sep 2024 22:39:51 GMT",
         "5": "Learn how to programmatically remove and update the default lakehouse of a Fabric notebook using `notebookutils.notebook.updateDefinition`",
         "6": "Programmatically Removing & Updating Default Lakehouse Of A Fabric Notebook",
         "7": "SandeepPawarfabricguru"
        },
        {
         "0": "Sandeep Pawar",
         "1": "false",
         "2": "https://fabric.guru/til-fabricrestclient-supports-long-running-operations",
         "3": "https://fabric.guru/til-fabricrestclient-supports-long-running-operations",
         "4": "Fri, 26 Jul 2024 20:54:48 GMT",
         "5": "FabricRestClient now supports Long Running Operations (LRO) to enhance request processing efficiency",
         "6": "TIL: FabricRestClient Supports Long Running Operations",
         "7": "SandeepPawarfabricguru"
        },
        {
         "0": "Sandeep Pawar",
         "1": "false",
         "2": "https://fabric.guru/how-to-attach-a-default-lakehouse-to-a-notebook-in-fabric",
         "3": "https://fabric.guru/how-to-attach-a-default-lakehouse-to-a-notebook-in-fabric",
         "4": "Wed, 24 Jul 2024 21:05:03 GMT",
         "5": "Learn how to configure the default lakehouse for a Fabric notebook session using simple code",
         "6": "How to Attach a Default Lakehouse to a Notebook in Fabric",
         "7": "SandeepPawarfabricguru"
        },
        {
         "0": "Sandeep Pawar",
         "1": "false",
         "2": "https://fabric.guru/calculating-the-size-of-the-dataflow-gen2-staging-lakehouses",
         "3": "https://fabric.guru/calculating-the-size-of-the-dataflow-gen2-staging-lakehouses",
         "4": "Fri, 19 Jul 2024 21:52:17 GMT",
         "5": "Learn how to determine and manage the size of Dataflow Gen2 staging lakehouses to control storage costs",
         "6": "Calculating The Size of The Dataflow Gen2 Staging Lakehouses",
         "7": "SandeepPawarfabricguru"
        },
        {
         "0": "Sandeep Pawar",
         "1": "false",
         "2": "https://fabric.guru/formatting-all-dax-measures-using-semantic-link-in-fabric",
         "3": "https://fabric.guru/formatting-all-dax-measures-using-semantic-link-in-fabric",
         "4": "Fri, 14 Jun 2024 01:11:12 GMT",
         "5": "Learn how to format and save all DAX measures in a semantic model using semantic link and DAX Formatter API",
         "6": "Formatting All DAX Measures Using Semantic Link In Fabric",
         "7": "SandeepPawarfabricguru"
        },
        {
         "0": "Mara Pereira",
         "1": "false",
         "2": "6308acf7eb3cd2998bb99e67",
         "3": "https://www.datapears.com/post/how-to-change-the-colors-of-your-visuals-based-on-the-selected-measure",
         "4": "Wed, 21 Sep 2022 15:55:26 GMT",
         "5": "Have you ever wondered how people do the trick below? Say no more! I'm going to share with you all the tricks that you need to do to...",
         "6": "How to change the colors of your visuals based on the selected measure",
         "7": "DataPears"
        },
        {
         "0": "Mara Pereira",
         "1": "false",
         "2": "62fe7f9e99293832bce8e024",
         "3": "https://www.datapears.com/post/customer-success-story-report-design-matters",
         "4": "Wed, 07 Sep 2022 13:00:44 GMT",
         "5": "In this blog post, I'm going to share with you a recent success story from one of my customers. For privacy reasons I can't mention the...",
         "6": "Customer Success Story - Report design matters",
         "7": "DataPears"
        },
        {
         "0": "Mara Pereira",
         "1": "false",
         "2": "62e3d074531c0b405d5877c3",
         "3": "https://www.datapears.com/post/power-bi-b2b-sharing-your-content-outside-of-your-organisation",
         "4": "Tue, 09 Aug 2022 15:34:59 GMT",
         "5": "In the last few weeks, I've had a lot of questions from customers around sharing content outside of their organisation (sharing to their...",
         "6": "Power BI B2B - Sharing your content outside of your organisation",
         "7": "DataPears"
        },
        {
         "0": "Mara Pereira",
         "1": "false",
         "2": "62e3e12634b7a0fb571c7718",
         "3": "https://www.datapears.com/post/creative-ways-to-show-filter-selections-on-your-power-bi-reports",
         "4": "Tue, 02 Aug 2022 14:23:44 GMT",
         "5": "When I'm developing reports, I'm asked multiple times to \"hide\" the slicers/filters from the report page. Usually this is to make space...",
         "6": "Creative ways to show filter selections on your Power BI reports",
         "7": "DataPears"
        },
        {
         "0": "Kurt Buhler",
         "1": "false",
         "2": "5c3a30e0f7939271ddaa7e4f:5f5cf0836ff2a57e923a83b6:661e1ca1cd92c94e1685b6ad",
         "3": "https://data-goblins.com/power-bi/fabric-expert",
         "4": "Tue, 16 Apr 2024 06:00:00 +0000",
         "5": "In this article, I share some unfiltered thoughts about why it’s \nunrealistic to expect one person to know everything in Fabric, and concerns \nI have about unrealistic expectations being put in the market regarding \nFabric.",
         "6": "Fabric is a team sport",
         "7": "DataGoblins"
        },
        {
         "0": "Kurt Buhler",
         "1": "false",
         "2": "5c3a30e0f7939271ddaa7e4f:5f5cf0836ff2a57e923a83b6:65d9b590347ff03a522883a6",
         "3": "https://data-goblins.com/power-bi/fabric-semantic-models",
         "4": "Tue, 27 Feb 2024 07:04:00 +0000",
         "5": "In this article, I explain what it means for your current and future \nsemantic models if you choose for Fabric. This post isn’t meant to market \nFabric to you; it’s purely informative.",
         "6": "What Microsoft Fabric means for your semantic models: New options and approaches",
         "7": "DataGoblins"
        },
        {
         "0": "Erwin",
         "1": "false",
         "2": "https://erwindekreuk.com/?p=10939",
         "3": "https://erwindekreuk.com/2024/01/high-concurrency-notebook-activity-in-microsoft-fabric/",
         "4": "Mon, 29 Jan 2024 19:48:30 +0000",
         "5": "<p>The post <a href=\"https://erwindekreuk.com/2024/01/high-concurrency-notebook-activity-in-microsoft-fabric/\">High Concurrency Notebook Activity in Microsoft Fabric</a> appeared first on <a href=\"https://erwindekreuk.com\">Erwin &amp; Data Analytics</a>.</p>",
         "6": "High Concurrency Notebook Activity in Microsoft Fabric",
         "7": "ErwindeKreuk"
        },
        {
         "0": "Sandeep Pawar",
         "1": "false",
         "2": "https://fabric.guru/ai-skillet-local-fabric-ai-skills-app",
         "3": "https://fabric.guru/ai-skillet-local-fabric-ai-skills-app",
         "4": "Fri, 30 Aug 2024 19:50:09 GMT",
         "5": "Local AI Skills with Fabric's endpoint and Gradio to create interactive plots. Steps detailed for building your own AI Skillet app",
         "6": "AI Skillet : Local Fabric AI Skills App",
         "7": "SandeepPawarfabricguru"
        },
        {
         "0": "Sandeep Pawar",
         "1": "false",
         "2": "https://fabric.guru/quick-tip-using-notebookutils-to-get-fabric-lakehouse-properties",
         "3": "https://fabric.guru/quick-tip-using-notebookutils-to-get-fabric-lakehouse-properties",
         "4": "Mon, 26 Aug 2024 20:48:47 GMT",
         "5": "Learn to use NotebookUtils `getWithProperties()` method to fetch detailed properties of a Fabric lakehouse including sqlendpoint connection strind",
         "6": "Quick Tip : Using NotebookUtils To Get Fabric Lakehouse Properties",
         "7": "SandeepPawarfabricguru"
        },
        {
         "0": "Sandeep Pawar",
         "1": "false",
         "2": "https://fabric.guru/quick-tip-validate-runmultiple-dag-in-fabric",
         "3": "https://fabric.guru/quick-tip-validate-runmultiple-dag-in-fabric",
         "4": "Fri, 23 Aug 2024 15:44:13 GMT",
         "5": "Learn how to validate runMultiple DAGs in Microsoft Fabric using notebookutils.validateDAG before execution",
         "6": "Quick Tip : Validate runMultiple DAG In Fabric",
         "7": "SandeepPawarfabricguru"
        },
        {
         "0": "Sandeep Pawar",
         "1": "false",
         "2": "https://fabric.guru/asking-multilingual-questions-to-ai-skills-using-azure-ai-services",
         "3": "https://fabric.guru/asking-multilingual-questions-to-ai-skills-using-azure-ai-services",
         "4": "Thu, 15 Aug 2024 17:07:15 GMT",
         "5": "Optimize AI in Fabric notebooks for multilingual queries with Azure AI Services. Translate, query, and analyze effortlessly",
         "6": "Asking Multilingual Questions To AI Skills Using Azure AI Services",
         "7": "SandeepPawarfabricguru"
        },
        {
         "0": "Sandeep Pawar",
         "1": "false",
         "2": "https://fabric.guru/unstructured-to-structured-1-extracting-list-of-fabric-apis-using-llm",
         "3": "https://fabric.guru/unstructured-to-structured-1-extracting-list-of-fabric-apis-using-llm",
         "4": "Sat, 19 Oct 2024 00:39:07 GMT",
         "5": "Learn to convert unstructured data to structured by extracting Fabric APIs using LLM. Code examples and techniques featured",
         "6": "Unstructured To Structured 1 : Extracting List Of Fabric APIs Using LLM",
         "7": "SandeepPawarfabricguru"
        },
        {
         "0": "Sandeep Pawar",
         "1": "false",
         "2": "https://fabric.guru/machine-learning-model-scoring-across-workspaces-in-fabric",
         "3": "https://fabric.guru/machine-learning-model-scoring-across-workspaces-in-fabric",
         "4": "Mon, 07 Oct 2024 03:15:50 GMT",
         "5": "Learn to score machine learning models across Microsoft Fabric workspaces using abfss paths as a workaround",
         "6": "Machine Learning Model Scoring Across Workspaces in Fabric",
         "7": "SandeepPawarfabricguru"
        },
        {
         "0": "Mara Pereira",
         "1": "false",
         "2": "60d74904ea2c3c0015d02904",
         "3": "https://www.datapears.com/post/govern-content-in-power-bi-restrict-creation-and-sharing-of-reports-datasets-and-dataflows",
         "4": "Wed, 30 Jun 2021 16:55:43 GMT",
         "5": "Understanding the details behind all the different roles and access controls you can have when governing your Power BI content can be a...",
         "6": "Govern content in Power BI - Restrict creation and sharing of reports, datasets and dataflows",
         "7": "DataPears"
        },
        {
         "0": "Mara Pereira",
         "1": "false",
         "2": "6060971773f7240015d3c843",
         "3": "https://www.datapears.com/post/power-bi-power-automate-everything-you-need-to-know",
         "4": "Mon, 14 Jun 2021 13:51:34 GMT",
         "5": "If you follow my blog posts, you know already that I'm a huge fan of the integrations of Power BI with the Power Platform, specially...",
         "6": "Power BI + Power Automate - Everything you need to know",
         "7": "DataPears"
        },
        {
         "0": "Erwin",
         "1": "false",
         "2": "https://erwindekreuk.com/?p=10892",
         "3": "https://erwindekreuk.com/2024/01/data-community-austria/",
         "4": "Fri, 26 Jan 2024 15:30:16 +0000",
         "5": "<p>The post <a href=\"https://erwindekreuk.com/2024/01/data-community-austria/\">Data Community Austria</a> appeared first on <a href=\"https://erwindekreuk.com\">Erwin &amp; Data Analytics</a>.</p>",
         "6": "Data Community Austria",
         "7": "ErwindeKreuk"
        },
        {
         "0": "Erwin",
         "1": "false",
         "2": "https://erwindekreuk.com/?p=10868",
         "3": "https://erwindekreuk.com/2024/01/my-2023-a-year-of-learning-sharing-and-growing/",
         "4": "Tue, 02 Jan 2024 13:04:28 +0000",
         "5": "<p>The post <a href=\"https://erwindekreuk.com/2024/01/my-2023-a-year-of-learning-sharing-and-growing/\">My 2023: A Year of Learning, Sharing and Growing</a> appeared first on <a href=\"https://erwindekreuk.com\">Erwin &amp; Data Analytics</a>.</p>",
         "6": "My 2023: A Year of Learning, Sharing and Growing",
         "7": "ErwindeKreuk"
        },
        {
         "0": "Sandeep Pawar",
         "1": "false",
         "2": "https://fabric.guru/visualizing-fabric-domain-lineage",
         "3": "https://fabric.guru/visualizing-fabric-domain-lineage",
         "4": "Wed, 18 Sep 2024 21:20:25 GMT",
         "5": "Learn how to visualize and trace domain lineage in Fabric using the Domains API for a decentralized data architecture",
         "6": "Visualizing Fabric Domain Lineage",
         "7": "SandeepPawarfabricguru"
        },
        {
         "0": "Sandeep Pawar",
         "1": "false",
         "2": "https://fabric.guru/querying-sql-endpoint-of-fabric-lakehousewarehouse-in-a-notebook-with-t-sql",
         "3": "https://fabric.guru/querying-sql-endpoint-of-fabric-lakehousewarehouse-in-a-notebook-with-t-sql",
         "4": "Wed, 04 Sep 2024 18:59:22 GMT",
         "5": "How to query Fabric lakehouse warehouse endpoints in a notebook using T-SQL to detect sqlendpoint sync issues.",
         "6": "Querying SQL Endpoint of Fabric Lakehouse/Warehouse In A Notebook With T-SQL",
         "7": "SandeepPawarfabricguru"
        },
        {
         "0": "Kurt Buhler",
         "1": "false",
         "2": "5c3a30e0f7939271ddaa7e4f:5f5cf0836ff2a57e923a83b6:65155b355f4941026d60aef0",
         "3": "https://data-goblins.com/power-bi/whats-new",
         "4": "Sun, 08 Oct 2023 06:00:00 +0000",
         "5": "If you feel like the pace and volume of updates surrounding Power BI have \nincreased, you’re not alone. In this article, I discuss why many people \nfeel like “it’s just too much” lately, why that’s a problem, and what we \nmight do about it.",
         "6": "Does it feel like too much?",
         "7": "DataGoblins"
        },
        {
         "0": "Kurt Buhler",
         "1": "false",
         "2": "5c3a30e0f7939271ddaa7e4f:5f5cf0836ff2a57e923a83b6:64f6d33ce96b3e765207be8d",
         "3": "https://data-goblins.com/power-bi/kpi-templates",
         "4": "Tue, 05 Sep 2023 07:05:32 +0000",
         "5": "In this collaboration with Štěpán Rešl, I share some tips and templates to \ndesign effective KPI visuals.",
         "6": "KPIs and cards in Power BI",
         "7": "DataGoblins"
        },
        {
         "0": "Mara Pereira",
         "1": "false",
         "2": "60abc7e5dda927001553a014",
         "3": "https://www.datapears.com/post/my-views-on-power-bi-core-skills",
         "4": "Tue, 25 May 2021 16:46:27 GMT",
         "5": "I'm going to start this post by saying that it will be a bit different from the posts I've written before. Today, I will be sharing with...",
         "6": "My views on Power BI core skills",
         "7": "DataPears"
        },
        {
         "0": "Mara Pereira",
         "1": "false",
         "2": "609e85b6ede2ad0015e89944",
         "3": "https://www.datapears.com/post/power-bi-report-development-101-part-2",
         "4": "Tue, 18 May 2021 12:55:14 GMT",
         "5": "Last month I wrote the first part of this blog post, which is intended for users that are in the beginning of their Power BI journey....",
         "6": "Power BI Report Development 101 - Part 2",
         "7": "DataPears"
        },
        {
         "0": "Mara Pereira",
         "1": "false",
         "2": "6073007da588c400156c9391",
         "3": "https://www.datapears.com/post/data-storytelling-in-power-bi-bar-charts",
         "4": "Tue, 13 Apr 2021 18:09:31 GMT",
         "5": "\"My report doesn't look that nice, and I have no idea why or how to make it look better...\" Are you familiar with this phrase? We've all...",
         "6": "Data Storytelling in Power BI - Bar Charts",
         "7": "DataPears"
        },
        {
         "0": "Mara Pereira",
         "1": "false",
         "2": "6068adbc5423100015ba6e78",
         "3": "https://www.datapears.com/post/power-bi-report-development-101-part-1",
         "4": "Sat, 03 Apr 2021 19:53:06 GMT",
         "5": "Are you new to Power BI? Maybe you've been using it for some time but you're still not sure how the end to end process works? This...",
         "6": "Power BI Report Development 101 - Part 1",
         "7": "DataPears"
        },
        {
         "0": "Mara Pereira",
         "1": "false",
         "2": "645c7ce62980ba860cb87a65",
         "3": "https://www.datapears.com/post/error-bars-tricks-bar-chart-with-rounded-corners",
         "4": "Mon, 15 May 2023 12:48:38 GMT",
         "5": "If you’ve been following my posts, you probably know by now that one of the things that really annoys me in Power BI is not being able to...",
         "6": "Error bars tricks - Bar chart with rounded corners",
         "7": "DataPears"
        },
        {
         "0": "Mara Pereira",
         "1": "false",
         "2": "64535c58bd11140eb73e51d7",
         "3": "https://www.datapears.com/post/design-vs-function-striking-the-right-balance-in-power-bi-report-design",
         "4": "Thu, 04 May 2023 09:21:47 GMT",
         "5": "Welcome to my latest post, where we are going to explore the delicate balance between design and function in Power BI report creation!...",
         "6": "Design vs. Function: Striking the right balance in Power BI report design",
         "7": "DataPears"
        },
        {
         "0": "Mara Pereira",
         "1": "false",
         "2": "6425a112244c809c74dd0264",
         "3": "https://www.datapears.com/post/the-importance-of-user-experience-in-reporting-and-power-bi-a-must-read-guide",
         "4": "Thu, 30 Mar 2023 15:34:16 GMT",
         "5": "Have you ever had a moment when you looked at a report, only to feel overwhelmed by the clutter and confusion?  If your answer is \"yes,...",
         "6": "The Importance of User Experience in Reporting and Power BI - A Must-Read Guide!",
         "7": "DataPears"
        },
        {
         "0": "Mara Pereira",
         "1": "false",
         "2": "63089cc75affdfabca840943",
         "3": "https://www.datapears.com/post/text-based-conditional-formatting-in-power-bi",
         "4": "Tue, 08 Nov 2022 16:50:18 GMT",
         "5": "Have you ever wondered if you can apply conditional formatting based on a text field/measure instead of a numeric field/measure? If your...",
         "6": "Text based conditional formatting in Power BI",
         "7": "DataPears"
        },
        {
         "0": "Erwin",
         "1": "false",
         "2": "https://erwindekreuk.com/?p=11429",
         "3": "https://erwindekreuk.com/2024/10/microsoft-purview-pricing-is-changing/",
         "4": "Thu, 17 Oct 2024 14:59:25 +0000",
         "5": "<p>The post <a href=\"https://erwindekreuk.com/2024/10/microsoft-purview-pricing-is-changing/\">Microsoft Purview pricing is changing!</a> appeared first on <a href=\"https://erwindekreuk.com\">Erwin &amp; Data Analytics</a>.</p>",
         "6": "Microsoft Purview pricing is changing!",
         "7": "ErwindeKreuk"
        },
        {
         "0": "Mara Pereira",
         "1": "false",
         "2": "630383299acb961786f90bb2",
         "3": "https://www.datapears.com/post/updating-your-bookmarks-in-power-bi-a-pain-about-to-be-solved",
         "4": "Wed, 26 Oct 2022 13:02:38 GMT",
         "5": "Probably one of the most annoying things about creating bookmarks is... updating them! However, there is a trick that will make your life...",
         "6": "Updating your bookmarks in Power BI... A pain about to be solved!",
         "7": "DataPears"
        },
        {
         "0": "Mara Pereira",
         "1": "false",
         "2": "62f658f3152e384d6567ff79",
         "3": "https://www.datapears.com/post/bookmarks-in-power-bi-everything-you-need-to-know",
         "4": "Wed, 28 Sep 2022 13:00:50 GMT",
         "5": "I'm going to start this blog post with a very strong statement: Bookmarks are the best thing since sliced bread! Yes, I know some of you...",
         "6": "Bookmarks in Power BI - Everything you need to know",
         "7": "DataPears"
        },
        {
         "0": "Mara Pereira",
         "1": "false",
         "2": "616d86d17d5c0a001739c040",
         "3": "https://www.datapears.com/post/power-bi-query-reduction-add-an-apply-all-filters-button-to-your-report",
         "4": "Tue, 19 Oct 2021 16:07:15 GMT",
         "5": "Performance, performance, performance, everyone loves a report that has good performance right? Specially if we are talking about reports...",
         "6": "Power BI query reduction - Add an \"Apply all filters\" button to your report",
         "7": "DataPears"
        },
        {
         "0": "Mara Pereira",
         "1": "false",
         "2": "615341b6546ce40016a9c8f8",
         "3": "https://www.datapears.com/post/power-bi-adoption-roadmap-assessment",
         "4": "Tue, 28 Sep 2021 16:55:19 GMT",
         "5": "After some time off from blogging, I'm finally back! During the last couple of months, I've been working on something a little bit...",
         "6": "Power BI Adoption Roadmap Assessment",
         "7": "DataPears"
        },
        {
         "0": "Sandeep Pawar",
         "1": "false",
         "2": "https://fabric.guru/use-ai-skills-as-cell-magic-in-fabric-notebook",
         "3": "https://fabric.guru/use-ai-skills-as-cell-magic-in-fabric-notebook",
         "4": "Wed, 07 Aug 2024 22:35:35 GMT",
         "5": "Discover how to use AI Skills in Microsoft Fabric Notebook for building GenAI experiences using lakehouse data",
         "6": "Use AI Skills As Cell Magic In Fabric Notebook",
         "7": "SandeepPawarfabricguru"
        },
        {
         "0": "Sandeep Pawar",
         "1": "false",
         "2": "https://fabric.guru/quick-test-daft-with-ray-in-fabric",
         "3": "https://fabric.guru/quick-test-daft-with-ray-in-fabric",
         "4": "Sun, 04 Aug 2024 01:50:52 GMT",
         "5": "Exploring Daft and Ray in Fabric for distributed data processing using the Common Government dataset from Tableau's BI Benchmark",
         "6": "Quick Test : Daft With Ray In Fabric",
         "7": "SandeepPawarfabricguru"
        },
        {
         "0": "Marthe Moengen",
         "1": "false",
         "2": "http://data-ascend.com/?p=1214",
         "3": "https://data-ascend.com/2024/01/08/how-do-you-set-up-your-data-mesh-in-microsoft-fabric/",
         "4": "Mon, 08 Jan 2024 09:00:00 +0000",
         "5": "How do you set up your data mesh inside of Microsoft Fabric? What do you do with domains, data products, federated governance and data platform as a service?",
         "6": "How do you set up your Data Mesh in Microsoft Fabric?",
         "7": "DATAASCEND"
        },
        {
         "0": "Mara Pereira",
         "1": "false",
         "2": "62dfb9631b9a970c0d7ce118",
         "3": "https://www.datapears.com/post/power-bi-viz-tricks-line-chart-target-areas",
         "4": "Wed, 27 Jul 2022 15:16:45 GMT",
         "5": "A few months ago, I was asked to build a line chart with target areas, something like the chart below (which by the way will be our final...",
         "6": "Power BI Viz Tricks - Line chart target areas",
         "7": "DataPears"
        },
        {
         "0": "Mara Pereira",
         "1": "false",
         "2": "62c81f4a685fcefdc4a3584f",
         "3": "https://www.datapears.com/post/where-to-find-sample-data-online",
         "4": "Tue, 12 Jul 2022 15:48:30 GMT",
         "5": "Have you ever struggled to find sample data to play with in Power BI? Did you spend hours (sounds crazy, but it happened to me too!) just...",
         "6": "Where to find sample data online",
         "7": "DataPears"
        },
        {
         "0": "Sandeep Pawar",
         "1": "false",
         "2": "https://fabric.guru/til-run-selected-code-in-fabric-notebook",
         "3": "https://fabric.guru/til-run-selected-code-in-fabric-notebook",
         "4": "Fri, 02 Aug 2024 18:50:36 GMT",
         "5": "Learn how to run selected code in a Fabric Notebook cell without executing the entire cell",
         "6": "TIL: Run Selected Code In Fabric Notebook",
         "7": "SandeepPawarfabricguru"
        },
        {
         "0": "Sandeep Pawar",
         "1": "false",
         "2": "https://fabric.guru/using-fsspec-to-define-onelake-filesystem-in-fabric",
         "3": "https://fabric.guru/using-fsspec-to-define-onelake-filesystem-in-fabric",
         "4": "Tue, 30 Jul 2024 13:52:57 GMT",
         "5": "Learn how to define the OneLake filesystem using fsspec and why it matters",
         "6": "Using fsspec To Define OneLake Filesystem in Fabric",
         "7": "SandeepPawarfabricguru"
        },
        {
         "0": "Sandeep Pawar",
         "1": "false",
         "2": "https://fabric.guru/quick-test-fabric-ai-skills-as-a-function",
         "3": "https://fabric.guru/quick-test-fabric-ai-skills-as-a-function",
         "4": "Fri, 09 Aug 2024 22:16:03 GMT",
         "5": "Integrate AI Skills in Fabric notebooks to generate data using functions for structured output",
         "6": "Quick Test : Fabric AI Skills As A Function",
         "7": "SandeepPawarfabricguru"
        },
        {
         "0": "Sandeep Pawar",
         "1": "false",
         "2": "https://fabric.guru/introduction-to-semantic-link",
         "3": "https://fabric.guru/introduction-to-semantic-link",
         "4": "Thu, 08 Aug 2024 18:47:53 GMT",
         "5": "An introduction to Semantic Link with various community sessions and presentations on the topic",
         "6": "Introduction To Semantic Link",
         "7": "SandeepPawarfabricguru"
        },
        {
         "0": "Kurt Buhler",
         "1": "false",
         "2": "5c3a30e0f7939271ddaa7e4f:5f5cf0836ff2a57e923a83b6:6592b1aa9641685713bfaf6d",
         "3": "https://data-goblins.com/power-bi/quality",
         "4": "Thu, 04 Jan 2024 07:00:00 +0000",
         "5": "In this article, I discuss why quality is a often problem for data and \nanalytics, and how DataOps can help.",
         "6": "The Quality Problem: A Call-to-Arms",
         "7": "DataGoblins"
        },
        {
         "0": "Kurt Buhler",
         "1": "false",
         "2": "5c3a30e0f7939271ddaa7e4f:5f5cf0836ff2a57e923a83b6:65807faabb66df4cd0dbedf6",
         "3": "https://data-goblins.com/power-bi/2023",
         "4": "Tue, 19 Dec 2023 07:00:00 +0000",
         "5": "This short update shares some content I've published elsewhere this year \nwhich you might find helpful.",
         "6": "Need some more goblins?",
         "7": "DataGoblins"
        },
        {
         "0": "MK",
         "1": "false",
         "2": "602d09d768464100173b3e64",
         "3": "https://www.elegantbi.com/post/bestpracticerulesavings",
         "4": "Tue, 23 Feb 2021 17:00:07 GMT",
         "5": "Learn how to quantify the savings of following a particular best practice rule.",
         "6": "Quantify the Savings of Best Practice Rules",
         "7": "ElegantBI"
        },
        {
         "0": "MK",
         "1": "false",
         "2": "601c23f7a87b640017038792",
         "3": "https://www.elegantbi.com/post/datadictionaryreinvented",
         "4": "Mon, 08 Feb 2021 16:18:17 GMT",
         "5": "A new method to create an automated data dictionary which also works for Power BI Premium models.",
         "6": "Automated Data Dictionary - Reinvented",
         "7": "ElegantBI"
        },
        {
         "0": "MK",
         "1": "false",
         "2": "600453319862bb00bf9e75f0",
         "3": "https://www.elegantbi.com/post/vpaxtotabulareditor",
         "4": "Mon, 18 Jan 2021 14:30:59 GMT",
         "5": "Import Vertipaq Analyzer data from a .vpax file into Tabular Editor.",
         "6": "Import VPAX Data into Tabular Editor",
         "7": "ElegantBI"
        },
        {
         "0": "MK",
         "1": "false",
         "2": "5fc52a95242427001736c220",
         "3": "https://www.elegantbi.com/post/advancedfiltering",
         "4": "Mon, 14 Dec 2020 14:00:36 GMT",
         "5": "View common advanced filtering patterns used in Tabular Editor.",
         "6": "Advanced Filtering Examples in Tabular Editor",
         "7": "ElegantBI"
        },
        {
         "0": "Marthe Moengen",
         "1": "false",
         "2": "http://data-ascend.com/?p=575",
         "3": "https://data-ascend.com/2023/02/15/power-bi-pro-or-power-bi-premium-what-license-should-you-choose/",
         "4": "Wed, 15 Feb 2023 08:47:52 +0000",
         "5": "Power BI Pro or Power BI Premium - what license should you choose?",
         "6": "Power BI Pro or Power BI Premium – what license should you choose?",
         "7": "DATAASCEND"
        },
        {
         "0": "Marthe Moengen",
         "1": "false",
         "2": "http://data-ascend.com/?p=571",
         "3": "https://data-ascend.com/2023/02/01/source-control-in-power-bi-what-are-your-options/",
         "4": "Wed, 01 Feb 2023 09:39:00 +0000",
         "5": "Source Control in Power BI - What are your options?",
         "6": "Source Control in Power BI – What are your options?",
         "7": "DATAASCEND"
        },
        {
         "0": "MK",
         "1": "false",
         "2": "60fd7994b62f970015864e30",
         "3": "https://www.elegantbi.com/post/convertdatasources",
         "4": "Mon, 26 Jul 2021 14:01:03 GMT",
         "5": "Easily overcome a potential data source issue when migrating to Power BI Premium.",
         "6": "Convert Data Sources for Premium Migration",
         "7": "ElegantBI"
        },
        {
         "0": "MK",
         "1": "false",
         "2": "60cf38069af765001676751d",
         "3": "https://www.elegantbi.com/post/reportlevelmeasures",
         "4": "Mon, 21 Jun 2021 13:22:47 GMT",
         "5": "Learn how to push your report level measures into your tabular model!",
         "6": "Migrating Report-Level Measures to the Model",
         "7": "ElegantBI"
        },
        {
         "0": "MK",
         "1": "false",
         "2": "60a52054dbb9e9001566a163",
         "3": "https://www.elegantbi.com/post/exportbparesults",
         "4": "Mon, 24 May 2021 14:00:44 GMT",
         "5": "Learn how to export the results of the Best Practice Analyzer.",
         "6": "Export Best Practice Analyzer Results",
         "7": "ElegantBI"
        },
        {
         "0": "MK",
         "1": "false",
         "2": "607fcf3617cf0600576a5028",
         "3": "https://www.elegantbi.com/post/descriptions",
         "4": "Mon, 26 Apr 2021 13:00:48 GMT",
         "5": "Learn the best method for adding descriptions to objects in your model.",
         "6": "The Best Way to Manage Descriptions",
         "7": "ElegantBI"
        },
        {
         "0": "MK",
         "1": "false",
         "2": "66052b7ed936fa5319fd5532",
         "3": "https://www.elegantbi.com/post/direct-lake-migration",
         "4": "Mon, 01 Apr 2024 14:20:15 GMT",
         "5": "We are all familiar with import and DirectQuery as query modes for Analysis Services and Power BI semantic models. However, with the...",
         "6": "Direct Lake Migration",
         "7": "ElegantBI"
        },
        {
         "0": "MK",
         "1": "false",
         "2": "629f26563371261a21302272",
         "3": "https://www.elegantbi.com/post/processobjects",
         "4": "Mon, 13 Jun 2022 13:31:05 GMT",
         "5": "Learn how to automate the processing of tables/partitions which need to be processed in your model.",
         "6": "Processing Unprocessed Objects",
         "7": "ElegantBI"
        },
        {
         "0": "Marthe Moengen",
         "1": "false",
         "2": "http://data-ascend.com/?p=783",
         "3": "https://data-ascend.com/2023/06/16/what-are-dataflows-gen-2-in-fabric/",
         "4": "Fri, 16 Jun 2023 07:51:50 +0000",
         "5": "What are Dataflows Gen 2 in Fabric? How does it differ from dataflows Gen 1?",
         "6": "What are Dataflows Gen 2 in Fabric?",
         "7": "DATAASCEND"
        },
        {
         "0": "MK",
         "1": "false",
         "2": "6040c3f757bf9000159dcb13",
         "3": "https://www.elegantbi.com/post/canceldatarefreshado",
         "4": "Tue, 06 Apr 2021 13:56:09 GMT",
         "5": "Learn how to cancel a Power BI Premium data refresh using Azure DevOps.",
         "6": "Cancelling a Power BI Data Refresh Using Azure DevOps",
         "7": "ElegantBI"
        },
        {
         "0": "MK",
         "1": "false",
         "2": "6050e9c6c974fc00156d398f",
         "3": "https://www.elegantbi.com/post/datarefreshintabulareditor",
         "4": "Wed, 17 Mar 2021 14:00:37 GMT",
         "5": "A simple way to process table(s), partition(s) or the model in Tabular Editor.",
         "6": "Data Refresh in Tabular Editor",
         "7": "ElegantBI"
        },
        {
         "0": "Marthe Moengen",
         "1": "false",
         "2": "http://data-ascend.com/?p=905",
         "3": "https://data-ascend.com/2023/10/02/join-wits-who-lunch-on-meetup/",
         "4": "Mon, 02 Oct 2023 06:51:06 +0000",
         "5": "Do you live close to Oslo and want to join WITs for lunch network?",
         "6": "Join WITs Who Lunch on Meetup!",
         "7": "DATAASCEND"
        },
        {
         "0": "MK",
         "1": "false",
         "2": "6169639eb511530016a966ac",
         "3": "https://www.elegantbi.com/post/reportanalyzer",
         "4": "Mon, 18 Oct 2021 13:01:20 GMT",
         "5": "A productivity tool for analyzing a Power BI report's performance.",
         "6": "Report Analyzer",
         "7": "ElegantBI"
        },
        {
         "0": "MK",
         "1": "false",
         "2": "6123587c9631ef001665ac1e",
         "3": "https://www.elegantbi.com/post/exportreportobjects",
         "4": "Mon, 23 Aug 2021 13:30:05 GMT",
         "5": "Learn how to easily export metadata of visuals, filters and other objects within your Power BI report.",
         "6": "Export Power BI Report Objects",
         "7": "ElegantBI"
        },
        {
         "0": "MK",
         "1": "false",
         "2": "6043cda13b3a8f002b7d5e8c",
         "3": "https://www.elegantbi.com/post/canceldatarefreshte",
         "4": "Tue, 09 Mar 2021 15:00:20 GMT",
         "5": "Learn how to programmatically cancel a dataset refresh using Tabular Editor.",
         "6": "Cancelling a Dataset Refresh Using Tabular Editor",
         "7": "ElegantBI"
        },
        {
         "0": "MK",
         "1": "false",
         "2": "603e627b78742a0015f134c8",
         "3": "https://www.elegantbi.com/post/canceldatarefresh",
         "4": "Thu, 04 Mar 2021 15:00:51 GMT",
         "5": "How to cancel a Power BI Premium dataset refresh.",
         "6": "Cancelling a Power BI Premium Dataset Refresh",
         "7": "ElegantBI"
        },
        {
         "0": "MK",
         "1": "false",
         "2": "626e3be7e8864cb6f72e97ec",
         "3": "https://www.elegantbi.com/post/xmlamisconceptions",
         "4": "Mon, 02 May 2022 13:01:58 GMT",
         "5": "Learn the importance of enabling XMLA Read/Write",
         "6": "Rectifying the Misconceptions of XMLA Read/Write",
         "7": "ElegantBI"
        },
        {
         "0": "MK",
         "1": "false",
         "2": "617fb51897754d001691b8f2",
         "3": "https://www.elegantbi.com/post/reportanalyzerrecos",
         "4": "Mon, 01 Nov 2021 14:00:43 GMT",
         "5": "Report Analyzer now has a recommendations engine for report best practices!",
         "6": "Report Analyzer Recos",
         "7": "ElegantBI"
        },
        {
         "0": "MK",
         "1": "false",
         "2": "607ea7f5b4a8b600570253fa",
         "3": "https://www.elegantbi.com/post/datadictionaryexcel",
         "4": "Tue, 20 Apr 2021 12:00:59 GMT",
         "5": "Learn how to create an automated data dictionary via Excel.",
         "6": "Automated Data Dictionary via Excel",
         "7": "ElegantBI"
        },
        {
         "0": "MK",
         "1": "false",
         "2": "60292d7715fad1005908cfa3",
         "3": "https://www.elegantbi.com/post/processingmanager",
         "4": "Mon, 12 Apr 2021 13:29:55 GMT",
         "5": "A tool for managing the processing of large tabular models.",
         "6": "Processing Manager",
         "7": "ElegantBI"
        },
        {
         "0": "Marthe Moengen",
         "1": "false",
         "2": "http://data-ascend.com/?p=746",
         "3": "https://data-ascend.com/2023/04/11/wits-who-lunch/",
         "4": "Tue, 11 Apr 2023 07:44:44 +0000",
         "5": "Do you live close to Oslo and want to join WITs for lunch?",
         "6": "WITs who Lunch",
         "7": "DATAASCEND"
        }
       ],
       "schema": [
        {
         "key": "0",
         "name": "author",
         "type": "string"
        },
        {
         "key": "1",
         "name": "guidislink",
         "type": "boolean"
        },
        {
         "key": "2",
         "name": "id",
         "type": "string"
        },
        {
         "key": "3",
         "name": "link",
         "type": "string"
        },
        {
         "key": "4",
         "name": "published",
         "type": "string"
        },
        {
         "key": "5",
         "name": "summary",
         "type": "string"
        },
        {
         "key": "6",
         "name": "title",
         "type": "string"
        },
        {
         "key": "7",
         "name": "blog",
         "type": "string"
        }
       ],
       "truncated": false
      },
      "wranglerEntryContext": {
       "candidateVariableNames": [
        "df"
       ],
       "dataframeType": "pyspark"
      }
     },
     "type": "Synapse.DataFrame"
    }
   },
   "version": "0.1"
  },
  "widgets": {}
 },
 "nbformat": 4,
 "nbformat_minor": 5
}
